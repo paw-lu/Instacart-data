{
 "cells": [
  {
   "cell_type": "code",
   "execution_count": 17,
   "metadata": {},
   "outputs": [],
   "source": [
    "import pandas as pd\n",
    "import matplotlib.pyplot as plt\n",
    "import numpy as np\n",
    "import re\n",
    "products = pd.read_csv('products.csv')\n",
    "order_products = pd.read_csv('order_products__prior.csv')\n",
    "orders = pd.read_csv('orders.csv')\n",
    "\n",
    "products = products[['product_name', 'product_id']]\n",
    "order_products = order_products[['product_id', 'order_id']]\n",
    "orders = orders[['order_id', 'order_hour_of_day', 'order_dow']]\n",
    "orders = orders.set_index('order_id')"
   ]
  },
  {
   "cell_type": "code",
   "execution_count": 45,
   "metadata": {},
   "outputs": [],
   "source": [
    "row = 0\n",
    "cookie_id = []\n",
    "cereal_id = []\n",
    "ice_cream_id = []\n",
    "coffee_id = []\n",
    "apple_id = []\n",
    "broccoli_id = []\n",
    "for product in products['product_name']:\n",
    "    if re.search('[Cc]ookie', product) is not None:\n",
    "        cookie_id.append(products['product_id'].loc[row])\n",
    "    if re.search('[Cc]ereal', product) is not None:\n",
    "        cereal_id.append(products['product_id'].loc[row])\n",
    "    if re.search('[Ii]ce [Cc]ream', product) is not None:\n",
    "        ice_cream_id.append(products['product_id'].loc[row])\n",
    "    if re.search('[Cc]offee', product) is not None:\n",
    "        coffee_id.append(products['product_id'].loc[row])\n",
    "    if re.search('[Aa]pple', product) is not None:\n",
    "        apple_id.append(products['product_id'].loc[row])\n",
    "    if re.search('[Bb]roccoli', product) is not None:\n",
    "        broccoli_id.append(products['product_id'].loc[row])\n",
    "    row += 1"
   ]
  },
  {
   "cell_type": "code",
   "execution_count": 46,
   "metadata": {},
   "outputs": [],
   "source": [
    "def times_from_id(prod_id_list):\n",
    "    hours = []\n",
    "    for prod in prod_id_list:\n",
    "        is_prod_id = order_products['product_id'] == prod\n",
    "        order_id = order_products[is_prod_id]\n",
    "\n",
    "        for order in order_id['order_id']:\n",
    "            hour_of_day = orders['order_hour_of_day'].loc[order]\n",
    "            hours.append(hour_of_day)\n",
    "    return hours"
   ]
  },
  {
   "cell_type": "code",
   "execution_count": 47,
   "metadata": {},
   "outputs": [],
   "source": [
    "cookie_hours = times_from_id(cookie_id)\n",
    "cereal_hours = times_from_id(cereal_id)\n",
    "coffee_hours = times_from_id(coffee_id)\n",
    "apple_hours = times_from_id(apple_id)\n",
    "broccoli_hours = times_from_id(broccoli_id)\n",
    "ice_cream_hours = times_from_id(ice_cream_id)"
   ]
  },
  {
   "cell_type": "code",
   "execution_count": 50,
   "metadata": {
    "scrolled": false
   },
   "outputs": [
    {
     "data": {
      "image/png": "[encoded data removed]",
      "text/plain": [
       "<matplotlib.figure.Figure at 0x2d30fe2fa58>"
      ]
     },
     "metadata": {},
     "output_type": "display_data"
    }
   ],
   "source": [
    "plt.hist(cookie_hours, bins = 24, alpha = 0.8, normed=True, label = 'Cookies', histtype = 'step', linewidth = 5)\n",
    "plt.hist(cereal_hours, bins = 24, alpha = 0.8, normed=True, label = 'Cereals', histtype = 'step', linewidth = 5)\n",
    "plt.hist(ice_cream_hours, bins = 24, alpha = 0.8, normed=True, label = 'Ice cream', histtype = 'step', linewidth = 5)\n",
    "plt.hist(coffee_hours, bins = 24, alpha = 0.8, normed=True, label = 'Coffee', histtype = 'step', linewidth = 5)\n",
    "plt.hist(apple_hours, bins = 24, alpha = 0.8, normed=True, label = 'Apples', histtype = 'step', linewidth = 5)\n",
    "plt.hist(broccoli_hours, bins = 24, alpha = 0.8, normed=True, label = 'Broccoli', histtype = 'step', linewidth = 5)\n",
    "\n",
    "plt.ylabel('Counts')\n",
    "plt.xlabel('Hours of the day')\n",
    "plt.legend(loc = 'upper right')\n",
    "plt.rcParams['figure.figsize'] = [15, 10]\n",
    "plt.show()"
   ]
  },
  {
   "cell_type": "markdown",
   "metadata": {},
   "source": [
    "# Products types ordered at different hours of the day\n",
    "\n",
    "This plot shows different product types purchased during different hours of the day. The histograms are normalized to compare trends. Fristly we can see that people mostly shop early in the morning or late in the evening. It can be seen that breakfast foods—such as cereals and coffee—are purchaed in the morning. Similarly apples are purchased more in the morning, but brocolli and cookies slighly favor afternoon hours. Ice cream heavily favors afternoon hours, and is purchased later in the day compared to other evening items."
   ]
  },
  {
   "cell_type": "code",
   "execution_count": null,
   "metadata": {},
   "outputs": [],
   "source": []
  }
 ],
 "metadata": {
  "kernelspec": {
   "display_name": "Python 3",
   "language": "python",
   "name": "python3"
  },
  "language_info": {
   "codemirror_mode": {
    "name": "ipython",
    "version": 3
   },
   "file_extension": ".py",
   "mimetype": "text/x-python",
   "name": "python",
   "nbconvert_exporter": "python",
   "pygments_lexer": "ipython3",
   "version": "3.6.4"
  }
 },
 "nbformat": 4,
 "nbformat_minor": 2
}
