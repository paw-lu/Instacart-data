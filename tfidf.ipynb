{
 "cells": [
  {
   "cell_type": "markdown",
   "metadata": {},
   "source": [
    "# Recommender System for Instacart\n",
    "\n",
    "### Neighborhood-based model using Term Frequency-Inverse Document Frequency (TF-IDF) and Cosine Similarity\n",
    "\n",
    "In this notebook, a neighborhood-based model is implemented to generate recommendations for a target user, by using cosine similarities on a TF-IDF weighted utility matrix.\n",
    "\n",
    "We are using the library [`implicit`](https://github.com/benfred/implicit) to calculates tfidf_weight, [`scipy`](https://www.scipy.org) to implement sparse matrix, and [`sklearn`](http://scikit-learn.org/stable/) to calculate cosine similarity.\n",
    "\n",
    "The following steps are conducted: \n",
    "- Utlity Matrix is generated, where every entry represents a Term Frequency(TF).\n",
    "- Based on the utility matrix, a TF-IDF weight matrix is calculated.\n",
    "- Given a target user (a row in the TF-IDF matrix), the cosine similarity vector of the target user is produced.\n",
    "- Select top K similar users and use PriorityQueue to select top N products based on overall sales in the candidate recommendations."
   ]
  },
  {
   "cell_type": "code",
   "execution_count": 2,
   "metadata": {},
   "outputs": [
    {
     "ename": "ModuleNotFoundError",
     "evalue": "No module named 'implicit'",
     "output_type": "error",
     "traceback": [
      "\u001b[0;31m---------------------------------------------------------------------------\u001b[0m",
      "\u001b[0;31mModuleNotFoundError\u001b[0m                       Traceback (most recent call last)",
      "\u001b[0;32m<ipython-input-2-803b81c09eb2>\u001b[0m in \u001b[0;36m<module>\u001b[0;34m()\u001b[0m\n\u001b[1;32m      1\u001b[0m \u001b[0;31m### Imports\u001b[0m\u001b[0;34m\u001b[0m\u001b[0;34m\u001b[0m\u001b[0m\n\u001b[1;32m      2\u001b[0m \u001b[0;34m\u001b[0m\u001b[0m\n\u001b[0;32m----> 3\u001b[0;31m \u001b[0;32mfrom\u001b[0m \u001b[0mimplicit\u001b[0m\u001b[0;34m.\u001b[0m\u001b[0mnearest_neighbours\u001b[0m \u001b[0;32mimport\u001b[0m \u001b[0mtfidf_weight\u001b[0m\u001b[0;34m\u001b[0m\u001b[0m\n\u001b[0m\u001b[1;32m      4\u001b[0m \u001b[0;32mfrom\u001b[0m \u001b[0mscipy\u001b[0m\u001b[0;34m.\u001b[0m\u001b[0msparse\u001b[0m \u001b[0;32mimport\u001b[0m \u001b[0mcoo_matrix\u001b[0m\u001b[0;34m,\u001b[0m \u001b[0mcsr_matrix\u001b[0m\u001b[0;34m\u001b[0m\u001b[0m\n\u001b[1;32m      5\u001b[0m \u001b[0;32mfrom\u001b[0m \u001b[0msklearn\u001b[0m\u001b[0;34m.\u001b[0m\u001b[0mmetrics\u001b[0m\u001b[0;34m.\u001b[0m\u001b[0mpairwise\u001b[0m \u001b[0;32mimport\u001b[0m \u001b[0mcosine_similarity\u001b[0m\u001b[0;34m\u001b[0m\u001b[0m\n",
      "\u001b[0;31mModuleNotFoundError\u001b[0m: No module named 'implicit'"
     ]
    }
   ],
   "source": [
    "### Imports\n",
    "\n",
    "from implicit.nearest_neighbours import tfidf_weight\n",
    "from scipy.sparse import coo_matrix, csr_matrix\n",
    "from sklearn.metrics.pairwise import cosine_similarity\n",
    "from datetime import datetime\n",
    "from pathlib import Path\n",
    "from numpy import bincount, log, sqrt\n",
    "\n",
    "import scipy.sparse as sparse\n",
    "import implicit\n",
    "import pandas as pd\n",
    "import numpy as np\n",
    "import pickle\n",
    "import time\n",
    "import heapq"
   ]
  },
  {
   "cell_type": "code",
   "execution_count": 2,
   "metadata": {
    "collapsed": true
   },
   "outputs": [],
   "source": [
    "### Helper Functions\n",
    "\n",
    "def sparsity(matrix):\n",
    "    \"\"\"\n",
    "    Given a matrix, returns its sparsity\n",
    "    \"\"\"\n",
    "    total_size = matrix.shape[0] * matrix.shape[1]\n",
    "    actual_size = matrix.size\n",
    "    sparsity = (1 - (actual_size / total_size)) * 100\n",
    "    return(sparsity)\n",
    "\n",
    "\n",
    "def get_k_popular(k, df_merged_order_products_prior):\n",
    "    \"\"\"\n",
    "    Returns the `k` most popular products based on purchase count in the dataset\n",
    "    \"\"\"\n",
    "    popular_products = list(df_merged_order_products_prior[\"product_id\"].value_counts().head(k).index)\n",
    "    return popular_products\n",
    "\n",
    "\n",
    "def make_prior_data():\n",
    "    \"\"\"\n",
    "    Generates the prior dataset including prior_user_products and product_frequency\n",
    "    \"\"\"\n",
    "    # Read prior order csv\n",
    "    df_order_products_prior = pd.read_csv(\"../data/order_products__prior.csv\")\n",
    "    current_order_user_df = df_orders.loc[(df_orders.eval_set == \"prior\")].reset_index()\n",
    "    current_order_user_df = current_order_user_df[[\"order_id\", \"user_id\"]]\n",
    "\n",
    "    assert len(current_order_user_df[\"order_id\"].unique()) == len(df_order_products_prior[\"order_id\"].unique())\n",
    "\n",
    "    # Group product_id for each order into products\n",
    "    df_order_products_prior = df_order_products_prior[[\"order_id\", \"product_id\"]]\n",
    "    df_product_frequency = df_order_products_prior['product_id'].value_counts()\n",
    "    df_order_products_prior = df_order_products_prior.groupby(\"order_id\")[\"product_id\"].apply(list).reset_index().rename(columns={\"product_id\": \"products\"})\n",
    "    \n",
    "    \n",
    "    assert current_order_user_df.size == df_order_products_prior.size\n",
    "\n",
    "    df_prior_user_products = pd.merge(current_order_user_df, df_order_products_prior, on=\"order_id\")\n",
    "    df_prior_user_products = df_prior_user_products[[\"user_id\", \"products\"]]\n",
    "    df_prior_user_products = df_prior_user_products.groupby(\"user_id\")[\"products\"].agg(sum).reset_index()\n",
    "\n",
    "    return df_prior_user_products, df_product_frequency\n",
    "\n",
    "\n",
    "def make_test_data(test_data_path, df_orders, df_order_products_train):\n",
    "    \"\"\"\n",
    "    Generates the test dataset and saves it to disk at the given path\n",
    "    \"\"\"\n",
    "    start = time.time()\n",
    "    print(\"Creating test data ...\")\n",
    "\n",
    "    # Read train csv\n",
    "    df_order_user_current = df_orders.loc[(df_orders.eval_set == \"train\")].reset_index()\n",
    "    df_order_user_current = df_order_user_current[[\"order_id\", \"user_id\"]]\n",
    "    \n",
    "    # Sanity check #1: `current_order_user_df` and `df_order_products_train` should have the same number of \n",
    "    # unique order ids\n",
    "    assert len(df_order_user_current[\"order_id\"].unique()) == len(df_order_products_train[\"order_id\"].unique())\n",
    "\n",
    "    # Convert train dataframe to a similar format\n",
    "    df_order_products_test = df_order_products_train[[\"order_id\", \"product_id\"]]\n",
    "    df_order_products_test = df_order_products_test.groupby(\"order_id\")[\"product_id\"].apply(list).reset_index().rename(columns={\"product_id\": \"products\"})\n",
    "\n",
    "    # Sanity check #2: `df_order_products_test` and `df_order_user_current` should have the same number of \n",
    "    # records before attempting to merge them\n",
    "    assert df_order_products_test.size == df_order_user_current.size\n",
    "\n",
    "    # Merge on order id\n",
    "    df_user_products_test = pd.merge(df_order_user_current, df_order_products_test, on=\"order_id\")\n",
    "    df_user_products_test = df_user_products_test[[\"user_id\", \"products\"]]\n",
    "\n",
    "    # Write to disk\n",
    "    df_user_products_test.to_csv(test_data_path, index_label=False)\n",
    "    \n",
    "    print(\"Completed in {:.2f}s\".format(time.time() - start))\n",
    "\n",
    "\n",
    "def save_data_to_disk(dataframe, df_name):\n",
    "    \"\"\"\n",
    "    Save the data to disk\n",
    "    \"\"\"\n",
    "    filepath = \"../data/df_{}.pkl\".format(df_name)\n",
    "    dataframe.to_pickle(filepath)"
   ]
  },
  {
   "cell_type": "markdown",
   "metadata": {},
   "source": [
    "# Load datasets"
   ]
  },
  {
   "cell_type": "code",
   "execution_count": 3,
   "metadata": {
    "collapsed": true
   },
   "outputs": [],
   "source": [
    "# Order datasets\n",
    "df_order_products_prior = pd.read_csv(\"../data/order_products__prior.csv\")\n",
    "df_order_products_train = pd.read_csv(\"../data/order_products__train.csv\")\n",
    "df_orders = pd.read_csv(\"../data/orders.csv\") \n",
    "\n",
    "# Products\n",
    "df_products = pd.read_csv(\"../data/products.csv\")\n",
    "\n",
    "# Merge prior orders and products\n",
    "df_merged_order_products_prior = pd.merge(df_order_products_prior, df_products, on=\"product_id\", how=\"left\")"
   ]
  },
  {
   "cell_type": "code",
   "execution_count": 4,
   "metadata": {
    "collapsed": true
   },
   "outputs": [],
   "source": [
    "# Skip this block if you already have the df_user_products.pkl and df_product_frequency.pkl in the disk\n",
    "# Make prior data\n",
    "# Running time: 3 min\n",
    "df_prior_user_products, df_product_frequency = make_prior_data()\n",
    "\n",
    "# save data to disk, running time : 2 mi\n",
    "save_data_to_disk(df_prior_user_products, \"user_products\")\n",
    "save_data_to_disk(df_product_frequency, \"product_frequency\")"
   ]
  },
  {
   "cell_type": "code",
   "execution_count": 5,
   "metadata": {
    "collapsed": true
   },
   "outputs": [],
   "source": [
    "# Read user_products and product_frequency from the disk\n",
    "df_prior_user_products = pd.read_pickle(\"../data/df_user_products.pkl\")\n",
    "df_product_frequency = pd.read_pickle(\"../data/df_product_frequency.pkl\")\n",
    "df_product_frequency = pd.DataFrame(df_product_frequency).rename(columns={\"product_id\": \"frequency\"})"
   ]
  },
  {
   "cell_type": "code",
   "execution_count": 6,
   "metadata": {
    "collapsed": true
   },
   "outputs": [],
   "source": [
    "# Make test data\n",
    "REBUILD_TEST_DATA = False\n",
    "test_data_path = \"../data/user_products__test.csv\"\n",
    "if REBUILD_TEST_DATA or not Path(test_data_path).is_file():\n",
    "    make_test_data(test_data_path, df_orders, df_order_products_train)\n",
    "df_user_products_test = pd.read_csv(test_data_path)"
   ]
  },
  {
   "cell_type": "code",
   "execution_count": 7,
   "metadata": {},
   "outputs": [
    {
     "data": {
      "text/html": [
       "<div>\n",
       "<style>\n",
       "    .dataframe thead tr:only-child th {\n",
       "        text-align: right;\n",
       "    }\n",
       "\n",
       "    .dataframe thead th {\n",
       "        text-align: left;\n",
       "    }\n",
       "\n",
       "    .dataframe tbody tr th {\n",
       "        vertical-align: top;\n",
       "    }\n",
       "</style>\n",
       "<table border=\"1\" class=\"dataframe\">\n",
       "  <thead>\n",
       "    <tr style=\"text-align: right;\">\n",
       "      <th></th>\n",
       "      <th>user_id</th>\n",
       "      <th>products</th>\n",
       "    </tr>\n",
       "  </thead>\n",
       "  <tbody>\n",
       "    <tr>\n",
       "      <th>0</th>\n",
       "      <td>1</td>\n",
       "      <td>[196, 25133, 38928, 26405, 39657, 10258, 13032...</td>\n",
       "    </tr>\n",
       "    <tr>\n",
       "      <th>1</th>\n",
       "      <td>2</td>\n",
       "      <td>[22963, 7963, 16589, 32792, 41787, 22825, 1364...</td>\n",
       "    </tr>\n",
       "    <tr>\n",
       "      <th>2</th>\n",
       "      <td>5</td>\n",
       "      <td>[15349, 19057, 16185, 21413, 20843, 20114, 482...</td>\n",
       "    </tr>\n",
       "    <tr>\n",
       "      <th>3</th>\n",
       "      <td>7</td>\n",
       "      <td>[12053, 47272, 37999, 13198, 43967, 40852, 176...</td>\n",
       "    </tr>\n",
       "    <tr>\n",
       "      <th>4</th>\n",
       "      <td>8</td>\n",
       "      <td>[15937, 5539, 10960, 23165, 22247, 4853, 27104...</td>\n",
       "    </tr>\n",
       "  </tbody>\n",
       "</table>\n",
       "</div>"
      ],
      "text/plain": [
       "   user_id                                           products\n",
       "0        1  [196, 25133, 38928, 26405, 39657, 10258, 13032...\n",
       "1        2  [22963, 7963, 16589, 32792, 41787, 22825, 1364...\n",
       "2        5  [15349, 19057, 16185, 21413, 20843, 20114, 482...\n",
       "3        7  [12053, 47272, 37999, 13198, 43967, 40852, 176...\n",
       "4        8  [15937, 5539, 10960, 23165, 22247, 4853, 27104..."
      ]
     },
     "execution_count": 7,
     "metadata": {},
     "output_type": "execute_result"
    }
   ],
   "source": [
    "df_user_products_test.head()"
   ]
  },
  {
   "cell_type": "markdown",
   "metadata": {},
   "source": [
    "# Load Product Item Matrix"
   ]
  },
  {
   "cell_type": "code",
   "execution_count": 8,
   "metadata": {
    "collapsed": true
   },
   "outputs": [],
   "source": [
    "def get_user_product_prior_df(filepath, df_orders, df_order_products_prior):\n",
    "    \"\"\"\n",
    "    Generates a dataframe of users and their prior products purchases, and writes it to disk at the given path\n",
    "    \"\"\"\n",
    "    start = time.time()\n",
    "    print(\"Creating prior user product data frame ...\")\n",
    "    \n",
    "    # Consider ony \"prior\" orders and remove all columns except `user_id` from `df_orders`\n",
    "    df_order_user_prior = df_orders.loc[df_orders.eval_set == \"prior\"]\n",
    "    df_order_user_prior = df_order_user_prior[[\"order_id\", \"user_id\"]]\n",
    "    \n",
    "    # Remove all columns except order_id and user_id from df_orders and \n",
    "    # merge the above on `order_id` and remove `order_id`\n",
    "    df_merged = pd.merge(df_order_user_prior, df_order_products_prior[[\"order_id\", \"product_id\"]], on=\"order_id\")\n",
    "    df_user_product_prior = df_merged[[\"user_id\", \"product_id\"]]\n",
    "    df_user_product_prior = df_user_product_prior.groupby([\"user_id\", \"product_id\"]).size().reset_index().rename(columns={0:\"quantity\"})\n",
    "    \n",
    "    # Write to disk\n",
    "    df_user_product_prior.to_csv(filepath, index_label=False)\n",
    "\n",
    "    print(\"Completed in {:.2f}s\".format(time.time() - start))\n",
    "\n",
    "\n",
    "# Build dataframe of users, products and quantity bought using prior datasets\n",
    "REBUILD_MATRIX_DF = False\n",
    "matrix_df_path = \"../data/user_products__prior.csv\"\n",
    "if REBUILD_MATRIX_DF or not Path(matrix_df_path).is_file():\n",
    "    get_user_product_prior_df(matrix_df_path, df_orders, df_order_products_prior)\n",
    "df_user_product_prior = pd.read_csv(matrix_df_path)\n",
    "df_user_product_prior[\"user_id\"] = df_user_product_prior[\"user_id\"].astype(\"category\")\n",
    "df_user_product_prior[\"product_id\"] = df_user_product_prior[\"product_id\"].astype(\"category\")"
   ]
  },
  {
   "cell_type": "code",
   "execution_count": 9,
   "metadata": {
    "collapsed": true
   },
   "outputs": [],
   "source": [
    "def build_product_user_matrix(matrix_path, df_user_product_prior):\n",
    "    \"\"\"\n",
    "    Generates a utility matrix representing purchase history of users, and writes it to disk.\n",
    "    Rows and Columns represent products and users respectively.\n",
    "    \"\"\"\n",
    "    start = time.time()\n",
    "    print(\"Creating product user matrix ...\")\n",
    "    \n",
    "    # Make the dataframe a sparse matrix\n",
    "    df_user_product_prior[\"user_id\"] = df_user_product_prior[\"user_id\"].astype(\"category\")\n",
    "    df_user_product_prior[\"product_id\"] = df_user_product_prior[\"product_id\"].astype(\"category\")\n",
    "    product_user_matrix = sparse.coo_matrix((df_user_product_prior[\"quantity\"],\n",
    "                                            (df_user_product_prior[\"product_id\"].cat.codes.copy(),\n",
    "                                             df_user_product_prior[\"user_id\"].cat.codes.copy())))\n",
    "    \n",
    "    sparse.save_npz(matrix_path, product_user_matrix)\n",
    "    \n",
    "    print(\"Completed in {:.2f}s\".format(time.time() - start))\n",
    "\n",
    "\n",
    "# Get the `product x user` matrix\n",
    "REBUILD_MATRIX = False\n",
    "matrix_path = \"../data/product_user_matrix.npz\"\n",
    "if REBUILD_MATRIX or not Path(matrix_path).is_file():\n",
    "    build_product_user_matrix(matrix_path, df_user_product_prior)\n",
    "product_user_matrix = sparse.load_npz(matrix_path).tocsr()"
   ]
  },
  {
   "cell_type": "code",
   "execution_count": 10,
   "metadata": {
    "collapsed": true
   },
   "outputs": [],
   "source": [
    "# User=1 bought product=196 10 times\n",
    "assert product_user_matrix[195, 0] == 10"
   ]
  },
  {
   "cell_type": "code",
   "execution_count": 11,
   "metadata": {},
   "outputs": [
    {
     "data": {
      "text/plain": [
       "99.8700882953749"
      ]
     },
     "execution_count": 11,
     "metadata": {},
     "output_type": "execute_result"
    }
   ],
   "source": [
    "sparsity(product_user_matrix)"
   ]
  },
  {
   "cell_type": "markdown",
   "metadata": {},
   "source": [
    "# Term Frequency-Inverse Document Frequency"
   ]
  },
  {
   "cell_type": "code",
   "execution_count": 12,
   "metadata": {
    "collapsed": true
   },
   "outputs": [],
   "source": [
    "# Fetch Term Frequency matrix\n",
    "user_product_matrix = product_user_matrix.T"
   ]
  },
  {
   "cell_type": "code",
   "execution_count": 13,
   "metadata": {
    "collapsed": true
   },
   "outputs": [],
   "source": [
    "def tfidf_weight(tf):\n",
    "    \"\"\"\n",
    "    Given a Term Frequency matrix\n",
    "    Returns a TF-IDF weight matrix\n",
    "    \"\"\"\n",
    "    \n",
    "    tf_idf = coo_matrix(tf)\n",
    "\n",
    "    # calculate IDF\n",
    "    N = float(tf_idf.shape[0])\n",
    "    idf = log(N / (1 + bincount(tf_idf.col)))\n",
    "\n",
    "    # apply TF-IDF adjustment\n",
    "    tf_idf.data = sqrt(tf_idf.data) * idf[tf_idf.col]\n",
    "    return tf_idf\n",
    "\n",
    "tf_idf = tfidf_weight(user_product_matrix)\n",
    "\n",
    "# convert to Compressed Sparse Row format\n",
    "tf_idf = tf_idf.tocsr()"
   ]
  },
  {
   "cell_type": "markdown",
   "metadata": {},
   "source": [
    "## Example Recommendation"
   ]
  },
  {
   "cell_type": "code",
   "execution_count": 14,
   "metadata": {
    "collapsed": true
   },
   "outputs": [],
   "source": [
    "def generateRecommendations(target_user, cos_vec, K, N):\n",
    "    \"\"\"\n",
    "    Given a target_user (a row), a cosine similarity vector, the number of similar users K, \n",
    "          the number of products to be recommended.\n",
    "    Returns product set by target user and N recommendations\n",
    "    \"\"\"\n",
    "    \n",
    "    # Select top K similar users\n",
    "    top_K_similar_users = heapq.nlargest(K+1, range(len(cos_vec)), cos_vec.take)\n",
    "\n",
    "    # Initialize the result for recommendations\n",
    "    recommendations = []\n",
    "    \n",
    "    # Exclude the user with same purchase history (1.00000) as the target user and implement set-minus\n",
    "    products_target_user = df_prior_user_products.loc[df_prior_user_products['user_id'] == target_user_id].products\n",
    "\n",
    "    # Products of Target User\n",
    "    productset_target_user = set(products_target_user.tolist()[0])\n",
    "\n",
    "    # Fetch the preliminary recommendations\n",
    "    for similar_user_id in top_K_similar_users:\n",
    "        \n",
    "        products_similar_user = df_prior_user_products.loc[df_prior_user_products['user_id'] == similar_user_id + 1].products\n",
    "\n",
    "        # Recommend the products bought by the user who firstly differs in the purchase history from A.\n",
    "        candidate_recommendation = set(products_similar_user.tolist()[0]) - productset_target_user\n",
    "\n",
    "        # If similar_user_id equals to target_user_id or the candidate_recommendation is empty,\n",
    "        # skip current user\n",
    "        if similar_user_id == target_user_id or not candidate_recommendation: continue\n",
    "\n",
    "        # One candidate_recommendation found, and extend it to the result\n",
    "        recommendations.extend(candidate_recommendation)\n",
    "\n",
    "        # If length of recommendations exceed N, break\n",
    "        # Needed because this will ensure the recommentations are the products bought by most similar users\n",
    "        if len(recommendations) > N: break\n",
    "        \n",
    "    # Pick the top N popularity (overall sales) to recommend\n",
    "    h = []\n",
    "    for rec in recommendations:\n",
    "        heapq.heappush(h, (df_product_frequency.loc[rec]['frequency'], rec))\n",
    "        if len(h) > N:\n",
    "            heapq.heappop(h)\n",
    "            \n",
    "    return productset_target_user, [item[1] for item in h]"
   ]
  },
  {
   "cell_type": "code",
   "execution_count": 15,
   "metadata": {
    "collapsed": true
   },
   "outputs": [],
   "source": [
    "# Selecting one user to test\n",
    "target_user_id = 1\n",
    "\n",
    "# Fetch row of target user\n",
    "target_user = tf_idf[target_user_id - 1]\n",
    "\n",
    "# Calculate Cosine Similarity Vector of target user\n",
    "similarities = cosine_similarity(tf_idf, target_user, False)\n",
    "\n",
    "productset_target_user, recommendations = generateRecommendations(target_user, similarities.toarray(), 20, 10)"
   ]
  },
  {
   "cell_type": "code",
   "execution_count": 16,
   "metadata": {},
   "outputs": [
    {
     "name": "stdout",
     "output_type": "stream",
     "text": [
      "Actual products bought by User 1:\n",
      "{17122, 196, 26405, 14084, 46149, 26088, 13032, 39657, 12427, 25133, 35951, 38928, 10258, 30450, 49235, 10326, 13176, 41787}\n",
      "\n",
      "Recommended products for User 1:\n",
      "[500, 26104, 4149, 41400, 22802, 12916, 37710, 9755, 16797, 5258]\n"
     ]
    }
   ],
   "source": [
    "# Output the product_name of Target User's products as well as Recommendations\n",
    "print('Actual products bought by User {}:'.format(target_user_id))\n",
    "print(productset_target_user)\n",
    "print()\n",
    "print('Recommended products for User {}:'.format(target_user_id))\n",
    "print(recommendations)"
   ]
  },
  {
   "cell_type": "markdown",
   "metadata": {},
   "source": [
    "# Evaluation"
   ]
  },
  {
   "cell_type": "code",
   "execution_count": 17,
   "metadata": {
    "collapsed": true
   },
   "outputs": [],
   "source": [
    "# Get the 10 most popular products\n",
    "popular_products = get_k_popular(10, df_merged_order_products_prior)"
   ]
  },
  {
   "cell_type": "code",
   "execution_count": 18,
   "metadata": {
    "scrolled": true
   },
   "outputs": [
    {
     "name": "stdout",
     "output_type": "stream",
     "text": [
      "Building dataframe with recall values ...\n",
      "10.0% completed, current mean of recall = 0.19889411646265473\n",
      "20.0% completed, current mean of recall = 0.19844939838955286\n",
      "30.0% completed, current mean of recall = 0.19905714215913728\n",
      "40.0% completed, current mean of recall = 0.2004812140325057\n",
      "50.0% completed, current mean of recall = 0.2007094471251366\n",
      "60.0% completed, current mean of recall = 0.20116342917067592\n",
      "70.0% completed, current mean of recall = 0.20139566559439856\n",
      "80.0% completed, current mean of recall = 0.20101443218410572\n",
      "90.0% completed, current mean of recall = 0.2009583713723612\n",
      "Completed in 10164.50s\n"
     ]
    }
   ],
   "source": [
    "def recall_score(actual, pred):\n",
    "    \"\"\"\n",
    "    Given two lists representing actual and predicted values\n",
    "    Returns the recall of the prediction\n",
    "    \"\"\"\n",
    "    if len(actual) == 0:\n",
    "        return 0\n",
    "    actual, pred = set(actual), set(pred)\n",
    "    return len(actual.intersection(pred)) / len(actual)\n",
    "\n",
    "def new_products(row):\n",
    "    \"\"\"\n",
    "    Given a row in the test dataset\n",
    "    Returns the list of new products purchased\n",
    "    \"\"\"\n",
    "    actual = row[\"products\"][1:-1]\n",
    "    actual = set([int(p.strip()) for p in actual.strip().split(\",\")])\n",
    "    products_target_user = df_prior_user_products.loc[df_prior_user_products['user_id'] == row[\"user_id\"]].products\n",
    "    liked = set(products_target_user.tolist()[0])\n",
    "    return actual - liked\n",
    "\n",
    "def popular_recommend(row):\n",
    "    \"\"\"\n",
    "    Given a row in the test dataset\n",
    "    Returns the recall score when popular products are recommended\n",
    "    \"\"\"\n",
    "    actual = new_products(row)\n",
    "    return recall_score(actual, popular_products)\n",
    "\n",
    "def tfidf_recommend(row):\n",
    "    \"\"\"\n",
    "    Given a row in the test dataset\n",
    "    Returns the recall score when our model recommends products\n",
    "    \"\"\"\n",
    "    actual = row[\"products\"][1:-1]\n",
    "    actual = [int(p.strip()) for p in actual.strip().split(\",\")]\n",
    "    target_user = tf_idf[row[\"user_id\"] - 1]\n",
    "    similarities = cosine_similarity(tf_idf, target_user, False)\n",
    "    cos_vec = similarities.toarray()\n",
    "    productset_target_user, recommended = generateRecommendations(target_user, cos_vec, 20, 10)\n",
    "\n",
    "    cur_recall_score = recall_score(actual, recommended)\n",
    "    \n",
    "    global count, progress, recall_sum\n",
    "    count += 1; recall_sum += cur_recall_score\n",
    "    if level[progress] and int(count / total * 10) - 1 == progress:\n",
    "        level[progress] = False\n",
    "        progress += 1\n",
    "        print(\"{:.1f}% completed, current mean of recall = {}\".format(progress * 10, recall_sum / count))    \n",
    "    \n",
    "    return cur_recall_score\n",
    "\n",
    "def build_eval_df(filepath, df_user_products_test, subset=None):\n",
    "    \"\"\"\n",
    "    Builds a dataframe of recall values of the baseline and our model for all the users\n",
    "    in the test data, and saves its to disk at `filepath`\n",
    "    \"\"\"\n",
    "    start = time.time()\n",
    "    print(\"Building dataframe with recall values ...\")\n",
    "    \n",
    "    df_eval = df_user_products_test.copy()\n",
    "    if subset:\n",
    "        df_eval = df_eval.sample(n=int(len(df_eval) * subset), random_state=7)\n",
    "    df_eval[\"popular_score\"] = df_eval.apply(popular_recommend, axis=1)\n",
    "    df_eval[\"tfidf_score\"] = df_eval.apply(tfidf_recommend, axis=1)\n",
    "    df_eval.to_csv(filepath) #, index_label=False)\n",
    "    \n",
    "    print(\"Completed in {:.2f}s\".format(time.time() - start))    \n",
    "\n",
    "\n",
    "# Get the dataframe with recall values of the baseline and the model\n",
    "REBUILD_EVAL_DF = False\n",
    "subset = 0.2\n",
    "\n",
    "# How many users in the test?\n",
    "total = len(df_user_products_test) * subset\n",
    "\n",
    "# Counter\n",
    "count = 0\n",
    "progress = 0\n",
    "recall_sum = 0\n",
    "level = [True] * 10\n",
    "\n",
    "# Estimated 3 hours to run 20% of the test dataset\n",
    "eval_path = \"../data/eval/eval_tfidf_{}.csv\".format(subset if subset is not None else \"full\")\n",
    "if REBUILD_EVAL_DF or not Path(eval_path).exists():\n",
    "    build_eval_df(eval_path, df_user_products_test, subset=subset)\n",
    "df_eval = pd.read_csv(eval_path)"
   ]
  },
  {
   "cell_type": "code",
   "execution_count": 19,
   "metadata": {},
   "outputs": [
    {
     "name": "stdout",
     "output_type": "stream",
     "text": [
      "Model: 20.08%\n",
      "Baseline: 2.62%\n"
     ]
    }
   ],
   "source": [
    "# Mean recall scores\n",
    "model_mean_recall, baseline_mean_recall = np.mean(df_eval[\"tfidf_score\"]), np.mean(df_eval[\"popular_score\"])\n",
    "print(\"Model: {:.2f}%\".format(model_mean_recall * 100))\n",
    "print(\"Baseline: {:.2f}%\".format(baseline_mean_recall * 100))"
   ]
  },
  {
   "cell_type": "markdown",
   "metadata": {
    "collapsed": true
   },
   "source": [
    "Recommendations through TF-IDF are almost a factor of 8 times better than the baseline model."
   ]
  },
  {
   "cell_type": "code",
   "execution_count": null,
   "metadata": {
    "collapsed": true
   },
   "outputs": [],
   "source": []
  }
 ],
 "metadata": {
  "kernelspec": {
   "display_name": "Python 3",
   "language": "python",
   "name": "python3"
  },
  "language_info": {
   "codemirror_mode": {
    "name": "ipython",
    "version": 3
   },
   "file_extension": ".py",
   "mimetype": "text/x-python",
   "name": "python",
   "nbconvert_exporter": "python",
   "pygments_lexer": "ipython3",
   "version": "3.6.5"
  }
 },
 "nbformat": 4,
 "nbformat_minor": 2
}
