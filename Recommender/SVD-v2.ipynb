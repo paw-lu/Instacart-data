{
 "cells": [
  {
   "cell_type": "markdown",
   "metadata": {},
   "source": [
    "# Loading data"
   ]
  },
  {
   "cell_type": "code",
   "execution_count": 373,
   "metadata": {},
   "outputs": [],
   "source": [
    "import pandas as pd\n",
    "order_products__train = pd.read_csv(\"../instacart_2017_05_01/order_products__train.csv\")\n",
    "order_products__prior = pd.read_csv(\"../instacart_2017_05_01/order_products__prior.csv\")\n",
    "products = pd.read_csv(\"../instacart_2017_05_01/products.csv\")\n",
    "orders = pd.read_csv(\"../instacart_2017_05_01/orders.csv\")"
   ]
  },
  {
   "cell_type": "code",
   "execution_count": 374,
   "metadata": {},
   "outputs": [
    {
     "data": {
      "text/plain": [
       "array(['prior', 'train', 'test'], dtype=object)"
      ]
     },
     "execution_count": 374,
     "metadata": {},
     "output_type": "execute_result"
    }
   ],
   "source": [
    "orders['eval_set'].unique()"
   ]
  },
  {
   "cell_type": "markdown",
   "metadata": {},
   "source": [
    "# Train data"
   ]
  },
  {
   "cell_type": "code",
   "execution_count": 375,
   "metadata": {
    "collapsed": true
   },
   "outputs": [],
   "source": [
    "orders_train = orders[orders['eval_set'] == 'train'].reset_index()"
   ]
  },
  {
   "cell_type": "code",
   "execution_count": 376,
   "metadata": {},
   "outputs": [
    {
     "data": {
      "text/html": [
       "<div>\n",
       "<style scoped>\n",
       "    .dataframe tbody tr th:only-of-type {\n",
       "        vertical-align: middle;\n",
       "    }\n",
       "\n",
       "    .dataframe tbody tr th {\n",
       "        vertical-align: top;\n",
       "    }\n",
       "\n",
       "    .dataframe thead th {\n",
       "        text-align: right;\n",
       "    }\n",
       "</style>\n",
       "<table border=\"1\" class=\"dataframe\">\n",
       "  <thead>\n",
       "    <tr style=\"text-align: right;\">\n",
       "      <th></th>\n",
       "      <th>index</th>\n",
       "      <th>order_id</th>\n",
       "      <th>user_id</th>\n",
       "      <th>eval_set</th>\n",
       "      <th>order_number</th>\n",
       "      <th>order_dow</th>\n",
       "      <th>order_hour_of_day</th>\n",
       "      <th>days_since_prior_order</th>\n",
       "    </tr>\n",
       "  </thead>\n",
       "  <tbody>\n",
       "    <tr>\n",
       "      <th>0</th>\n",
       "      <td>10</td>\n",
       "      <td>1187899</td>\n",
       "      <td>1</td>\n",
       "      <td>train</td>\n",
       "      <td>11</td>\n",
       "      <td>4</td>\n",
       "      <td>8</td>\n",
       "      <td>14.0</td>\n",
       "    </tr>\n",
       "    <tr>\n",
       "      <th>1</th>\n",
       "      <td>25</td>\n",
       "      <td>1492625</td>\n",
       "      <td>2</td>\n",
       "      <td>train</td>\n",
       "      <td>15</td>\n",
       "      <td>1</td>\n",
       "      <td>11</td>\n",
       "      <td>30.0</td>\n",
       "    </tr>\n",
       "    <tr>\n",
       "      <th>2</th>\n",
       "      <td>49</td>\n",
       "      <td>2196797</td>\n",
       "      <td>5</td>\n",
       "      <td>train</td>\n",
       "      <td>5</td>\n",
       "      <td>0</td>\n",
       "      <td>11</td>\n",
       "      <td>6.0</td>\n",
       "    </tr>\n",
       "    <tr>\n",
       "      <th>3</th>\n",
       "      <td>74</td>\n",
       "      <td>525192</td>\n",
       "      <td>7</td>\n",
       "      <td>train</td>\n",
       "      <td>21</td>\n",
       "      <td>2</td>\n",
       "      <td>11</td>\n",
       "      <td>6.0</td>\n",
       "    </tr>\n",
       "    <tr>\n",
       "      <th>4</th>\n",
       "      <td>78</td>\n",
       "      <td>880375</td>\n",
       "      <td>8</td>\n",
       "      <td>train</td>\n",
       "      <td>4</td>\n",
       "      <td>1</td>\n",
       "      <td>14</td>\n",
       "      <td>10.0</td>\n",
       "    </tr>\n",
       "  </tbody>\n",
       "</table>\n",
       "</div>"
      ],
      "text/plain": [
       "   index  order_id  user_id eval_set  order_number  order_dow  \\\n",
       "0     10   1187899        1    train            11          4   \n",
       "1     25   1492625        2    train            15          1   \n",
       "2     49   2196797        5    train             5          0   \n",
       "3     74    525192        7    train            21          2   \n",
       "4     78    880375        8    train             4          1   \n",
       "\n",
       "   order_hour_of_day  days_since_prior_order  \n",
       "0                  8                    14.0  \n",
       "1                 11                    30.0  \n",
       "2                 11                     6.0  \n",
       "3                 11                     6.0  \n",
       "4                 14                    10.0  "
      ]
     },
     "execution_count": 376,
     "metadata": {},
     "output_type": "execute_result"
    }
   ],
   "source": [
    "orders_train.head()"
   ]
  },
  {
   "cell_type": "code",
   "execution_count": 377,
   "metadata": {
    "collapsed": true
   },
   "outputs": [],
   "source": [
    "orders_train = orders_train[['user_id', 'order_id']]"
   ]
  },
  {
   "cell_type": "code",
   "execution_count": 378,
   "metadata": {},
   "outputs": [
    {
     "data": {
      "text/plain": [
       "131209"
      ]
     },
     "execution_count": 378,
     "metadata": {},
     "output_type": "execute_result"
    }
   ],
   "source": [
    "orders_train['order_id'].unique().shape[0]"
   ]
  },
  {
   "cell_type": "code",
   "execution_count": 379,
   "metadata": {},
   "outputs": [
    {
     "data": {
      "text/plain": [
       "131209"
      ]
     },
     "execution_count": 379,
     "metadata": {},
     "output_type": "execute_result"
    }
   ],
   "source": [
    "order_products__train['order_id'].unique().shape[0]"
   ]
  },
  {
   "cell_type": "code",
   "execution_count": 380,
   "metadata": {},
   "outputs": [
    {
     "data": {
      "text/html": [
       "<div>\n",
       "<style scoped>\n",
       "    .dataframe tbody tr th:only-of-type {\n",
       "        vertical-align: middle;\n",
       "    }\n",
       "\n",
       "    .dataframe tbody tr th {\n",
       "        vertical-align: top;\n",
       "    }\n",
       "\n",
       "    .dataframe thead th {\n",
       "        text-align: right;\n",
       "    }\n",
       "</style>\n",
       "<table border=\"1\" class=\"dataframe\">\n",
       "  <thead>\n",
       "    <tr style=\"text-align: right;\">\n",
       "      <th></th>\n",
       "      <th>order_id</th>\n",
       "      <th>product_id</th>\n",
       "      <th>add_to_cart_order</th>\n",
       "      <th>reordered</th>\n",
       "    </tr>\n",
       "  </thead>\n",
       "  <tbody>\n",
       "    <tr>\n",
       "      <th>0</th>\n",
       "      <td>1</td>\n",
       "      <td>49302</td>\n",
       "      <td>1</td>\n",
       "      <td>1</td>\n",
       "    </tr>\n",
       "    <tr>\n",
       "      <th>1</th>\n",
       "      <td>1</td>\n",
       "      <td>11109</td>\n",
       "      <td>2</td>\n",
       "      <td>1</td>\n",
       "    </tr>\n",
       "    <tr>\n",
       "      <th>2</th>\n",
       "      <td>1</td>\n",
       "      <td>10246</td>\n",
       "      <td>3</td>\n",
       "      <td>0</td>\n",
       "    </tr>\n",
       "    <tr>\n",
       "      <th>3</th>\n",
       "      <td>1</td>\n",
       "      <td>49683</td>\n",
       "      <td>4</td>\n",
       "      <td>0</td>\n",
       "    </tr>\n",
       "    <tr>\n",
       "      <th>4</th>\n",
       "      <td>1</td>\n",
       "      <td>43633</td>\n",
       "      <td>5</td>\n",
       "      <td>1</td>\n",
       "    </tr>\n",
       "  </tbody>\n",
       "</table>\n",
       "</div>"
      ],
      "text/plain": [
       "   order_id  product_id  add_to_cart_order  reordered\n",
       "0         1       49302                  1          1\n",
       "1         1       11109                  2          1\n",
       "2         1       10246                  3          0\n",
       "3         1       49683                  4          0\n",
       "4         1       43633                  5          1"
      ]
     },
     "execution_count": 380,
     "metadata": {},
     "output_type": "execute_result"
    }
   ],
   "source": [
    "order_products__train.head()"
   ]
  },
  {
   "cell_type": "code",
   "execution_count": 381,
   "metadata": {
    "collapsed": true
   },
   "outputs": [],
   "source": [
    "order_products__train = order_products__train[['order_id', 'product_id', 'reordered']]"
   ]
  },
  {
   "cell_type": "code",
   "execution_count": 382,
   "metadata": {
    "collapsed": true
   },
   "outputs": [],
   "source": [
    "order_products__train = order_products__train.groupby('order_id')['product_id'].apply(list).reset_index()"
   ]
  },
  {
   "cell_type": "code",
   "execution_count": 383,
   "metadata": {},
   "outputs": [
    {
     "data": {
      "text/html": [
       "<div>\n",
       "<style scoped>\n",
       "    .dataframe tbody tr th:only-of-type {\n",
       "        vertical-align: middle;\n",
       "    }\n",
       "\n",
       "    .dataframe tbody tr th {\n",
       "        vertical-align: top;\n",
       "    }\n",
       "\n",
       "    .dataframe thead th {\n",
       "        text-align: right;\n",
       "    }\n",
       "</style>\n",
       "<table border=\"1\" class=\"dataframe\">\n",
       "  <thead>\n",
       "    <tr style=\"text-align: right;\">\n",
       "      <th></th>\n",
       "      <th>order_id</th>\n",
       "      <th>product_id</th>\n",
       "    </tr>\n",
       "  </thead>\n",
       "  <tbody>\n",
       "    <tr>\n",
       "      <th>0</th>\n",
       "      <td>1</td>\n",
       "      <td>[49302, 11109, 10246, 49683, 43633, 13176, 472...</td>\n",
       "    </tr>\n",
       "    <tr>\n",
       "      <th>1</th>\n",
       "      <td>36</td>\n",
       "      <td>[39612, 19660, 49235, 43086, 46620, 34497, 486...</td>\n",
       "    </tr>\n",
       "    <tr>\n",
       "      <th>2</th>\n",
       "      <td>38</td>\n",
       "      <td>[11913, 18159, 4461, 21616, 23622, 32433, 2884...</td>\n",
       "    </tr>\n",
       "    <tr>\n",
       "      <th>3</th>\n",
       "      <td>96</td>\n",
       "      <td>[20574, 30391, 40706, 25610, 27966, 24489, 39275]</td>\n",
       "    </tr>\n",
       "    <tr>\n",
       "      <th>4</th>\n",
       "      <td>98</td>\n",
       "      <td>[8859, 19731, 43654, 13176, 4357, 37664, 34065...</td>\n",
       "    </tr>\n",
       "  </tbody>\n",
       "</table>\n",
       "</div>"
      ],
      "text/plain": [
       "   order_id                                         product_id\n",
       "0         1  [49302, 11109, 10246, 49683, 43633, 13176, 472...\n",
       "1        36  [39612, 19660, 49235, 43086, 46620, 34497, 486...\n",
       "2        38  [11913, 18159, 4461, 21616, 23622, 32433, 2884...\n",
       "3        96  [20574, 30391, 40706, 25610, 27966, 24489, 39275]\n",
       "4        98  [8859, 19731, 43654, 13176, 4357, 37664, 34065..."
      ]
     },
     "execution_count": 383,
     "metadata": {},
     "output_type": "execute_result"
    }
   ],
   "source": [
    "order_products__train.head()"
   ]
  },
  {
   "cell_type": "code",
   "execution_count": 384,
   "metadata": {
    "collapsed": true
   },
   "outputs": [],
   "source": [
    "user_products__train = pd.merge(order_products__train, orders_train, on='order_id')"
   ]
  },
  {
   "cell_type": "code",
   "execution_count": 385,
   "metadata": {},
   "outputs": [
    {
     "data": {
      "text/html": [
       "<div>\n",
       "<style scoped>\n",
       "    .dataframe tbody tr th:only-of-type {\n",
       "        vertical-align: middle;\n",
       "    }\n",
       "\n",
       "    .dataframe tbody tr th {\n",
       "        vertical-align: top;\n",
       "    }\n",
       "\n",
       "    .dataframe thead th {\n",
       "        text-align: right;\n",
       "    }\n",
       "</style>\n",
       "<table border=\"1\" class=\"dataframe\">\n",
       "  <thead>\n",
       "    <tr style=\"text-align: right;\">\n",
       "      <th></th>\n",
       "      <th>order_id</th>\n",
       "      <th>product_id</th>\n",
       "      <th>user_id</th>\n",
       "    </tr>\n",
       "  </thead>\n",
       "  <tbody>\n",
       "    <tr>\n",
       "      <th>0</th>\n",
       "      <td>1</td>\n",
       "      <td>[49302, 11109, 10246, 49683, 43633, 13176, 472...</td>\n",
       "      <td>112108</td>\n",
       "    </tr>\n",
       "    <tr>\n",
       "      <th>1</th>\n",
       "      <td>36</td>\n",
       "      <td>[39612, 19660, 49235, 43086, 46620, 34497, 486...</td>\n",
       "      <td>79431</td>\n",
       "    </tr>\n",
       "    <tr>\n",
       "      <th>2</th>\n",
       "      <td>38</td>\n",
       "      <td>[11913, 18159, 4461, 21616, 23622, 32433, 2884...</td>\n",
       "      <td>42756</td>\n",
       "    </tr>\n",
       "    <tr>\n",
       "      <th>3</th>\n",
       "      <td>96</td>\n",
       "      <td>[20574, 30391, 40706, 25610, 27966, 24489, 39275]</td>\n",
       "      <td>17227</td>\n",
       "    </tr>\n",
       "    <tr>\n",
       "      <th>4</th>\n",
       "      <td>98</td>\n",
       "      <td>[8859, 19731, 43654, 13176, 4357, 37664, 34065...</td>\n",
       "      <td>56463</td>\n",
       "    </tr>\n",
       "  </tbody>\n",
       "</table>\n",
       "</div>"
      ],
      "text/plain": [
       "   order_id                                         product_id  user_id\n",
       "0         1  [49302, 11109, 10246, 49683, 43633, 13176, 472...   112108\n",
       "1        36  [39612, 19660, 49235, 43086, 46620, 34497, 486...    79431\n",
       "2        38  [11913, 18159, 4461, 21616, 23622, 32433, 2884...    42756\n",
       "3        96  [20574, 30391, 40706, 25610, 27966, 24489, 39275]    17227\n",
       "4        98  [8859, 19731, 43654, 13176, 4357, 37664, 34065...    56463"
      ]
     },
     "execution_count": 385,
     "metadata": {},
     "output_type": "execute_result"
    }
   ],
   "source": [
    "user_products__train.head()"
   ]
  },
  {
   "cell_type": "code",
   "execution_count": 386,
   "metadata": {
    "collapsed": true
   },
   "outputs": [],
   "source": [
    "user_products__train = user_products__train[['user_id', 'product_id']]"
   ]
  },
  {
   "cell_type": "code",
   "execution_count": 387,
   "metadata": {
    "collapsed": true
   },
   "outputs": [],
   "source": [
    "user_products__train.to_csv(\"user_products__train.csv\", index_label=False)"
   ]
  },
  {
   "cell_type": "code",
   "execution_count": 388,
   "metadata": {},
   "outputs": [
    {
     "data": {
      "text/plain": [
       "(131209, 2)"
      ]
     },
     "execution_count": 388,
     "metadata": {},
     "output_type": "execute_result"
    }
   ],
   "source": [
    "user_products__train.shape"
   ]
  },
  {
   "cell_type": "code",
   "execution_count": 393,
   "metadata": {
    "scrolled": true
   },
   "outputs": [
    {
     "data": {
      "text/plain": [
       "(131209, 2)"
      ]
     },
     "execution_count": 393,
     "metadata": {},
     "output_type": "execute_result"
    }
   ],
   "source": [
    "user_products__train = pd.read_csv(\"user_products__train.csv\")\n",
    "user_products__train.shape"
   ]
  },
  {
   "cell_type": "code",
   "execution_count": 395,
   "metadata": {},
   "outputs": [
    {
     "data": {
      "text/plain": [
       "user_id        int64\n",
       "product_id    object\n",
       "dtype: object"
      ]
     },
     "execution_count": 395,
     "metadata": {},
     "output_type": "execute_result"
    }
   ],
   "source": [
    "user_products__train.dtypes"
   ]
  },
  {
   "cell_type": "code",
   "execution_count": 396,
   "metadata": {},
   "outputs": [],
   "source": [
    "user_products__train.set_index('user_id', inplace=True)"
   ]
  },
  {
   "cell_type": "code",
   "execution_count": 400,
   "metadata": {
    "scrolled": true
   },
   "outputs": [
    {
     "data": {
      "text/html": [
       "<div>\n",
       "<style scoped>\n",
       "    .dataframe tbody tr th:only-of-type {\n",
       "        vertical-align: middle;\n",
       "    }\n",
       "\n",
       "    .dataframe tbody tr th {\n",
       "        vertical-align: top;\n",
       "    }\n",
       "\n",
       "    .dataframe thead th {\n",
       "        text-align: right;\n",
       "    }\n",
       "</style>\n",
       "<table border=\"1\" class=\"dataframe\">\n",
       "  <thead>\n",
       "    <tr style=\"text-align: right;\">\n",
       "      <th></th>\n",
       "      <th>product_id</th>\n",
       "    </tr>\n",
       "    <tr>\n",
       "      <th>user_id</th>\n",
       "      <th></th>\n",
       "    </tr>\n",
       "  </thead>\n",
       "  <tbody>\n",
       "    <tr>\n",
       "      <th>112108</th>\n",
       "      <td>[49302, 11109, 10246, 49683, 43633, 13176, 472...</td>\n",
       "    </tr>\n",
       "    <tr>\n",
       "      <th>79431</th>\n",
       "      <td>[39612, 19660, 49235, 43086, 46620, 34497, 486...</td>\n",
       "    </tr>\n",
       "    <tr>\n",
       "      <th>42756</th>\n",
       "      <td>[11913, 18159, 4461, 21616, 23622, 32433, 2884...</td>\n",
       "    </tr>\n",
       "    <tr>\n",
       "      <th>17227</th>\n",
       "      <td>[20574, 30391, 40706, 25610, 27966, 24489, 39275]</td>\n",
       "    </tr>\n",
       "    <tr>\n",
       "      <th>56463</th>\n",
       "      <td>[8859, 19731, 43654, 13176, 4357, 37664, 34065...</td>\n",
       "    </tr>\n",
       "    <tr>\n",
       "      <th>125030</th>\n",
       "      <td>[27104, 21174, 41860, 38273, 47209, 5876, 2921...</td>\n",
       "    </tr>\n",
       "    <tr>\n",
       "      <th>182389</th>\n",
       "      <td>[18394, 37766, 13176, 6236, 5077, 8153, 43772,...</td>\n",
       "    </tr>\n",
       "    <tr>\n",
       "      <th>98711</th>\n",
       "      <td>[1194, 5578, 38159, 10305, 38557]</td>\n",
       "    </tr>\n",
       "    <tr>\n",
       "      <th>51011</th>\n",
       "      <td>[28199, 24852, 29883, 28427, 7754, 39947, 4730...</td>\n",
       "    </tr>\n",
       "    <tr>\n",
       "      <th>156353</th>\n",
       "      <td>[33000, 11361, 27695, 47672, 45633, 38015, 369...</td>\n",
       "    </tr>\n",
       "    <tr>\n",
       "      <th>111860</th>\n",
       "      <td>[12078, 6184, 32403, 19828, 12341, 16797, 1342...</td>\n",
       "    </tr>\n",
       "    <tr>\n",
       "      <th>200032</th>\n",
       "      <td>[18196, 34229, 48118, 14992, 35365, 31506, 497...</td>\n",
       "    </tr>\n",
       "    <tr>\n",
       "      <th>77529</th>\n",
       "      <td>[20082, 24852, 47144, 36441, 12206, 4034, 3057...</td>\n",
       "    </tr>\n",
       "    <tr>\n",
       "      <th>184099</th>\n",
       "      <td>[21137, 27344, 42265, 12211, 29740, 31717, 138...</td>\n",
       "    </tr>\n",
       "    <tr>\n",
       "      <th>152953</th>\n",
       "      <td>[45683]</td>\n",
       "    </tr>\n",
       "    <tr>\n",
       "      <th>41751</th>\n",
       "      <td>[21137, 41220, 15872, 30391]</td>\n",
       "    </tr>\n",
       "    <tr>\n",
       "      <th>27650</th>\n",
       "      <td>[47482, 43335, 16108]</td>\n",
       "    </tr>\n",
       "    <tr>\n",
       "      <th>27766</th>\n",
       "      <td>[14992, 21405, 11182, 28289, 9387, 18599, 31766]</td>\n",
       "    </tr>\n",
       "    <tr>\n",
       "      <th>61911</th>\n",
       "      <td>[48070, 24852, 23044, 45066, 21903, 24964, 472...</td>\n",
       "    </tr>\n",
       "    <tr>\n",
       "      <th>47848</th>\n",
       "      <td>[8013, 46149]</td>\n",
       "    </tr>\n",
       "    <tr>\n",
       "      <th>166117</th>\n",
       "      <td>[17417, 1582, 196, 29529, 42013, 45687, 47931,...</td>\n",
       "    </tr>\n",
       "    <tr>\n",
       "      <th>310</th>\n",
       "      <td>[45061, 28464, 12626, 4818]</td>\n",
       "    </tr>\n",
       "    <tr>\n",
       "      <th>47475</th>\n",
       "      <td>[34966, 23517, 26369, 43961]</td>\n",
       "    </tr>\n",
       "    <tr>\n",
       "      <th>164808</th>\n",
       "      <td>[11063, 26165, 27966, 8859, 44116, 5450, 9741,...</td>\n",
       "    </tr>\n",
       "    <tr>\n",
       "      <th>16111</th>\n",
       "      <td>[24852, 33000, 16083, 10814, 21634, 35140, 230...</td>\n",
       "    </tr>\n",
       "    <tr>\n",
       "      <th>173934</th>\n",
       "      <td>[13176, 39922, 5258, 21137]</td>\n",
       "    </tr>\n",
       "    <tr>\n",
       "      <th>80403</th>\n",
       "      <td>[13984, 26209, 15261, 24082, 25610]</td>\n",
       "    </tr>\n",
       "    <tr>\n",
       "      <th>129386</th>\n",
       "      <td>[6046, 47626, 18465, 27104, 8424, 15937]</td>\n",
       "    </tr>\n",
       "    <tr>\n",
       "      <th>119791</th>\n",
       "      <td>[47211, 45685]</td>\n",
       "    </tr>\n",
       "    <tr>\n",
       "      <th>34221</th>\n",
       "      <td>[24852, 21137, 34969, 46993, 40396, 45757, 755...</td>\n",
       "    </tr>\n",
       "    <tr>\n",
       "      <th>...</th>\n",
       "      <td>...</td>\n",
       "    </tr>\n",
       "    <tr>\n",
       "      <th>85573</th>\n",
       "      <td>[46979, 17794, 4605, 16823, 6104, 28842, 3481,...</td>\n",
       "    </tr>\n",
       "    <tr>\n",
       "      <th>109698</th>\n",
       "      <td>[20794, 47521, 29118, 5353, 7559, 26201, 49175...</td>\n",
       "    </tr>\n",
       "    <tr>\n",
       "      <th>6586</th>\n",
       "      <td>[790, 37250, 48871, 43183, 43565, 15290, 24184...</td>\n",
       "    </tr>\n",
       "    <tr>\n",
       "      <th>115469</th>\n",
       "      <td>[13539, 44987, 546, 30995, 5363, 31510, 31343,...</td>\n",
       "    </tr>\n",
       "    <tr>\n",
       "      <th>158384</th>\n",
       "      <td>[37067, 30169, 27730, 11707, 11688, 5250, 5251...</td>\n",
       "    </tr>\n",
       "    <tr>\n",
       "      <th>116126</th>\n",
       "      <td>[33493]</td>\n",
       "    </tr>\n",
       "    <tr>\n",
       "      <th>68287</th>\n",
       "      <td>[24231, 20754, 34458]</td>\n",
       "    </tr>\n",
       "    <tr>\n",
       "      <th>31068</th>\n",
       "      <td>[46822, 2667, 28155, 14385]</td>\n",
       "    </tr>\n",
       "    <tr>\n",
       "      <th>69135</th>\n",
       "      <td>[33303, 23916, 19937, 25087, 12975, 18994, 139...</td>\n",
       "    </tr>\n",
       "    <tr>\n",
       "      <th>6783</th>\n",
       "      <td>[47031, 22890]</td>\n",
       "    </tr>\n",
       "    <tr>\n",
       "      <th>124642</th>\n",
       "      <td>[12145, 21294, 16710, 13838, 43295]</td>\n",
       "    </tr>\n",
       "    <tr>\n",
       "      <th>113970</th>\n",
       "      <td>[13176, 37687, 22113, 45554, 39877, 261, 30336...</td>\n",
       "    </tr>\n",
       "    <tr>\n",
       "      <th>13121</th>\n",
       "      <td>[45004]</td>\n",
       "    </tr>\n",
       "    <tr>\n",
       "      <th>103655</th>\n",
       "      <td>[4149]</td>\n",
       "    </tr>\n",
       "    <tr>\n",
       "      <th>193913</th>\n",
       "      <td>[27086, 33120, 18465, 47209, 46627, 20082, 123...</td>\n",
       "    </tr>\n",
       "    <tr>\n",
       "      <th>143793</th>\n",
       "      <td>[13176, 26427, 19057, 34347, 23400, 18531, 317...</td>\n",
       "    </tr>\n",
       "    <tr>\n",
       "      <th>52626</th>\n",
       "      <td>[21903, 35547, 13176, 24810, 35167, 37646, 475...</td>\n",
       "    </tr>\n",
       "    <tr>\n",
       "      <th>116048</th>\n",
       "      <td>[33756, 36923, 28647, 2536, 30266]</td>\n",
       "    </tr>\n",
       "    <tr>\n",
       "      <th>137664</th>\n",
       "      <td>[36714, 35851, 32515, 28745, 17794, 48848, 278...</td>\n",
       "    </tr>\n",
       "    <tr>\n",
       "      <th>20949</th>\n",
       "      <td>[49520, 49281, 25691, 30183, 25544, 47626, 310...</td>\n",
       "    </tr>\n",
       "    <tr>\n",
       "      <th>8765</th>\n",
       "      <td>[35221, 5194, 28204, 33754, 4957, 25146, 21938...</td>\n",
       "    </tr>\n",
       "    <tr>\n",
       "      <th>101290</th>\n",
       "      <td>[23965, 36691, 47877, 19029, 38461, 185]</td>\n",
       "    </tr>\n",
       "    <tr>\n",
       "      <th>15818</th>\n",
       "      <td>[24852, 45066, 24035, 36205, 29967, 14947, 208...</td>\n",
       "    </tr>\n",
       "    <tr>\n",
       "      <th>123299</th>\n",
       "      <td>[36724, 27344, 11520, 30391, 21137, 5876, 2190...</td>\n",
       "    </tr>\n",
       "    <tr>\n",
       "      <th>174668</th>\n",
       "      <td>[24535, 15261, 32237, 10, 4493, 7781]</td>\n",
       "    </tr>\n",
       "    <tr>\n",
       "      <th>189544</th>\n",
       "      <td>[40800, 17706, 33424, 17299, 26800, 34243]</td>\n",
       "    </tr>\n",
       "    <tr>\n",
       "      <th>83898</th>\n",
       "      <td>[5750, 9340, 21709, 16475, 12432]</td>\n",
       "    </tr>\n",
       "    <tr>\n",
       "      <th>136952</th>\n",
       "      <td>[15629, 4347, 34466, 6244, 6858, 30316, 35578,...</td>\n",
       "    </tr>\n",
       "    <tr>\n",
       "      <th>169679</th>\n",
       "      <td>[49235, 13565, 14233, 35548]</td>\n",
       "    </tr>\n",
       "    <tr>\n",
       "      <th>139822</th>\n",
       "      <td>[35951, 16953, 4724]</td>\n",
       "    </tr>\n",
       "  </tbody>\n",
       "</table>\n",
       "<p>131209 rows × 1 columns</p>\n",
       "</div>"
      ],
      "text/plain": [
       "                                                product_id\n",
       "user_id                                                   \n",
       "112108   [49302, 11109, 10246, 49683, 43633, 13176, 472...\n",
       "79431    [39612, 19660, 49235, 43086, 46620, 34497, 486...\n",
       "42756    [11913, 18159, 4461, 21616, 23622, 32433, 2884...\n",
       "17227    [20574, 30391, 40706, 25610, 27966, 24489, 39275]\n",
       "56463    [8859, 19731, 43654, 13176, 4357, 37664, 34065...\n",
       "125030   [27104, 21174, 41860, 38273, 47209, 5876, 2921...\n",
       "182389   [18394, 37766, 13176, 6236, 5077, 8153, 43772,...\n",
       "98711                    [1194, 5578, 38159, 10305, 38557]\n",
       "51011    [28199, 24852, 29883, 28427, 7754, 39947, 4730...\n",
       "156353   [33000, 11361, 27695, 47672, 45633, 38015, 369...\n",
       "111860   [12078, 6184, 32403, 19828, 12341, 16797, 1342...\n",
       "200032   [18196, 34229, 48118, 14992, 35365, 31506, 497...\n",
       "77529    [20082, 24852, 47144, 36441, 12206, 4034, 3057...\n",
       "184099   [21137, 27344, 42265, 12211, 29740, 31717, 138...\n",
       "152953                                             [45683]\n",
       "41751                         [21137, 41220, 15872, 30391]\n",
       "27650                                [47482, 43335, 16108]\n",
       "27766     [14992, 21405, 11182, 28289, 9387, 18599, 31766]\n",
       "61911    [48070, 24852, 23044, 45066, 21903, 24964, 472...\n",
       "47848                                        [8013, 46149]\n",
       "166117   [17417, 1582, 196, 29529, 42013, 45687, 47931,...\n",
       "310                            [45061, 28464, 12626, 4818]\n",
       "47475                         [34966, 23517, 26369, 43961]\n",
       "164808   [11063, 26165, 27966, 8859, 44116, 5450, 9741,...\n",
       "16111    [24852, 33000, 16083, 10814, 21634, 35140, 230...\n",
       "173934                         [13176, 39922, 5258, 21137]\n",
       "80403                  [13984, 26209, 15261, 24082, 25610]\n",
       "129386            [6046, 47626, 18465, 27104, 8424, 15937]\n",
       "119791                                      [47211, 45685]\n",
       "34221    [24852, 21137, 34969, 46993, 40396, 45757, 755...\n",
       "...                                                    ...\n",
       "85573    [46979, 17794, 4605, 16823, 6104, 28842, 3481,...\n",
       "109698   [20794, 47521, 29118, 5353, 7559, 26201, 49175...\n",
       "6586     [790, 37250, 48871, 43183, 43565, 15290, 24184...\n",
       "115469   [13539, 44987, 546, 30995, 5363, 31510, 31343,...\n",
       "158384   [37067, 30169, 27730, 11707, 11688, 5250, 5251...\n",
       "116126                                             [33493]\n",
       "68287                                [24231, 20754, 34458]\n",
       "31068                          [46822, 2667, 28155, 14385]\n",
       "69135    [33303, 23916, 19937, 25087, 12975, 18994, 139...\n",
       "6783                                        [47031, 22890]\n",
       "124642                 [12145, 21294, 16710, 13838, 43295]\n",
       "113970   [13176, 37687, 22113, 45554, 39877, 261, 30336...\n",
       "13121                                              [45004]\n",
       "103655                                              [4149]\n",
       "193913   [27086, 33120, 18465, 47209, 46627, 20082, 123...\n",
       "143793   [13176, 26427, 19057, 34347, 23400, 18531, 317...\n",
       "52626    [21903, 35547, 13176, 24810, 35167, 37646, 475...\n",
       "116048                  [33756, 36923, 28647, 2536, 30266]\n",
       "137664   [36714, 35851, 32515, 28745, 17794, 48848, 278...\n",
       "20949    [49520, 49281, 25691, 30183, 25544, 47626, 310...\n",
       "8765     [35221, 5194, 28204, 33754, 4957, 25146, 21938...\n",
       "101290            [23965, 36691, 47877, 19029, 38461, 185]\n",
       "15818    [24852, 45066, 24035, 36205, 29967, 14947, 208...\n",
       "123299   [36724, 27344, 11520, 30391, 21137, 5876, 2190...\n",
       "174668               [24535, 15261, 32237, 10, 4493, 7781]\n",
       "189544          [40800, 17706, 33424, 17299, 26800, 34243]\n",
       "83898                    [5750, 9340, 21709, 16475, 12432]\n",
       "136952   [15629, 4347, 34466, 6244, 6858, 30316, 35578,...\n",
       "169679                        [49235, 13565, 14233, 35548]\n",
       "139822                                [35951, 16953, 4724]\n",
       "\n",
       "[131209 rows x 1 columns]"
      ]
     },
     "execution_count": 400,
     "metadata": {},
     "output_type": "execute_result"
    }
   ],
   "source": [
    "user_products__train"
   ]
  },
  {
   "cell_type": "code",
   "execution_count": 428,
   "metadata": {},
   "outputs": [
    {
     "data": {
      "text/plain": [
       "product_id    [49302, 11109, 10246, 49683, 43633, 13176, 472...\n",
       "Name: 112108, dtype: object"
      ]
     },
     "execution_count": 428,
     "metadata": {},
     "output_type": "execute_result"
    }
   ],
   "source": [
    "user_products__train.iloc[0]"
   ]
  },
  {
   "cell_type": "markdown",
   "metadata": {},
   "source": [
    "# Prior data"
   ]
  },
  {
   "cell_type": "code",
   "execution_count": 28,
   "metadata": {},
   "outputs": [
    {
     "data": {
      "text/plain": [
       "(3214874,)"
      ]
     },
     "execution_count": 28,
     "metadata": {},
     "output_type": "execute_result"
    }
   ],
   "source": [
    "orders_prior = orders[orders['eval_set'] == 'prior']\n",
    "orders_prior['order_id'].unique().shape"
   ]
  },
  {
   "cell_type": "code",
   "execution_count": 29,
   "metadata": {},
   "outputs": [
    {
     "data": {
      "text/plain": [
       "3214874"
      ]
     },
     "execution_count": 29,
     "metadata": {},
     "output_type": "execute_result"
    }
   ],
   "source": [
    "order_products__prior['order_id'].unique().shape[0]"
   ]
  },
  {
   "cell_type": "code",
   "execution_count": 35,
   "metadata": {},
   "outputs": [
    {
     "data": {
      "text/html": [
       "<div>\n",
       "<style scoped>\n",
       "    .dataframe tbody tr th:only-of-type {\n",
       "        vertical-align: middle;\n",
       "    }\n",
       "\n",
       "    .dataframe tbody tr th {\n",
       "        vertical-align: top;\n",
       "    }\n",
       "\n",
       "    .dataframe thead th {\n",
       "        text-align: right;\n",
       "    }\n",
       "</style>\n",
       "<table border=\"1\" class=\"dataframe\">\n",
       "  <thead>\n",
       "    <tr style=\"text-align: right;\">\n",
       "      <th></th>\n",
       "      <th>order_id</th>\n",
       "      <th>user_id</th>\n",
       "      <th>eval_set</th>\n",
       "      <th>order_number</th>\n",
       "      <th>order_dow</th>\n",
       "      <th>order_hour_of_day</th>\n",
       "      <th>days_since_prior_order</th>\n",
       "      <th>product_id</th>\n",
       "      <th>add_to_cart_order</th>\n",
       "      <th>reordered</th>\n",
       "    </tr>\n",
       "  </thead>\n",
       "  <tbody>\n",
       "    <tr>\n",
       "      <th>0</th>\n",
       "      <td>2539329</td>\n",
       "      <td>1</td>\n",
       "      <td>prior</td>\n",
       "      <td>1</td>\n",
       "      <td>2</td>\n",
       "      <td>8</td>\n",
       "      <td>NaN</td>\n",
       "      <td>196</td>\n",
       "      <td>1</td>\n",
       "      <td>0</td>\n",
       "    </tr>\n",
       "    <tr>\n",
       "      <th>1</th>\n",
       "      <td>2539329</td>\n",
       "      <td>1</td>\n",
       "      <td>prior</td>\n",
       "      <td>1</td>\n",
       "      <td>2</td>\n",
       "      <td>8</td>\n",
       "      <td>NaN</td>\n",
       "      <td>14084</td>\n",
       "      <td>2</td>\n",
       "      <td>0</td>\n",
       "    </tr>\n",
       "    <tr>\n",
       "      <th>2</th>\n",
       "      <td>2539329</td>\n",
       "      <td>1</td>\n",
       "      <td>prior</td>\n",
       "      <td>1</td>\n",
       "      <td>2</td>\n",
       "      <td>8</td>\n",
       "      <td>NaN</td>\n",
       "      <td>12427</td>\n",
       "      <td>3</td>\n",
       "      <td>0</td>\n",
       "    </tr>\n",
       "    <tr>\n",
       "      <th>3</th>\n",
       "      <td>2539329</td>\n",
       "      <td>1</td>\n",
       "      <td>prior</td>\n",
       "      <td>1</td>\n",
       "      <td>2</td>\n",
       "      <td>8</td>\n",
       "      <td>NaN</td>\n",
       "      <td>26088</td>\n",
       "      <td>4</td>\n",
       "      <td>0</td>\n",
       "    </tr>\n",
       "    <tr>\n",
       "      <th>4</th>\n",
       "      <td>2539329</td>\n",
       "      <td>1</td>\n",
       "      <td>prior</td>\n",
       "      <td>1</td>\n",
       "      <td>2</td>\n",
       "      <td>8</td>\n",
       "      <td>NaN</td>\n",
       "      <td>26405</td>\n",
       "      <td>5</td>\n",
       "      <td>0</td>\n",
       "    </tr>\n",
       "  </tbody>\n",
       "</table>\n",
       "</div>"
      ],
      "text/plain": [
       "   order_id  user_id eval_set  order_number  order_dow  order_hour_of_day  \\\n",
       "0   2539329        1    prior             1          2                  8   \n",
       "1   2539329        1    prior             1          2                  8   \n",
       "2   2539329        1    prior             1          2                  8   \n",
       "3   2539329        1    prior             1          2                  8   \n",
       "4   2539329        1    prior             1          2                  8   \n",
       "\n",
       "   days_since_prior_order  product_id  add_to_cart_order  reordered  \n",
       "0                     NaN         196                  1          0  \n",
       "1                     NaN       14084                  2          0  \n",
       "2                     NaN       12427                  3          0  \n",
       "3                     NaN       26088                  4          0  \n",
       "4                     NaN       26405                  5          0  "
      ]
     },
     "execution_count": 35,
     "metadata": {},
     "output_type": "execute_result"
    }
   ],
   "source": [
    "user_products__prior = pd.merge(orders_prior, order_products__prior, on='order_id')\n",
    "user_products__prior.head()"
   ]
  },
  {
   "cell_type": "code",
   "execution_count": 37,
   "metadata": {},
   "outputs": [
    {
     "data": {
      "text/html": [
       "<div>\n",
       "<style scoped>\n",
       "    .dataframe tbody tr th:only-of-type {\n",
       "        vertical-align: middle;\n",
       "    }\n",
       "\n",
       "    .dataframe tbody tr th {\n",
       "        vertical-align: top;\n",
       "    }\n",
       "\n",
       "    .dataframe thead th {\n",
       "        text-align: right;\n",
       "    }\n",
       "</style>\n",
       "<table border=\"1\" class=\"dataframe\">\n",
       "  <thead>\n",
       "    <tr style=\"text-align: right;\">\n",
       "      <th></th>\n",
       "      <th>user_id</th>\n",
       "      <th>product_id</th>\n",
       "      <th>0</th>\n",
       "    </tr>\n",
       "  </thead>\n",
       "  <tbody>\n",
       "    <tr>\n",
       "      <th>0</th>\n",
       "      <td>1</td>\n",
       "      <td>196</td>\n",
       "      <td>10</td>\n",
       "    </tr>\n",
       "    <tr>\n",
       "      <th>1</th>\n",
       "      <td>1</td>\n",
       "      <td>10258</td>\n",
       "      <td>9</td>\n",
       "    </tr>\n",
       "    <tr>\n",
       "      <th>2</th>\n",
       "      <td>1</td>\n",
       "      <td>10326</td>\n",
       "      <td>1</td>\n",
       "    </tr>\n",
       "    <tr>\n",
       "      <th>3</th>\n",
       "      <td>1</td>\n",
       "      <td>12427</td>\n",
       "      <td>10</td>\n",
       "    </tr>\n",
       "    <tr>\n",
       "      <th>4</th>\n",
       "      <td>1</td>\n",
       "      <td>13032</td>\n",
       "      <td>3</td>\n",
       "    </tr>\n",
       "  </tbody>\n",
       "</table>\n",
       "</div>"
      ],
      "text/plain": [
       "   user_id  product_id   0\n",
       "0        1         196  10\n",
       "1        1       10258   9\n",
       "2        1       10326   1\n",
       "3        1       12427  10\n",
       "4        1       13032   3"
      ]
     },
     "execution_count": 37,
     "metadata": {},
     "output_type": "execute_result"
    }
   ],
   "source": [
    "user_products__prior = user_products__prior[['user_id', 'product_id']]\n",
    "user_products__prior = user_products__prior.groupby(['user_id', 'product_id']).size().reset_index()\n",
    "user_products__prior.head()"
   ]
  },
  {
   "cell_type": "code",
   "execution_count": 39,
   "metadata": {
    "collapsed": true
   },
   "outputs": [],
   "source": [
    "user_products__prior = user_products__prior.rename(columns={0:'QTY'})"
   ]
  },
  {
   "cell_type": "code",
   "execution_count": 40,
   "metadata": {
    "collapsed": true
   },
   "outputs": [],
   "source": [
    "user_products__prior.to_csv('user_products__prior.csv', index_label=False)"
   ]
  },
  {
   "cell_type": "code",
   "execution_count": 168,
   "metadata": {
    "collapsed": true
   },
   "outputs": [],
   "source": [
    "user_products__prior = pd.read_csv('user_products__prior.csv')"
   ]
  },
  {
   "cell_type": "markdown",
   "metadata": {},
   "source": [
    "# Sparse matrix"
   ]
  },
  {
   "cell_type": "code",
   "execution_count": 173,
   "metadata": {
    "collapsed": true,
    "scrolled": false
   },
   "outputs": [],
   "source": [
    "columns_to_cat = ['user_id', 'product_id']\n",
    "for column in columns_to_cat:\n",
    "    user_products__prior[column] = user_products__prior[column].astype('category')"
   ]
  },
  {
   "cell_type": "code",
   "execution_count": 113,
   "metadata": {
    "collapsed": true
   },
   "outputs": [],
   "source": [
    "from scipy.sparse import coo_matrix, save_npz\n",
    "user_product_quantity = coo_matrix((user_products__prior[\"QTY\"],\n",
    "                                (user_products__prior[\"product_id\"].cat.codes.copy(),\n",
    "                                user_products__prior[\"user_id\"].cat.codes.copy())))\n",
    "\n",
    "# Here I'm using cat.codes to assign a coorinate sytem to users and product_id, then mappin the values onto a matrix.\n",
    "# So the matrix values for (user, product_id) in cooridinate space will be the amound of product x user y bought\n",
    "# Make a converter later to convert from user/product id numbers to matrix coordinates\n",
    "\n",
    "save_npz('sparse.npz', user_product_quantity)"
   ]
  },
  {
   "cell_type": "code",
   "execution_count": null,
   "metadata": {
    "collapsed": true
   },
   "outputs": [],
   "source": [
    "from scipy.sparse import load_npz\n",
    "user_product_quantity = load_npz('sparse.npz').tocsr().astype(np.float32)"
   ]
  },
  {
   "cell_type": "code",
   "execution_count": 114,
   "metadata": {
    "collapsed": true
   },
   "outputs": [],
   "source": [
    "user_product_quantity = user_product_quantity.tocsr().astype(np.float32)"
   ]
  },
  {
   "cell_type": "markdown",
   "metadata": {},
   "source": [
    "Check later if you should demean data like [here](https://beckernick.github.io/matrix-factorization-recommender/)"
   ]
  },
  {
   "cell_type": "markdown",
   "metadata": {},
   "source": [
    "# Model"
   ]
  },
  {
   "cell_type": "code",
   "execution_count": 556,
   "metadata": {
    "scrolled": true
   },
   "outputs": [],
   "source": [
    "from scipy.sparse.linalg import svds\n",
    "U, sigma, Vt = svds(user_product_quantity, k=50)\n",
    "Vt = Vt.T * sigma"
   ]
  },
  {
   "cell_type": "markdown",
   "metadata": {},
   "source": [
    "# Predictions"
   ]
  },
  {
   "cell_type": "markdown",
   "metadata": {},
   "source": [
    "### Converters"
   ]
  },
  {
   "cell_type": "code",
   "execution_count": 218,
   "metadata": {},
   "outputs": [
    {
     "data": {
      "text/plain": [
       "Int64Index([     1,      2,      3,      4,      5,      6,      7,      8,\n",
       "                 9,     10,\n",
       "            ...\n",
       "            206200, 206201, 206202, 206203, 206204, 206205, 206206, 206207,\n",
       "            206208, 206209],\n",
       "           dtype='int64', length=206209)"
      ]
     },
     "execution_count": 218,
     "metadata": {},
     "output_type": "execute_result"
    }
   ],
   "source": [
    "user_products__prior['user_id'].cat.categories"
   ]
  },
  {
   "cell_type": "code",
   "execution_count": 220,
   "metadata": {
    "scrolled": true
   },
   "outputs": [
    {
     "data": {
      "text/html": [
       "<div>\n",
       "<style scoped>\n",
       "    .dataframe tbody tr th:only-of-type {\n",
       "        vertical-align: middle;\n",
       "    }\n",
       "\n",
       "    .dataframe tbody tr th {\n",
       "        vertical-align: top;\n",
       "    }\n",
       "\n",
       "    .dataframe thead th {\n",
       "        text-align: right;\n",
       "    }\n",
       "</style>\n",
       "<table border=\"1\" class=\"dataframe\">\n",
       "  <thead>\n",
       "    <tr style=\"text-align: right;\">\n",
       "      <th></th>\n",
       "      <th>user_id</th>\n",
       "      <th>product_id</th>\n",
       "      <th>QTY</th>\n",
       "    </tr>\n",
       "  </thead>\n",
       "  <tbody>\n",
       "    <tr>\n",
       "      <th>0</th>\n",
       "      <td>1</td>\n",
       "      <td>196</td>\n",
       "      <td>10</td>\n",
       "    </tr>\n",
       "    <tr>\n",
       "      <th>1</th>\n",
       "      <td>1</td>\n",
       "      <td>10258</td>\n",
       "      <td>9</td>\n",
       "    </tr>\n",
       "    <tr>\n",
       "      <th>2</th>\n",
       "      <td>1</td>\n",
       "      <td>10326</td>\n",
       "      <td>1</td>\n",
       "    </tr>\n",
       "    <tr>\n",
       "      <th>3</th>\n",
       "      <td>1</td>\n",
       "      <td>12427</td>\n",
       "      <td>10</td>\n",
       "    </tr>\n",
       "    <tr>\n",
       "      <th>4</th>\n",
       "      <td>1</td>\n",
       "      <td>13032</td>\n",
       "      <td>3</td>\n",
       "    </tr>\n",
       "  </tbody>\n",
       "</table>\n",
       "</div>"
      ],
      "text/plain": [
       "  user_id product_id  QTY\n",
       "0       1        196   10\n",
       "1       1      10258    9\n",
       "2       1      10326    1\n",
       "3       1      12427   10\n",
       "4       1      13032    3"
      ]
     },
     "execution_count": 220,
     "metadata": {},
     "output_type": "execute_result"
    }
   ],
   "source": [
    "user_products__prior.head()"
   ]
  },
  {
   "cell_type": "markdown",
   "metadata": {},
   "source": [
    "### Converter dictionaries"
   ]
  },
  {
   "cell_type": "code",
   "execution_count": 286,
   "metadata": {},
   "outputs": [],
   "source": [
    "# Put in id for product and user—get out coorinates for sparse matrix\n",
    "user_to_coords = {user_id:i for i, user_id in enumerate(user_products__prior['user_id'].cat.categories)}\n",
    "coords_to_product = {j:product_id for j, product_id in enumerate(user_products__prior['product_id'].cat.categories)} "
   ]
  },
  {
   "cell_type": "code",
   "execution_count": 288,
   "metadata": {
    "scrolled": false
   },
   "outputs": [],
   "source": [
    "# Recommener function will output product_ids. Use this dict to then get human names for food\n",
    "product_id_to_name_dict = pd.Series(products['product_name'].values, index=products['product_id']).to_dict()"
   ]
  },
  {
   "cell_type": "markdown",
   "metadata": {},
   "source": [
    "### Recommender"
   ]
  },
  {
   "cell_type": "code",
   "execution_count": 548,
   "metadata": {},
   "outputs": [],
   "source": [
    "def get_recommended_items(user_id, n, U, sigma, Vt):\n",
    "    user_coord = user_to_coords[user_id]\n",
    "    product_scores = Vt[user_coord].dot(U.T)\n",
    "    #top_picks = sorted(recommended_items, reverse=True)[:n]\n",
    "    #This is a more efficient way of doing it, don't really care about order—just want top n\n",
    "    top_pick_coords = np.argpartition(product_scores, -n)[-n:]\n",
    "    top_scores = product_scores[top_pick_coords]\n",
    "    top_products = [coords_to_product[coord] for coord in top_pick_coords]\n",
    "    \n",
    "    return top_products"
   ]
  },
  {
   "cell_type": "code",
   "execution_count": 297,
   "metadata": {
    "collapsed": true
   },
   "outputs": [],
   "source": [
    "def product_id_to_name(product_ids):\n",
    "    return [product_id_to_name_dict[id] for id in product_ids]\n",
    "    "
   ]
  },
  {
   "cell_type": "code",
   "execution_count": 532,
   "metadata": {
    "collapsed": true
   },
   "outputs": [],
   "source": [
    "from ast import literal_eval\n",
    "def get_real_items(user_id):\n",
    "    return literal_eval(user_products__train.loc[user_id][0])\n",
    "    "
   ]
  },
  {
   "cell_type": "code",
   "execution_count": 533,
   "metadata": {
    "scrolled": false
   },
   "outputs": [],
   "source": [
    "predicttest = product_id_to_name(get_recommended_items(21, 100))"
   ]
  },
  {
   "cell_type": "code",
   "execution_count": 534,
   "metadata": {},
   "outputs": [],
   "source": [
    "realtest = product_id_to_name(get_real_items(21))"
   ]
  },
  {
   "cell_type": "code",
   "execution_count": 538,
   "metadata": {},
   "outputs": [
    {
     "data": {
      "text/plain": [
       "{'Dry Roasted 100 Calorie Packs Almonds',\n",
       " 'Fridge Pack Cola',\n",
       " 'Pepperidge Farm® Goldfish Xtra Cheddar Baked Snack Crackers',\n",
       " 'Sparkling Water Grapefruit',\n",
       " 'Sugarfree Energy Drink',\n",
       " 'Zero Calories Berry Nutrient Enhanced Water'}"
      ]
     },
     "execution_count": 538,
     "metadata": {},
     "output_type": "execute_result"
    }
   ],
   "source": [
    "realtest"
   ]
  },
  {
   "cell_type": "code",
   "execution_count": 535,
   "metadata": {},
   "outputs": [
    {
     "data": {
      "text/plain": [
       "0.3333333333333333"
      ]
     },
     "execution_count": 535,
     "metadata": {},
     "output_type": "execute_result"
    }
   ],
   "source": [
    "predicttest = set(predicttest)\n",
    "realtest = set(realtest)\n",
    "if len(realtest) == 0:\n",
    "    print('oy')\n",
    "len(predicttest.intersection(realtest)) / len(realtest)"
   ]
  },
  {
   "cell_type": "markdown",
   "metadata": {},
   "source": [
    "# Evaluator"
   ]
  },
  {
   "cell_type": "markdown",
   "metadata": {},
   "source": [
    "### Test subjects"
   ]
  },
  {
   "cell_type": "code",
   "execution_count": 526,
   "metadata": {},
   "outputs": [],
   "source": [
    "test_subjects = user_products__train.index"
   ]
  },
  {
   "cell_type": "code",
   "execution_count": 545,
   "metadata": {
    "collapsed": true
   },
   "outputs": [],
   "source": [
    "def get_model_accuracy(user_ids, n, U, sigma, Vt):\n",
    "    accuracies = []\n",
    "    for user_id in user_ids:\n",
    "        recommended_items = set(get_recommended_items(user_id, n, U, sigma, Vt))\n",
    "        real_items = set(get_real_items(user_id))\n",
    "        accuracy = len(recommended_items.intersection(real_items)) / len(real_items)\n",
    "        accuracies.append(accuracy)\n",
    "        model_accuracy = np.mean(accuracies)\n",
    "    return model_accuracy"
   ]
  },
  {
   "cell_type": "code",
   "execution_count": 549,
   "metadata": {},
   "outputs": [
    {
     "data": {
      "text/plain": [
       "0.1425822929799591"
      ]
     },
     "execution_count": 549,
     "metadata": {},
     "output_type": "execute_result"
    }
   ],
   "source": [
    "get_model_accuracy(test_subjects, 10, U, sigma, Vt)"
   ]
  },
  {
   "cell_type": "code",
   "execution_count": 542,
   "metadata": {},
   "outputs": [
    {
     "data": {
      "text/plain": [
       "0.1425822929799591"
      ]
     },
     "execution_count": 542,
     "metadata": {},
     "output_type": "execute_result"
    }
   ],
   "source": [
    "get_model_accuracy(test_subjects)"
   ]
  },
  {
   "cell_type": "markdown",
   "metadata": {},
   "source": [
    "for k = 50, model accuracy is 0.14"
   ]
  },
  {
   "cell_type": "code",
   "execution_count": 537,
   "metadata": {
    "scrolled": false
   },
   "outputs": [
    {
     "data": {
      "text/plain": [
       "0.1425822929799591"
      ]
     },
     "execution_count": 537,
     "metadata": {},
     "output_type": "execute_result"
    }
   ],
   "source": [
    "model_accuracy"
   ]
  },
  {
   "cell_type": "markdown",
   "metadata": {},
   "source": [
    "## Hyperparameter optimization"
   ]
  },
  {
   "cell_type": "code",
   "execution_count": 554,
   "metadata": {},
   "outputs": [
    {
     "name": "stdout",
     "output_type": "stream",
     "text": [
      "50: 0.1425814320408241\n",
      "100: 0.16813466095533894\n",
      "150: 0.1828590552210617\n",
      "200: 0.19352852970690326\n"
     ]
    }
   ],
   "source": [
    "k_values = [1, 25, 50 ,100, 150, 200]\n",
    "for k in k_values:\n",
    "    U, sigma, Vt = svds(user_product_quantity, k)\n",
    "    Vt = Vt.T * sigma\n",
    "    \n",
    "    model_accuracy = get_model_accuracy(test_subjects, 10, U, sigma, Vt)\n",
    "    \n",
    "    print(f\"{k}: {model_accuracy}\")"
   ]
  },
  {
   "cell_type": "markdown",
   "metadata": {},
   "source": [
    "Honestly not sure why it skipped 1 and 25\n",
    "\n",
    "50: 0.1425814320408241\n",
    "\n",
    "100: 0.16813466095533894\n",
    "\n",
    "150: 0.1828590552210617\n",
    "\n",
    "200: 0.19352852970690326"
   ]
  },
  {
   "cell_type": "code",
   "execution_count": 555,
   "metadata": {},
   "outputs": [
    {
     "name": "stdout",
     "output_type": "stream",
     "text": [
      "250: 0.20264273917007064\n",
      "300: 0.20984979648356833\n",
      "350: 0.2163621196679199\n",
      "400: 0.2215989923078134\n",
      "450: 0.2262816610793348\n"
     ]
    }
   ],
   "source": [
    "k_values = [250, 300, 350, 400, 450]\n",
    "for k in k_values:\n",
    "    U, sigma, Vt = svds(user_product_quantity, k)\n",
    "    Vt = Vt.T * sigma\n",
    "    \n",
    "    model_accuracy = get_model_accuracy(test_subjects, 10, U, sigma, Vt)\n",
    "    \n",
    "    print(f\"{k}: {model_accuracy}\")"
   ]
  },
  {
   "cell_type": "code",
   "execution_count": null,
   "metadata": {
    "collapsed": true
   },
   "outputs": [],
   "source": []
  }
 ],
 "metadata": {
  "kernelspec": {
   "display_name": "Python 3",
   "language": "python",
   "name": "python3"
  },
  "language_info": {
   "codemirror_mode": {
    "name": "ipython",
    "version": 3
   },
   "file_extension": ".py",
   "mimetype": "text/x-python",
   "name": "python",
   "nbconvert_exporter": "python",
   "pygments_lexer": "ipython3",
   "version": "3.6.2"
  }
 },
 "nbformat": 4,
 "nbformat_minor": 2
}
