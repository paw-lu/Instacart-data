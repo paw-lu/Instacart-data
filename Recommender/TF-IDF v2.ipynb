{
 "cells": [
  {
   "cell_type": "markdown",
   "metadata": {},
   "source": [
    "# Import"
   ]
  },
  {
   "cell_type": "code",
   "execution_count": 2,
   "metadata": {
    "collapsed": true
   },
   "outputs": [],
   "source": [
    "import pandas as pd\n",
    "import numpy as np\n",
    "from sklearn.feature_extraction.text import TfidfVectorizer\n",
    "from sklearn.metrics.pairwise import linear_kernel\n",
    "from ast import literal_eval\n",
    "from collections import Counter\n",
    "import time\n",
    "from random import choices\n",
    "from scipy.sparse import csr_matrix\n",
    "from sklearn.externals import joblib\n",
    "from pickle import dump"
   ]
  },
  {
   "cell_type": "markdown",
   "metadata": {},
   "source": [
    "# Data"
   ]
  },
  {
   "cell_type": "markdown",
   "metadata": {},
   "source": [
    "## Load"
   ]
  },
  {
   "cell_type": "code",
   "execution_count": 305,
   "metadata": {
    "collapsed": true
   },
   "outputs": [],
   "source": [
    "order_products__train = pd.read_csv(\"../instacart_2017_05_01/order_products__train.csv\")\n",
    "order_products__prior = pd.read_csv(\"../instacart_2017_05_01/order_products__prior.csv\")\n",
    "products = pd.read_csv(\"../instacart_2017_05_01/products.csv\")\n",
    "orders = pd.read_csv(\"../instacart_2017_05_01/orders.csv\")"
   ]
  },
  {
   "cell_type": "markdown",
   "metadata": {},
   "source": [
    "## Train"
   ]
  },
  {
   "cell_type": "code",
   "execution_count": 306,
   "metadata": {
    "collapsed": true
   },
   "outputs": [],
   "source": [
    "orders_train = orders[orders['eval_set'] == 'train'].reset_index()\n",
    "orders_train = orders_train[['user_id', 'order_id']]"
   ]
  },
  {
   "cell_type": "code",
   "execution_count": 307,
   "metadata": {
    "scrolled": true
   },
   "outputs": [
    {
     "data": {
      "text/html": [
       "<div>\n",
       "<style scoped>\n",
       "    .dataframe tbody tr th:only-of-type {\n",
       "        vertical-align: middle;\n",
       "    }\n",
       "\n",
       "    .dataframe tbody tr th {\n",
       "        vertical-align: top;\n",
       "    }\n",
       "\n",
       "    .dataframe thead th {\n",
       "        text-align: right;\n",
       "    }\n",
       "</style>\n",
       "<table border=\"1\" class=\"dataframe\">\n",
       "  <thead>\n",
       "    <tr style=\"text-align: right;\">\n",
       "      <th></th>\n",
       "      <th>order_id</th>\n",
       "      <th>product_id</th>\n",
       "    </tr>\n",
       "  </thead>\n",
       "  <tbody>\n",
       "    <tr>\n",
       "      <th>0</th>\n",
       "      <td>1</td>\n",
       "      <td>[49302, 11109, 10246, 49683, 43633, 13176, 472...</td>\n",
       "    </tr>\n",
       "    <tr>\n",
       "      <th>1</th>\n",
       "      <td>36</td>\n",
       "      <td>[39612, 19660, 49235, 43086, 46620, 34497, 486...</td>\n",
       "    </tr>\n",
       "    <tr>\n",
       "      <th>2</th>\n",
       "      <td>38</td>\n",
       "      <td>[11913, 18159, 4461, 21616, 23622, 32433, 2884...</td>\n",
       "    </tr>\n",
       "    <tr>\n",
       "      <th>3</th>\n",
       "      <td>96</td>\n",
       "      <td>[20574, 30391, 40706, 25610, 27966, 24489, 39275]</td>\n",
       "    </tr>\n",
       "    <tr>\n",
       "      <th>4</th>\n",
       "      <td>98</td>\n",
       "      <td>[8859, 19731, 43654, 13176, 4357, 37664, 34065...</td>\n",
       "    </tr>\n",
       "  </tbody>\n",
       "</table>\n",
       "</div>"
      ],
      "text/plain": [
       "   order_id                                         product_id\n",
       "0         1  [49302, 11109, 10246, 49683, 43633, 13176, 472...\n",
       "1        36  [39612, 19660, 49235, 43086, 46620, 34497, 486...\n",
       "2        38  [11913, 18159, 4461, 21616, 23622, 32433, 2884...\n",
       "3        96  [20574, 30391, 40706, 25610, 27966, 24489, 39275]\n",
       "4        98  [8859, 19731, 43654, 13176, 4357, 37664, 34065..."
      ]
     },
     "execution_count": 307,
     "metadata": {},
     "output_type": "execute_result"
    }
   ],
   "source": [
    "order_products__train = order_products__train[['order_id', 'product_id', 'reordered']]\n",
    "order_products__train = order_products__train.groupby('order_id')['product_id'].apply(list).reset_index()\n",
    "order_products__train.head()"
   ]
  },
  {
   "cell_type": "code",
   "execution_count": 308,
   "metadata": {
    "collapsed": true
   },
   "outputs": [],
   "source": [
    "user_products__train = pd.merge(order_products__train, orders_train, on='order_id')\n",
    "user_products__train = user_products__train[['user_id', 'product_id']]"
   ]
  },
  {
   "cell_type": "code",
   "execution_count": 309,
   "metadata": {
    "scrolled": true
   },
   "outputs": [
    {
     "data": {
      "text/html": [
       "<div>\n",
       "<style scoped>\n",
       "    .dataframe tbody tr th:only-of-type {\n",
       "        vertical-align: middle;\n",
       "    }\n",
       "\n",
       "    .dataframe tbody tr th {\n",
       "        vertical-align: top;\n",
       "    }\n",
       "\n",
       "    .dataframe thead th {\n",
       "        text-align: right;\n",
       "    }\n",
       "</style>\n",
       "<table border=\"1\" class=\"dataframe\">\n",
       "  <thead>\n",
       "    <tr style=\"text-align: right;\">\n",
       "      <th></th>\n",
       "      <th>user_id</th>\n",
       "      <th>product_id</th>\n",
       "    </tr>\n",
       "  </thead>\n",
       "  <tbody>\n",
       "  </tbody>\n",
       "</table>\n",
       "</div>"
      ],
      "text/plain": [
       "Empty DataFrame\n",
       "Columns: [user_id, product_id]\n",
       "Index: []"
      ]
     },
     "execution_count": 309,
     "metadata": {},
     "output_type": "execute_result"
    }
   ],
   "source": [
    "user_products__train[user_products__train.duplicated(['user_id'], keep=False)]"
   ]
  },
  {
   "cell_type": "code",
   "execution_count": 310,
   "metadata": {
    "collapsed": true
   },
   "outputs": [],
   "source": [
    "user_products__train.set_index('user_id', inplace=True)"
   ]
  },
  {
   "cell_type": "code",
   "execution_count": 311,
   "metadata": {
    "scrolled": false
   },
   "outputs": [
    {
     "data": {
      "text/html": [
       "<div>\n",
       "<style scoped>\n",
       "    .dataframe tbody tr th:only-of-type {\n",
       "        vertical-align: middle;\n",
       "    }\n",
       "\n",
       "    .dataframe tbody tr th {\n",
       "        vertical-align: top;\n",
       "    }\n",
       "\n",
       "    .dataframe thead th {\n",
       "        text-align: right;\n",
       "    }\n",
       "</style>\n",
       "<table border=\"1\" class=\"dataframe\">\n",
       "  <thead>\n",
       "    <tr style=\"text-align: right;\">\n",
       "      <th></th>\n",
       "      <th>product_id</th>\n",
       "    </tr>\n",
       "    <tr>\n",
       "      <th>user_id</th>\n",
       "      <th></th>\n",
       "    </tr>\n",
       "  </thead>\n",
       "  <tbody>\n",
       "    <tr>\n",
       "      <th>112108</th>\n",
       "      <td>[49302, 11109, 10246, 49683, 43633, 13176, 472...</td>\n",
       "    </tr>\n",
       "    <tr>\n",
       "      <th>79431</th>\n",
       "      <td>[39612, 19660, 49235, 43086, 46620, 34497, 486...</td>\n",
       "    </tr>\n",
       "    <tr>\n",
       "      <th>42756</th>\n",
       "      <td>[11913, 18159, 4461, 21616, 23622, 32433, 2884...</td>\n",
       "    </tr>\n",
       "    <tr>\n",
       "      <th>17227</th>\n",
       "      <td>[20574, 30391, 40706, 25610, 27966, 24489, 39275]</td>\n",
       "    </tr>\n",
       "    <tr>\n",
       "      <th>56463</th>\n",
       "      <td>[8859, 19731, 43654, 13176, 4357, 37664, 34065...</td>\n",
       "    </tr>\n",
       "  </tbody>\n",
       "</table>\n",
       "</div>"
      ],
      "text/plain": [
       "                                                product_id\n",
       "user_id                                                   \n",
       "112108   [49302, 11109, 10246, 49683, 43633, 13176, 472...\n",
       "79431    [39612, 19660, 49235, 43086, 46620, 34497, 486...\n",
       "42756    [11913, 18159, 4461, 21616, 23622, 32433, 2884...\n",
       "17227    [20574, 30391, 40706, 25610, 27966, 24489, 39275]\n",
       "56463    [8859, 19731, 43654, 13176, 4357, 37664, 34065..."
      ]
     },
     "execution_count": 311,
     "metadata": {},
     "output_type": "execute_result"
    }
   ],
   "source": [
    "user_products__train.head()"
   ]
  },
  {
   "cell_type": "markdown",
   "metadata": {},
   "source": [
    "### Save/Load dataframes"
   ]
  },
  {
   "cell_type": "code",
   "execution_count": 52,
   "metadata": {
    "collapsed": true
   },
   "outputs": [],
   "source": [
    "user_products__train.to_csv(\"user_products__train.csv\")"
   ]
  },
  {
   "cell_type": "code",
   "execution_count": 53,
   "metadata": {},
   "outputs": [
    {
     "name": "stdout",
     "output_type": "stream",
     "text": [
      "user_products__train already exists\n"
     ]
    }
   ],
   "source": [
    "try:\n",
    "    user_products__train\n",
    "except NameError:\n",
    "    user_products__train = pd.read_csv(\"user_products__train.csv\")\n",
    "else:\n",
    "    print(\"user_products__train already exists\")"
   ]
  },
  {
   "cell_type": "code",
   "execution_count": 176,
   "metadata": {
    "collapsed": true
   },
   "outputs": [],
   "source": [
    "test_subjects = user_products__train.index"
   ]
  },
  {
   "cell_type": "markdown",
   "metadata": {},
   "source": [
    "## Prior"
   ]
  },
  {
   "cell_type": "code",
   "execution_count": 6,
   "metadata": {
    "collapsed": true
   },
   "outputs": [],
   "source": [
    "orders_prior = orders[orders['eval_set'] == 'prior'].reset_index()\n",
    "orders_prior = orders_prior[['user_id', 'order_id']]"
   ]
  },
  {
   "cell_type": "code",
   "execution_count": 7,
   "metadata": {
    "collapsed": true
   },
   "outputs": [],
   "source": [
    "order_products__prior = order_products__prior[['order_id', 'product_id']]"
   ]
  },
  {
   "cell_type": "code",
   "execution_count": 14,
   "metadata": {
    "scrolled": false
   },
   "outputs": [
    {
     "data": {
      "text/html": [
       "<div>\n",
       "<style scoped>\n",
       "    .dataframe tbody tr th:only-of-type {\n",
       "        vertical-align: middle;\n",
       "    }\n",
       "\n",
       "    .dataframe tbody tr th {\n",
       "        vertical-align: top;\n",
       "    }\n",
       "\n",
       "    .dataframe thead th {\n",
       "        text-align: right;\n",
       "    }\n",
       "</style>\n",
       "<table border=\"1\" class=\"dataframe\">\n",
       "  <thead>\n",
       "    <tr style=\"text-align: right;\">\n",
       "      <th></th>\n",
       "      <th>user_id</th>\n",
       "      <th>product_id</th>\n",
       "    </tr>\n",
       "  </thead>\n",
       "  <tbody>\n",
       "    <tr>\n",
       "      <th>0</th>\n",
       "      <td>1</td>\n",
       "      <td>[196, 14084, 12427, 26088, 26405, 196, 10258, ...</td>\n",
       "    </tr>\n",
       "    <tr>\n",
       "      <th>1</th>\n",
       "      <td>2</td>\n",
       "      <td>[32792, 47766, 20574, 12000, 48110, 22474, 165...</td>\n",
       "    </tr>\n",
       "    <tr>\n",
       "      <th>2</th>\n",
       "      <td>3</td>\n",
       "      <td>[9387, 17668, 15143, 16797, 39190, 47766, 2190...</td>\n",
       "    </tr>\n",
       "    <tr>\n",
       "      <th>3</th>\n",
       "      <td>4</td>\n",
       "      <td>[36606, 7350, 35469, 2707, 42329, 7160, 1200, ...</td>\n",
       "    </tr>\n",
       "    <tr>\n",
       "      <th>4</th>\n",
       "      <td>5</td>\n",
       "      <td>[15349, 21413, 48775, 28289, 8518, 11777, 3171...</td>\n",
       "    </tr>\n",
       "  </tbody>\n",
       "</table>\n",
       "</div>"
      ],
      "text/plain": [
       "   user_id                                         product_id\n",
       "0        1  [196, 14084, 12427, 26088, 26405, 196, 10258, ...\n",
       "1        2  [32792, 47766, 20574, 12000, 48110, 22474, 165...\n",
       "2        3  [9387, 17668, 15143, 16797, 39190, 47766, 2190...\n",
       "3        4  [36606, 7350, 35469, 2707, 42329, 7160, 1200, ...\n",
       "4        5  [15349, 21413, 48775, 28289, 8518, 11777, 3171..."
      ]
     },
     "execution_count": 14,
     "metadata": {},
     "output_type": "execute_result"
    }
   ],
   "source": [
    "user_products__prior = pd.merge(orders_prior, order_products__prior, on='order_id', how='inner')\n",
    "user_products__prior = user_products__prior[['user_id', 'product_id']]\n",
    "user_products__prior = user_products__prior.groupby('user_id')['product_id'].apply(list).reset_index()\n",
    "user_products__prior.head()"
   ]
  },
  {
   "cell_type": "code",
   "execution_count": 312,
   "metadata": {
    "collapsed": true
   },
   "outputs": [],
   "source": [
    "prior_orders_lookup = user_products__prior.set_index('user_id')"
   ]
  },
  {
   "cell_type": "markdown",
   "metadata": {},
   "source": [
    "### Save/Load dataframes"
   ]
  },
  {
   "cell_type": "code",
   "execution_count": 16,
   "metadata": {},
   "outputs": [
    {
     "name": "stdout",
     "output_type": "stream",
     "text": [
      "user_products__prior already exists\n"
     ]
    }
   ],
   "source": [
    "try:\n",
    "    user_products__prior\n",
    "except NameError:\n",
    "    user_products__prior = pd.read_csv('user_products__prior.csv')\n",
    "else:\n",
    "    print(\"user_products__prior already exists\")"
   ]
  },
  {
   "cell_type": "code",
   "execution_count": 42,
   "metadata": {
    "scrolled": true
   },
   "outputs": [
    {
     "data": {
      "text/html": [
       "<div>\n",
       "<style scoped>\n",
       "    .dataframe tbody tr th:only-of-type {\n",
       "        vertical-align: middle;\n",
       "    }\n",
       "\n",
       "    .dataframe tbody tr th {\n",
       "        vertical-align: top;\n",
       "    }\n",
       "\n",
       "    .dataframe thead th {\n",
       "        text-align: right;\n",
       "    }\n",
       "</style>\n",
       "<table border=\"1\" class=\"dataframe\">\n",
       "  <thead>\n",
       "    <tr style=\"text-align: right;\">\n",
       "      <th></th>\n",
       "      <th>product_id</th>\n",
       "    </tr>\n",
       "    <tr>\n",
       "      <th>user_id</th>\n",
       "      <th></th>\n",
       "    </tr>\n",
       "  </thead>\n",
       "  <tbody>\n",
       "    <tr>\n",
       "      <th>1</th>\n",
       "      <td>[196, 14084, 12427, 26088, 26405, 196, 10258, ...</td>\n",
       "    </tr>\n",
       "    <tr>\n",
       "      <th>2</th>\n",
       "      <td>[32792, 47766, 20574, 12000, 48110, 22474, 165...</td>\n",
       "    </tr>\n",
       "    <tr>\n",
       "      <th>3</th>\n",
       "      <td>[9387, 17668, 15143, 16797, 39190, 47766, 2190...</td>\n",
       "    </tr>\n",
       "    <tr>\n",
       "      <th>4</th>\n",
       "      <td>[36606, 7350, 35469, 2707, 42329, 7160, 1200, ...</td>\n",
       "    </tr>\n",
       "    <tr>\n",
       "      <th>5</th>\n",
       "      <td>[15349, 21413, 48775, 28289, 8518, 11777, 3171...</td>\n",
       "    </tr>\n",
       "  </tbody>\n",
       "</table>\n",
       "</div>"
      ],
      "text/plain": [
       "                                                product_id\n",
       "user_id                                                   \n",
       "1        [196, 14084, 12427, 26088, 26405, 196, 10258, ...\n",
       "2        [32792, 47766, 20574, 12000, 48110, 22474, 165...\n",
       "3        [9387, 17668, 15143, 16797, 39190, 47766, 2190...\n",
       "4        [36606, 7350, 35469, 2707, 42329, 7160, 1200, ...\n",
       "5        [15349, 21413, 48775, 28289, 8518, 11777, 3171..."
      ]
     },
     "execution_count": 42,
     "metadata": {},
     "output_type": "execute_result"
    }
   ],
   "source": [
    "user_products_lookup = user_products__prior.set_index('user_id', drop=True)\n",
    "user_products_lookup.head()"
   ]
  },
  {
   "cell_type": "code",
   "execution_count": 920,
   "metadata": {
    "scrolled": true
   },
   "outputs": [
    {
     "data": {
      "text/html": [
       "<div>\n",
       "<style scoped>\n",
       "    .dataframe tbody tr th:only-of-type {\n",
       "        vertical-align: middle;\n",
       "    }\n",
       "\n",
       "    .dataframe tbody tr th {\n",
       "        vertical-align: top;\n",
       "    }\n",
       "\n",
       "    .dataframe thead th {\n",
       "        text-align: right;\n",
       "    }\n",
       "</style>\n",
       "<table border=\"1\" class=\"dataframe\">\n",
       "  <thead>\n",
       "    <tr style=\"text-align: right;\">\n",
       "      <th></th>\n",
       "      <th>product_id</th>\n",
       "    </tr>\n",
       "    <tr>\n",
       "      <th>user_id</th>\n",
       "      <th></th>\n",
       "    </tr>\n",
       "  </thead>\n",
       "  <tbody>\n",
       "    <tr>\n",
       "      <th>1</th>\n",
       "      <td>[196, 14084, 12427, 26088, 26405, 196, 10258, ...</td>\n",
       "    </tr>\n",
       "    <tr>\n",
       "      <th>2</th>\n",
       "      <td>[32792, 47766, 20574, 12000, 48110, 22474, 165...</td>\n",
       "    </tr>\n",
       "    <tr>\n",
       "      <th>3</th>\n",
       "      <td>[9387, 17668, 15143, 16797, 39190, 47766, 2190...</td>\n",
       "    </tr>\n",
       "    <tr>\n",
       "      <th>4</th>\n",
       "      <td>[36606, 7350, 35469, 2707, 42329, 7160, 1200, ...</td>\n",
       "    </tr>\n",
       "    <tr>\n",
       "      <th>5</th>\n",
       "      <td>[15349, 21413, 48775, 28289, 8518, 11777, 3171...</td>\n",
       "    </tr>\n",
       "  </tbody>\n",
       "</table>\n",
       "</div>"
      ],
      "text/plain": [
       "                                                product_id\n",
       "user_id                                                   \n",
       "1        [196, 14084, 12427, 26088, 26405, 196, 10258, ...\n",
       "2        [32792, 47766, 20574, 12000, 48110, 22474, 165...\n",
       "3        [9387, 17668, 15143, 16797, 39190, 47766, 2190...\n",
       "4        [36606, 7350, 35469, 2707, 42329, 7160, 1200, ...\n",
       "5        [15349, 21413, 48775, 28289, 8518, 11777, 3171..."
      ]
     },
     "execution_count": 920,
     "metadata": {},
     "output_type": "execute_result"
    }
   ],
   "source": [
    "user_products_lookup.head()"
   ]
  },
  {
   "cell_type": "code",
   "execution_count": 921,
   "metadata": {
    "scrolled": false
   },
   "outputs": [
    {
     "data": {
      "text/html": [
       "<div>\n",
       "<style scoped>\n",
       "    .dataframe tbody tr th:only-of-type {\n",
       "        vertical-align: middle;\n",
       "    }\n",
       "\n",
       "    .dataframe tbody tr th {\n",
       "        vertical-align: top;\n",
       "    }\n",
       "\n",
       "    .dataframe thead th {\n",
       "        text-align: right;\n",
       "    }\n",
       "</style>\n",
       "<table border=\"1\" class=\"dataframe\">\n",
       "  <thead>\n",
       "    <tr style=\"text-align: right;\">\n",
       "      <th></th>\n",
       "      <th>product_id</th>\n",
       "    </tr>\n",
       "    <tr>\n",
       "      <th>user_id</th>\n",
       "      <th></th>\n",
       "    </tr>\n",
       "  </thead>\n",
       "  <tbody>\n",
       "    <tr>\n",
       "      <th>1</th>\n",
       "      <td>[196, 14084, 12427, 26088, 26405, 196, 10258, ...</td>\n",
       "    </tr>\n",
       "    <tr>\n",
       "      <th>2</th>\n",
       "      <td>[32792, 47766, 20574, 12000, 48110, 22474, 165...</td>\n",
       "    </tr>\n",
       "    <tr>\n",
       "      <th>3</th>\n",
       "      <td>[9387, 17668, 15143, 16797, 39190, 47766, 2190...</td>\n",
       "    </tr>\n",
       "    <tr>\n",
       "      <th>4</th>\n",
       "      <td>[36606, 7350, 35469, 2707, 42329, 7160, 1200, ...</td>\n",
       "    </tr>\n",
       "    <tr>\n",
       "      <th>5</th>\n",
       "      <td>[15349, 21413, 48775, 28289, 8518, 11777, 3171...</td>\n",
       "    </tr>\n",
       "  </tbody>\n",
       "</table>\n",
       "</div>"
      ],
      "text/plain": [
       "                                                product_id\n",
       "user_id                                                   \n",
       "1        [196, 14084, 12427, 26088, 26405, 196, 10258, ...\n",
       "2        [32792, 47766, 20574, 12000, 48110, 22474, 165...\n",
       "3        [9387, 17668, 15143, 16797, 39190, 47766, 2190...\n",
       "4        [36606, 7350, 35469, 2707, 42329, 7160, 1200, ...\n",
       "5        [15349, 21413, 48775, 28289, 8518, 11777, 3171..."
      ]
     },
     "execution_count": 921,
     "metadata": {},
     "output_type": "execute_result"
    }
   ],
   "source": [
    "# Dump for program\n",
    "user_products_lookup.to_csv('user_products_lookup.csv')\n",
    "testdf = pd.read_csv('user_products_lookup.csv').set_index('user_id')\n",
    "testdf.head()"
   ]
  },
  {
   "cell_type": "code",
   "execution_count": 949,
   "metadata": {
    "collapsed": true,
    "scrolled": true
   },
   "outputs": [],
   "source": [
    "selectiontest = testdf.loc[[1,4,5]]"
   ]
  },
  {
   "cell_type": "code",
   "execution_count": 950,
   "metadata": {
    "collapsed": true
   },
   "outputs": [],
   "source": [
    "selectiontest['product_id'] = selectiontest['product_id'].apply(literal_eval)"
   ]
  },
  {
   "cell_type": "code",
   "execution_count": 952,
   "metadata": {
    "scrolled": true
   },
   "outputs": [
    {
     "data": {
      "text/plain": [
       "[196,\n",
       " 14084,\n",
       " 12427,\n",
       " 26088,\n",
       " 26405,\n",
       " 196,\n",
       " 10258,\n",
       " 12427,\n",
       " 13176,\n",
       " 26088,\n",
       " 13032,\n",
       " 196,\n",
       " 12427,\n",
       " 10258,\n",
       " 25133,\n",
       " 30450,\n",
       " 196,\n",
       " 12427,\n",
       " 10258,\n",
       " 25133,\n",
       " 26405,\n",
       " 196,\n",
       " 12427,\n",
       " 10258,\n",
       " 25133,\n",
       " 10326,\n",
       " 17122,\n",
       " 41787,\n",
       " 13176,\n",
       " 196,\n",
       " 12427,\n",
       " 10258,\n",
       " 25133,\n",
       " 196,\n",
       " 10258,\n",
       " 12427,\n",
       " 25133,\n",
       " 13032,\n",
       " 12427,\n",
       " 196,\n",
       " 10258,\n",
       " 25133,\n",
       " 46149,\n",
       " 49235,\n",
       " 49235,\n",
       " 46149,\n",
       " 25133,\n",
       " 196,\n",
       " 10258,\n",
       " 12427,\n",
       " 196,\n",
       " 46149,\n",
       " 39657,\n",
       " 38928,\n",
       " 25133,\n",
       " 10258,\n",
       " 35951,\n",
       " 13032,\n",
       " 12427]"
      ]
     },
     "execution_count": 952,
     "metadata": {},
     "output_type": "execute_result"
    }
   ],
   "source": [
    "selectiontest.iloc[0]['product_id']"
   ]
  },
  {
   "cell_type": "markdown",
   "metadata": {},
   "source": [
    "## Prior sentences"
   ]
  },
  {
   "cell_type": "code",
   "execution_count": 17,
   "metadata": {
    "collapsed": true
   },
   "outputs": [],
   "source": [
    "def make_sentences(product_id_list):\n",
    "    string_list = [str(product_id) for product_id in product_id_list]\n",
    "    return \" \".join(string_list)"
   ]
  },
  {
   "cell_type": "code",
   "execution_count": 18,
   "metadata": {
    "scrolled": true
   },
   "outputs": [
    {
     "data": {
      "text/html": [
       "<div>\n",
       "<style scoped>\n",
       "    .dataframe tbody tr th:only-of-type {\n",
       "        vertical-align: middle;\n",
       "    }\n",
       "\n",
       "    .dataframe tbody tr th {\n",
       "        vertical-align: top;\n",
       "    }\n",
       "\n",
       "    .dataframe thead th {\n",
       "        text-align: right;\n",
       "    }\n",
       "</style>\n",
       "<table border=\"1\" class=\"dataframe\">\n",
       "  <thead>\n",
       "    <tr style=\"text-align: right;\">\n",
       "      <th></th>\n",
       "      <th>user_id</th>\n",
       "      <th>product_id</th>\n",
       "    </tr>\n",
       "  </thead>\n",
       "  <tbody>\n",
       "    <tr>\n",
       "      <th>0</th>\n",
       "      <td>1</td>\n",
       "      <td>196 14084 12427 26088 26405 196 10258 12427 13...</td>\n",
       "    </tr>\n",
       "    <tr>\n",
       "      <th>1</th>\n",
       "      <td>2</td>\n",
       "      <td>32792 47766 20574 12000 48110 22474 16589 3591...</td>\n",
       "    </tr>\n",
       "    <tr>\n",
       "      <th>2</th>\n",
       "      <td>3</td>\n",
       "      <td>9387 17668 15143 16797 39190 47766 21903 39922...</td>\n",
       "    </tr>\n",
       "    <tr>\n",
       "      <th>3</th>\n",
       "      <td>4</td>\n",
       "      <td>36606 7350 35469 2707 42329 7160 1200 17769 43...</td>\n",
       "    </tr>\n",
       "    <tr>\n",
       "      <th>4</th>\n",
       "      <td>5</td>\n",
       "      <td>15349 21413 48775 28289 8518 11777 31717 26604...</td>\n",
       "    </tr>\n",
       "  </tbody>\n",
       "</table>\n",
       "</div>"
      ],
      "text/plain": [
       "   user_id                                         product_id\n",
       "0        1  196 14084 12427 26088 26405 196 10258 12427 13...\n",
       "1        2  32792 47766 20574 12000 48110 22474 16589 3591...\n",
       "2        3  9387 17668 15143 16797 39190 47766 21903 39922...\n",
       "3        4  36606 7350 35469 2707 42329 7160 1200 17769 43...\n",
       "4        5  15349 21413 48775 28289 8518 11777 31717 26604..."
      ]
     },
     "execution_count": 18,
     "metadata": {},
     "output_type": "execute_result"
    }
   ],
   "source": [
    "user_products_sentence__prior = user_products__prior.copy()\n",
    "user_products_sentence__prior['product_id'] = user_products_sentence__prior['product_id'].apply(make_sentences)\n",
    "user_products_sentence__prior.head()"
   ]
  },
  {
   "cell_type": "code",
   "execution_count": 917,
   "metadata": {
    "collapsed": true
   },
   "outputs": [],
   "source": [
    "user_products_sentence__prior.to_csv('user_products_sentence__prior.csv', index=False)"
   ]
  },
  {
   "cell_type": "code",
   "execution_count": 20,
   "metadata": {},
   "outputs": [
    {
     "name": "stdout",
     "output_type": "stream",
     "text": [
      "user_products_sentence__prior already exists\n"
     ]
    }
   ],
   "source": [
    "try:\n",
    "    user_products__prior\n",
    "except NameError:\n",
    "    user_products_sentence__prior = pd.read_csv('user_products_sentence__prior.csv')\n",
    "else:\n",
    "    print(\"user_products_sentence__prior already exists\")"
   ]
  },
  {
   "cell_type": "code",
   "execution_count": 936,
   "metadata": {
    "collapsed": true,
    "scrolled": true
   },
   "outputs": [],
   "source": [
    "# Dump for website\n",
    "\n",
    "user_products_sentence__prior.drop(columns=['product_id']).to_csv('user_products_sentence__prior(web).csv', index=False)"
   ]
  },
  {
   "cell_type": "code",
   "execution_count": 937,
   "metadata": {},
   "outputs": [
    {
     "data": {
      "text/html": [
       "<div>\n",
       "<style scoped>\n",
       "    .dataframe tbody tr th:only-of-type {\n",
       "        vertical-align: middle;\n",
       "    }\n",
       "\n",
       "    .dataframe tbody tr th {\n",
       "        vertical-align: top;\n",
       "    }\n",
       "\n",
       "    .dataframe thead th {\n",
       "        text-align: right;\n",
       "    }\n",
       "</style>\n",
       "<table border=\"1\" class=\"dataframe\">\n",
       "  <thead>\n",
       "    <tr style=\"text-align: right;\">\n",
       "      <th></th>\n",
       "      <th>user_id</th>\n",
       "    </tr>\n",
       "  </thead>\n",
       "  <tbody>\n",
       "    <tr>\n",
       "      <th>0</th>\n",
       "      <td>1</td>\n",
       "    </tr>\n",
       "    <tr>\n",
       "      <th>1</th>\n",
       "      <td>2</td>\n",
       "    </tr>\n",
       "    <tr>\n",
       "      <th>2</th>\n",
       "      <td>3</td>\n",
       "    </tr>\n",
       "    <tr>\n",
       "      <th>3</th>\n",
       "      <td>4</td>\n",
       "    </tr>\n",
       "    <tr>\n",
       "      <th>4</th>\n",
       "      <td>5</td>\n",
       "    </tr>\n",
       "  </tbody>\n",
       "</table>\n",
       "</div>"
      ],
      "text/plain": [
       "   user_id\n",
       "0        1\n",
       "1        2\n",
       "2        3\n",
       "3        4\n",
       "4        5"
      ]
     },
     "execution_count": 937,
     "metadata": {},
     "output_type": "execute_result"
    }
   ],
   "source": [
    "testdf2 = pd.read_csv('user_products_sentence__prior(web).csv')\n",
    "testdf2.head()"
   ]
  },
  {
   "cell_type": "markdown",
   "metadata": {},
   "source": [
    "# Model"
   ]
  },
  {
   "cell_type": "code",
   "execution_count": 804,
   "metadata": {
    "collapsed": true
   },
   "outputs": [],
   "source": [
    "tfidf = TfidfVectorizer(stop_words='english')\n",
    "tfidf_matrix = tfidf.fit_transform(user_products_sentence__prior['product_id'])"
   ]
  },
  {
   "cell_type": "code",
   "execution_count": 905,
   "metadata": {
    "scrolled": true
   },
   "outputs": [
    {
     "data": {
      "text/plain": [
       "['tfidx_matrix.pkl']"
      ]
     },
     "execution_count": 905,
     "metadata": {},
     "output_type": "execute_result"
    }
   ],
   "source": [
    "joblib.dump(tfidf, 'tfidf.pkl')\n",
    "joblib.dump(tfidf_matrix, 'tfidx_matrix.pkl')"
   ]
  },
  {
   "cell_type": "code",
   "execution_count": 3,
   "metadata": {},
   "outputs": [],
   "source": [
    "tfidf = joblib.load('tfidf.pkl')"
   ]
  },
  {
   "cell_type": "code",
   "execution_count": 10,
   "metadata": {},
   "outputs": [
    {
     "data": {
      "text/plain": [
       "array([ 6.09066588,  7.97396016,  5.89322412, 11.1572088 , 11.85035598,\n",
       "       11.2907402 , 11.85035598, 10.52860014,  7.21320275,  6.31894474,\n",
       "       11.03942577,  9.10951596])"
      ]
     },
     "execution_count": 10,
     "metadata": {},
     "output_type": "execute_result"
    }
   ],
   "source": [
    "tfidf.idf_[0:12]"
   ]
  },
  {
   "cell_type": "code",
   "execution_count": 7,
   "metadata": {},
   "outputs": [
    {
     "data": {
      "text/plain": [
       "['10',\n",
       " '100',\n",
       " '1000',\n",
       " '10000',\n",
       " '10001',\n",
       " '10002',\n",
       " '10003',\n",
       " '10004',\n",
       " '10005',\n",
       " '10006',\n",
       " '10007',\n",
       " '10008',\n",
       " '10009',\n",
       " '1001',\n",
       " '10010',\n",
       " '10011',\n",
       " '10012',\n",
       " '10013',\n",
       " '10014',\n",
       " '10015',\n",
       " '10016',\n",
       " '10017',\n",
       " '10018',\n",
       " '10019',\n",
       " '1002',\n",
       " '10020',\n",
       " '10021',\n",
       " '10022',\n",
       " '10023',\n",
       " '10024',\n",
       " '10025',\n",
       " '10026',\n",
       " '10027',\n",
       " '10028',\n",
       " '10029',\n",
       " '1003',\n",
       " '10030',\n",
       " '10031',\n",
       " '10032',\n",
       " '10033',\n",
       " '10034',\n",
       " '10035',\n",
       " '10036',\n",
       " '10037',\n",
       " '10038',\n",
       " '10039',\n",
       " '1004',\n",
       " '10040',\n",
       " '10041',\n",
       " '10042',\n",
       " '10043',\n",
       " '10044',\n",
       " '10045',\n",
       " '10046',\n",
       " '10047',\n",
       " '10048',\n",
       " '10049',\n",
       " '1005',\n",
       " '10050',\n",
       " '10051',\n",
       " '10052',\n",
       " '10053',\n",
       " '10054',\n",
       " '10055',\n",
       " '10056',\n",
       " '10057',\n",
       " '10058',\n",
       " '10059',\n",
       " '1006',\n",
       " '10060',\n",
       " '10061',\n",
       " '10062',\n",
       " '10063',\n",
       " '10064',\n",
       " '10065',\n",
       " '10066',\n",
       " '10067',\n",
       " '10068',\n",
       " '10069',\n",
       " '1007',\n",
       " '10070',\n",
       " '10071',\n",
       " '10072',\n",
       " '10073',\n",
       " '10074',\n",
       " '10075',\n",
       " '10076',\n",
       " '10077',\n",
       " '10078',\n",
       " '10079',\n",
       " '1008',\n",
       " '10080',\n",
       " '10081',\n",
       " '10082',\n",
       " '10083',\n",
       " '10084',\n",
       " '10085',\n",
       " '10086',\n",
       " '10087',\n",
       " '10088',\n",
       " '10089',\n",
       " '1009',\n",
       " '10090',\n",
       " '10091',\n",
       " '10092',\n",
       " '10093',\n",
       " '10094',\n",
       " '10095',\n",
       " '10096',\n",
       " '10097',\n",
       " '10098',\n",
       " '10099',\n",
       " '101',\n",
       " '1010',\n",
       " '10100',\n",
       " '10101',\n",
       " '10102',\n",
       " '10103',\n",
       " '10104',\n",
       " '10105',\n",
       " '10106',\n",
       " '10107',\n",
       " '10108',\n",
       " '10109',\n",
       " '1011',\n",
       " '10110',\n",
       " '10111',\n",
       " '10112',\n",
       " '10113',\n",
       " '10114',\n",
       " '10115',\n",
       " '10116',\n",
       " '10117',\n",
       " '10118',\n",
       " '10119',\n",
       " '1012',\n",
       " '10120',\n",
       " '10121',\n",
       " '10122',\n",
       " '10123',\n",
       " '10124',\n",
       " '10125',\n",
       " '10126',\n",
       " '10127',\n",
       " '10128',\n",
       " '10129',\n",
       " '1013',\n",
       " '10130',\n",
       " '10131',\n",
       " '10132',\n",
       " '10133',\n",
       " '10134',\n",
       " '10135',\n",
       " '10136',\n",
       " '10137',\n",
       " '10138',\n",
       " '10139',\n",
       " '1014',\n",
       " '10140',\n",
       " '10141',\n",
       " '10142',\n",
       " '10143',\n",
       " '10144',\n",
       " '10145',\n",
       " '10146',\n",
       " '10147',\n",
       " '10148',\n",
       " '10149',\n",
       " '1015',\n",
       " '10150',\n",
       " '10151',\n",
       " '10152',\n",
       " '10153',\n",
       " '10154',\n",
       " '10155',\n",
       " '10156',\n",
       " '10157',\n",
       " '10158',\n",
       " '10159',\n",
       " '1016',\n",
       " '10160',\n",
       " '10161',\n",
       " '10162',\n",
       " '10163',\n",
       " '10164',\n",
       " '10165',\n",
       " '10166',\n",
       " '10167',\n",
       " '10168',\n",
       " '10169',\n",
       " '1017',\n",
       " '10170',\n",
       " '10171',\n",
       " '10172',\n",
       " '10173',\n",
       " '10174',\n",
       " '10175',\n",
       " '10176',\n",
       " '10177',\n",
       " '10178',\n",
       " '10179',\n",
       " '1018',\n",
       " '10180',\n",
       " '10181',\n",
       " '10182',\n",
       " '10183',\n",
       " '10184',\n",
       " '10185',\n",
       " '10186',\n",
       " '10187',\n",
       " '10188',\n",
       " '10189',\n",
       " '1019',\n",
       " '10190',\n",
       " '10191',\n",
       " '10192',\n",
       " '10193',\n",
       " '10194',\n",
       " '10195',\n",
       " '10196',\n",
       " '10197',\n",
       " '10198',\n",
       " '10199',\n",
       " '102',\n",
       " '1020',\n",
       " '10200',\n",
       " '10201',\n",
       " '10202',\n",
       " '10203',\n",
       " '10204',\n",
       " '10205',\n",
       " '10206',\n",
       " '10207',\n",
       " '10208',\n",
       " '10209',\n",
       " '1021',\n",
       " '10210',\n",
       " '10211',\n",
       " '10212',\n",
       " '10213',\n",
       " '10214',\n",
       " '10215',\n",
       " '10216',\n",
       " '10217',\n",
       " '10218',\n",
       " '10219',\n",
       " '1022',\n",
       " '10220',\n",
       " '10221',\n",
       " '10222',\n",
       " '10223',\n",
       " '10224',\n",
       " '10225',\n",
       " '10226',\n",
       " '10227',\n",
       " '10228',\n",
       " '10229',\n",
       " '1023',\n",
       " '10230',\n",
       " '10231',\n",
       " '10232',\n",
       " '10233',\n",
       " '10234',\n",
       " '10235',\n",
       " '10236',\n",
       " '10237',\n",
       " '10238',\n",
       " '10239',\n",
       " '1024',\n",
       " '10240',\n",
       " '10241',\n",
       " '10242',\n",
       " '10243',\n",
       " '10244',\n",
       " '10245',\n",
       " '10246',\n",
       " '10247',\n",
       " '10248',\n",
       " '10249',\n",
       " '1025',\n",
       " '10250',\n",
       " '10251',\n",
       " '10252',\n",
       " '10253',\n",
       " '10254',\n",
       " '10255',\n",
       " '10256',\n",
       " '10257',\n",
       " '10258',\n",
       " '10259',\n",
       " '1026',\n",
       " '10260',\n",
       " '10261',\n",
       " '10262',\n",
       " '10263',\n",
       " '10264',\n",
       " '10265',\n",
       " '10266',\n",
       " '10267',\n",
       " '10268',\n",
       " '10269',\n",
       " '1027',\n",
       " '10270',\n",
       " '10271',\n",
       " '10272',\n",
       " '10273',\n",
       " '10274',\n",
       " '10275',\n",
       " '10276',\n",
       " '10277',\n",
       " '10278',\n",
       " '10279',\n",
       " '1028',\n",
       " '10280',\n",
       " '10281',\n",
       " '10282',\n",
       " '10283',\n",
       " '10284',\n",
       " '10285',\n",
       " '10286',\n",
       " '10287',\n",
       " '10288',\n",
       " '10289',\n",
       " '1029',\n",
       " '10290',\n",
       " '10291',\n",
       " '10292',\n",
       " '10293',\n",
       " '10294',\n",
       " '10295',\n",
       " '10296',\n",
       " '10297',\n",
       " '10298',\n",
       " '10299',\n",
       " '103',\n",
       " '1030',\n",
       " '10300',\n",
       " '10301',\n",
       " '10302',\n",
       " '10303',\n",
       " '10304',\n",
       " '10305',\n",
       " '10306',\n",
       " '10307',\n",
       " '10308',\n",
       " '10309',\n",
       " '1031',\n",
       " '10310',\n",
       " '10311',\n",
       " '10312',\n",
       " '10313',\n",
       " '10314',\n",
       " '10315',\n",
       " '10316',\n",
       " '10317',\n",
       " '10318',\n",
       " '10319',\n",
       " '1032',\n",
       " '10320',\n",
       " '10321',\n",
       " '10322',\n",
       " '10323',\n",
       " '10324',\n",
       " '10325',\n",
       " '10326',\n",
       " '10327',\n",
       " '10328',\n",
       " '10329',\n",
       " '1033',\n",
       " '10330',\n",
       " '10331',\n",
       " '10332',\n",
       " '10333',\n",
       " '10334',\n",
       " '10335',\n",
       " '10336',\n",
       " '10337',\n",
       " '10338',\n",
       " '10339',\n",
       " '1034',\n",
       " '10340',\n",
       " '10341',\n",
       " '10342',\n",
       " '10343',\n",
       " '10344',\n",
       " '10345',\n",
       " '10346',\n",
       " '10347',\n",
       " '10348',\n",
       " '10349',\n",
       " '1035',\n",
       " '10350',\n",
       " '10351',\n",
       " '10352',\n",
       " '10353',\n",
       " '10354',\n",
       " '10355',\n",
       " '10356',\n",
       " '10357',\n",
       " '10358',\n",
       " '10359',\n",
       " '1036',\n",
       " '10360',\n",
       " '10361',\n",
       " '10362',\n",
       " '10363',\n",
       " '10364',\n",
       " '10365',\n",
       " '10366',\n",
       " '10367',\n",
       " '10368',\n",
       " '10369',\n",
       " '1037',\n",
       " '10370',\n",
       " '10371',\n",
       " '10372',\n",
       " '10373',\n",
       " '10374',\n",
       " '10375',\n",
       " '10376',\n",
       " '10377',\n",
       " '10378',\n",
       " '10379',\n",
       " '1038',\n",
       " '10380',\n",
       " '10381',\n",
       " '10382',\n",
       " '10383',\n",
       " '10384',\n",
       " '10385',\n",
       " '10386',\n",
       " '10387',\n",
       " '10388',\n",
       " '10389',\n",
       " '1039',\n",
       " '10390',\n",
       " '10391',\n",
       " '10392',\n",
       " '10393',\n",
       " '10394',\n",
       " '10395',\n",
       " '10396',\n",
       " '10397',\n",
       " '10398',\n",
       " '10399',\n",
       " '104',\n",
       " '1040',\n",
       " '10400',\n",
       " '10401',\n",
       " '10402',\n",
       " '10403',\n",
       " '10404',\n",
       " '10405',\n",
       " '10406',\n",
       " '10407',\n",
       " '10408',\n",
       " '10409',\n",
       " '1041',\n",
       " '10410',\n",
       " '10411',\n",
       " '10412',\n",
       " '10413',\n",
       " '10414',\n",
       " '10415',\n",
       " '10416',\n",
       " '10417',\n",
       " '10418',\n",
       " '10419',\n",
       " '1042',\n",
       " '10420',\n",
       " '10421',\n",
       " '10422',\n",
       " '10423',\n",
       " '10424',\n",
       " '10425',\n",
       " '10426',\n",
       " '10427',\n",
       " '10428',\n",
       " '10429',\n",
       " '1043',\n",
       " '10430',\n",
       " '10431',\n",
       " '10432',\n",
       " '10433',\n",
       " '10434',\n",
       " '10435',\n",
       " '10436',\n",
       " '10437',\n",
       " '10438',\n",
       " '10439',\n",
       " '1044',\n",
       " '10440',\n",
       " '10441',\n",
       " '10442',\n",
       " '10443',\n",
       " '10444',\n",
       " '10445',\n",
       " '10446',\n",
       " '10447',\n",
       " '10448',\n",
       " '10449',\n",
       " '1045',\n",
       " '10450',\n",
       " '10451',\n",
       " '10452',\n",
       " '10453',\n",
       " '10454',\n",
       " '10455',\n",
       " '10456',\n",
       " '10457',\n",
       " '10458',\n",
       " '10459',\n",
       " '1046',\n",
       " '10460',\n",
       " '10461',\n",
       " '10462',\n",
       " '10463',\n",
       " '10464',\n",
       " '10465',\n",
       " '10466',\n",
       " '10467',\n",
       " '10468',\n",
       " '10469',\n",
       " '1047',\n",
       " '10470',\n",
       " '10471',\n",
       " '10472',\n",
       " '10473',\n",
       " '10474',\n",
       " '10475',\n",
       " '10476',\n",
       " '10477',\n",
       " '10478',\n",
       " '10479',\n",
       " '1048',\n",
       " '10480',\n",
       " '10481',\n",
       " '10482',\n",
       " '10483',\n",
       " '10484',\n",
       " '10485',\n",
       " '10486',\n",
       " '10487',\n",
       " '10488',\n",
       " '10489',\n",
       " '1049',\n",
       " '10490',\n",
       " '10491',\n",
       " '10492',\n",
       " '10493',\n",
       " '10494',\n",
       " '10495',\n",
       " '10496',\n",
       " '10497',\n",
       " '10498',\n",
       " '10499',\n",
       " '105',\n",
       " '1050',\n",
       " '10500',\n",
       " '10501',\n",
       " '10502',\n",
       " '10503',\n",
       " '10504',\n",
       " '10505',\n",
       " '10506',\n",
       " '10507',\n",
       " '10508',\n",
       " '10509',\n",
       " '1051',\n",
       " '10510',\n",
       " '10511',\n",
       " '10512',\n",
       " '10513',\n",
       " '10514',\n",
       " '10515',\n",
       " '10516',\n",
       " '10517',\n",
       " '10518',\n",
       " '10519',\n",
       " '1052',\n",
       " '10520',\n",
       " '10521',\n",
       " '10522',\n",
       " '10523',\n",
       " '10524',\n",
       " '10525',\n",
       " '10526',\n",
       " '10527',\n",
       " '10528',\n",
       " '10529',\n",
       " '1053',\n",
       " '10530',\n",
       " '10531',\n",
       " '10532',\n",
       " '10533',\n",
       " '10534',\n",
       " '10535',\n",
       " '10536',\n",
       " '10537',\n",
       " '10538',\n",
       " '10539',\n",
       " '1054',\n",
       " '10540',\n",
       " '10541',\n",
       " '10542',\n",
       " '10543',\n",
       " '10544',\n",
       " '10545',\n",
       " '10546',\n",
       " '10547',\n",
       " '10548',\n",
       " '10549',\n",
       " '1055',\n",
       " '10550',\n",
       " '10551',\n",
       " '10552',\n",
       " '10553',\n",
       " '10554',\n",
       " '10555',\n",
       " '10556',\n",
       " '10557',\n",
       " '10558',\n",
       " '10559',\n",
       " '1056',\n",
       " '10560',\n",
       " '10561',\n",
       " '10562',\n",
       " '10563',\n",
       " '10564',\n",
       " '10565',\n",
       " '10566',\n",
       " '10567',\n",
       " '10568',\n",
       " '10569',\n",
       " '1057',\n",
       " '10570',\n",
       " '10571',\n",
       " '10572',\n",
       " '10573',\n",
       " '10574',\n",
       " '10575',\n",
       " '10576',\n",
       " '10577',\n",
       " '10578',\n",
       " '10579',\n",
       " '1058',\n",
       " '10580',\n",
       " '10581',\n",
       " '10582',\n",
       " '10583',\n",
       " '10584',\n",
       " '10585',\n",
       " '10586',\n",
       " '10587',\n",
       " '10588',\n",
       " '10589',\n",
       " '1059',\n",
       " '10590',\n",
       " '10591',\n",
       " '10592',\n",
       " '10593',\n",
       " '10594',\n",
       " '10595',\n",
       " '10596',\n",
       " '10597',\n",
       " '10598',\n",
       " '10599',\n",
       " '106',\n",
       " '1060',\n",
       " '10600',\n",
       " '10601',\n",
       " '10602',\n",
       " '10603',\n",
       " '10604',\n",
       " '10605',\n",
       " '10606',\n",
       " '10607',\n",
       " '10608',\n",
       " '10609',\n",
       " '1061',\n",
       " '10610',\n",
       " '10611',\n",
       " '10612',\n",
       " '10613',\n",
       " '10614',\n",
       " '10615',\n",
       " '10616',\n",
       " '10617',\n",
       " '10618',\n",
       " '10619',\n",
       " '1062',\n",
       " '10620',\n",
       " '10621',\n",
       " '10622',\n",
       " '10623',\n",
       " '10624',\n",
       " '10625',\n",
       " '10626',\n",
       " '10627',\n",
       " '10628',\n",
       " '10629',\n",
       " '1063',\n",
       " '10630',\n",
       " '10631',\n",
       " '10632',\n",
       " '10633',\n",
       " '10634',\n",
       " '10635',\n",
       " '10636',\n",
       " '10637',\n",
       " '10638',\n",
       " '10639',\n",
       " '1064',\n",
       " '10640',\n",
       " '10641',\n",
       " '10642',\n",
       " '10643',\n",
       " '10644',\n",
       " '10645',\n",
       " '10646',\n",
       " '10647',\n",
       " '10648',\n",
       " '10649',\n",
       " '1065',\n",
       " '10650',\n",
       " '10651',\n",
       " '10652',\n",
       " '10653',\n",
       " '10654',\n",
       " '10655',\n",
       " '10656',\n",
       " '10657',\n",
       " '10658',\n",
       " '10659',\n",
       " '1066',\n",
       " '10660',\n",
       " '10661',\n",
       " '10662',\n",
       " '10663',\n",
       " '10664',\n",
       " '10665',\n",
       " '10666',\n",
       " '10667',\n",
       " '10668',\n",
       " '10669',\n",
       " '1067',\n",
       " '10670',\n",
       " '10671',\n",
       " '10672',\n",
       " '10673',\n",
       " '10674',\n",
       " '10675',\n",
       " '10676',\n",
       " '10677',\n",
       " '10678',\n",
       " '10679',\n",
       " '1068',\n",
       " '10680',\n",
       " '10681',\n",
       " '10682',\n",
       " '10683',\n",
       " '10684',\n",
       " '10685',\n",
       " '10686',\n",
       " '10687',\n",
       " '10688',\n",
       " '10689',\n",
       " '1069',\n",
       " '10690',\n",
       " '10691',\n",
       " '10692',\n",
       " '10693',\n",
       " '10694',\n",
       " '10695',\n",
       " '10696',\n",
       " '10697',\n",
       " '10698',\n",
       " '10699',\n",
       " '107',\n",
       " '1070',\n",
       " '10700',\n",
       " '10701',\n",
       " '10702',\n",
       " '10703',\n",
       " '10704',\n",
       " '10705',\n",
       " '10706',\n",
       " '10707',\n",
       " '10708',\n",
       " '10709',\n",
       " '1071',\n",
       " '10710',\n",
       " '10711',\n",
       " '10712',\n",
       " '10713',\n",
       " '10714',\n",
       " '10715',\n",
       " '10716',\n",
       " '10717',\n",
       " '10718',\n",
       " '10719',\n",
       " '1072',\n",
       " '10720',\n",
       " '10721',\n",
       " '10722',\n",
       " '10723',\n",
       " '10724',\n",
       " '10725',\n",
       " '10726',\n",
       " '10727',\n",
       " '10728',\n",
       " '10729',\n",
       " '1073',\n",
       " '10730',\n",
       " '10731',\n",
       " '10732',\n",
       " '10733',\n",
       " '10734',\n",
       " '10735',\n",
       " '10736',\n",
       " '10737',\n",
       " '10738',\n",
       " '10739',\n",
       " '1074',\n",
       " '10740',\n",
       " '10741',\n",
       " '10742',\n",
       " '10743',\n",
       " '10744',\n",
       " '10745',\n",
       " '10746',\n",
       " '10747',\n",
       " '10748',\n",
       " '10749',\n",
       " '1075',\n",
       " '10750',\n",
       " '10751',\n",
       " '10752',\n",
       " '10753',\n",
       " '10754',\n",
       " '10755',\n",
       " '10756',\n",
       " '10757',\n",
       " '10758',\n",
       " '10759',\n",
       " '1076',\n",
       " '10760',\n",
       " '10761',\n",
       " '10762',\n",
       " '10763',\n",
       " '10764',\n",
       " '10765',\n",
       " '10766',\n",
       " '10767',\n",
       " '10768',\n",
       " '10769',\n",
       " '1077',\n",
       " '10770',\n",
       " '10771',\n",
       " '10772',\n",
       " '10773',\n",
       " '10774',\n",
       " '10775',\n",
       " '10776',\n",
       " '10777',\n",
       " '10778',\n",
       " '10779',\n",
       " '1078',\n",
       " '10780',\n",
       " '10781',\n",
       " '10782',\n",
       " '10783',\n",
       " '10784',\n",
       " '10785',\n",
       " '10786',\n",
       " '10787',\n",
       " '10788',\n",
       " '10789',\n",
       " '1079',\n",
       " '10790',\n",
       " '10791',\n",
       " '10792',\n",
       " '10793',\n",
       " '10794',\n",
       " '10795',\n",
       " '10796',\n",
       " '10797',\n",
       " '10798',\n",
       " '10799',\n",
       " '108',\n",
       " '1080',\n",
       " '10800',\n",
       " '10801',\n",
       " '10802',\n",
       " '10803',\n",
       " '10804',\n",
       " '10805',\n",
       " '10806',\n",
       " '10807',\n",
       " '10808',\n",
       " '10809',\n",
       " '1081',\n",
       " '10810',\n",
       " '10811',\n",
       " '10812',\n",
       " '10813',\n",
       " '10814',\n",
       " '10815',\n",
       " '10816',\n",
       " '10817',\n",
       " '10818',\n",
       " '10819',\n",
       " '1082',\n",
       " '10820',\n",
       " '10821',\n",
       " '10822',\n",
       " '10823',\n",
       " '10824',\n",
       " '10825',\n",
       " '10826',\n",
       " '10827',\n",
       " '10828',\n",
       " '10829',\n",
       " '1083',\n",
       " '10830',\n",
       " '10831',\n",
       " '10832',\n",
       " '10833',\n",
       " '10834',\n",
       " '10835',\n",
       " '10836',\n",
       " '10837',\n",
       " '10838',\n",
       " '10839',\n",
       " '1084',\n",
       " '10840',\n",
       " '10841',\n",
       " '10842',\n",
       " '10843',\n",
       " '10844',\n",
       " '10845',\n",
       " '10846',\n",
       " '10847',\n",
       " '10848',\n",
       " '10849',\n",
       " '1085',\n",
       " '10850',\n",
       " '10851',\n",
       " '10852',\n",
       " '10853',\n",
       " '10854',\n",
       " '10855',\n",
       " '10856',\n",
       " '10857',\n",
       " '10858',\n",
       " '10859',\n",
       " '1086',\n",
       " '10860',\n",
       " '10861',\n",
       " '10862',\n",
       " '10863',\n",
       " '10864',\n",
       " '10865',\n",
       " '10866',\n",
       " '10867',\n",
       " '10868',\n",
       " '10869',\n",
       " '1087',\n",
       " '10870',\n",
       " '10871',\n",
       " '10872',\n",
       " '10873',\n",
       " '10874',\n",
       " '10875',\n",
       " '10876',\n",
       " '10877',\n",
       " '10878',\n",
       " '10879',\n",
       " '1088',\n",
       " '10880',\n",
       " '10881',\n",
       " '10882',\n",
       " '10883',\n",
       " '10884',\n",
       " '10885',\n",
       " '10886',\n",
       " '10887',\n",
       " '10888',\n",
       " '10889',\n",
       " '1089',\n",
       " '10890',\n",
       " '10891',\n",
       " '10892',\n",
       " '10893',\n",
       " '10894',\n",
       " '10895',\n",
       " '10896',\n",
       " '10897',\n",
       " '10898',\n",
       " '10899',\n",
       " ...]"
      ]
     },
     "execution_count": 7,
     "metadata": {},
     "output_type": "execute_result"
    }
   ],
   "source": [
    "tfidf.get_feature_names()"
   ]
  },
  {
   "cell_type": "code",
   "execution_count": 33,
   "metadata": {
    "collapsed": true
   },
   "outputs": [],
   "source": [
    "# This will convert your user_ids to the matrix indices\n",
    "indices = pd.Series(user_products_sentence__prior.index, index=user_products_sentence__prior['user_id']).drop_duplicates()"
   ]
  },
  {
   "cell_type": "code",
   "execution_count": 34,
   "metadata": {
    "collapsed": true,
    "scrolled": true
   },
   "outputs": [],
   "source": [
    "#cosine_sim = linear_kernel(tfidf_matrix, tfidf_matrix)\n",
    "# Not enough memory for this unfortunately"
   ]
  },
  {
   "cell_type": "code",
   "execution_count": null,
   "metadata": {
    "collapsed": true
   },
   "outputs": [],
   "source": [
    "# This approach also doesn't work due to memory issues\n",
    "\n",
    "# # Function that takes in user_id as input and outputs most similar movies\n",
    "# def get_recommendations(user_id, cosine_sim=cosine_sim, k):\n",
    "#     # Get the index of the user that matches the user_id\n",
    "#     idx = indices[user_id]\n",
    "\n",
    "#     # Get the pairwsie similarity scores of all movies with that movie\n",
    "#     sim_scores = list(enumerate(cosine_sim[idx]))\n",
    "\n",
    "#     # Sort the users based on the similarity scores\n",
    "#     sim_scores = sorted(sim_scores, key=lambda x: x[1], reverse=True)\n",
    "\n",
    "#     # Get the scores of the k most similar movies, skip the first one since it will be itself\n",
    "#     sim_scores = sim_scores[1:k]\n",
    "\n",
    "#     # Get the user indices\n",
    "#     user_indices = [i[0] for i in sim_scores]\n",
    "\n",
    "#     # Return the top 10 most similar users\n",
    "#     return user_products_sentence__prior['user_id'].iloc[user_indices]"
   ]
  },
  {
   "cell_type": "code",
   "execution_count": 897,
   "metadata": {
    "collapsed": true
   },
   "outputs": [],
   "source": [
    "# Function that takes in user_id as input and outputs recommended products\n",
    "def get_recommendations(user_id, k, n=10, include_prev=True):\n",
    "    # Get the index of the user that matches the user_id\n",
    "    idx = indices[user_id]\n",
    "    \n",
    "    cosine_sim = linear_kernel(tfidf_matrix[idx], tfidf_matrix)[0]\n",
    "\n",
    "    # Get the pairwsie similarity scores of all users\n",
    "    sim_scores = list(enumerate(cosine_sim))\n",
    "\n",
    "    # Sort the users based on the similarity scores\n",
    "    sim_scores = sorted(sim_scores, key=lambda x: x[1], reverse=True)\n",
    "    \n",
    "    # Get the scores of the k most similar users, skip the first one since it will be itself\n",
    "    sim_scores = sim_scores[1:(k+1)]\n",
    "\n",
    "    # Get the user indices\n",
    "    user_indices = [i[0] for i in sim_scores]\n",
    "\n",
    "    # The top k most similar users\n",
    "    top_k_users = user_products_sentence__prior['user_id'].iloc[user_indices]\n",
    "    \n",
    "    # The products purchased from these top k users\n",
    "    top_k_user_products = user_products_lookup.loc[top_k_users]\n",
    "    product_list = [i for j in top_k_user_products['product_id'].tolist() for i in j]\n",
    "    \n",
    "    # Count the frequency of the items purchased and sort by popularity\n",
    "    product_counts = dict(Counter(product_list))\n",
    "    popular_products = sorted(product_counts, key=product_counts.get, reverse=True)\n",
    "    \n",
    "    if include_prev:\n",
    "        # Return the top n purchaed product by the k most similar users\n",
    "        return popular_products[:n]\n",
    "    \n",
    "    else:\n",
    "        # In this case we filter out items the user has already purchased\n",
    "        prev_purchases = get_previously_purchased_products(user_id)\n",
    "        popular_new_products = [product for product in popular_products if product not in prev_purchases]\n",
    "        \n",
    "        return popular_new_products[:n]"
   ]
  },
  {
   "cell_type": "code",
   "execution_count": 250,
   "metadata": {
    "collapsed": true
   },
   "outputs": [],
   "source": [
    "# Recommener function will output product_ids. Use this dict to then get human names for food\n",
    "product_id_to_name_dict = pd.Series(products['product_name'].values, index=products['product_id']).to_dict()\n",
    "\n",
    "def product_id_to_name(product_ids):\n",
    "    return [product_id_to_name_dict[id] for id in product_ids]"
   ]
  },
  {
   "cell_type": "code",
   "execution_count": 915,
   "metadata": {
    "collapsed": true,
    "scrolled": true
   },
   "outputs": [],
   "source": [
    "# Export this for website\n",
    "dump(product_id_to_name_dict, open('product_id_to_name_dict.pickle', 'wb'))"
   ]
  },
  {
   "cell_type": "code",
   "execution_count": 343,
   "metadata": {
    "collapsed": true
   },
   "outputs": [],
   "source": [
    "def get_products_really_purcased(user_id, include_prev=True):\n",
    "    purchased_products = user_products__train.loc[user_id].tolist()[0]\n",
    "    if include_prev:\n",
    "        return purchased_products\n",
    "    else:\n",
    "        prev_purchase = get_previously_purchased_products(user_id)\n",
    "        \n",
    "        return [product for product in purchased_products if product not in prev_purchase]"
   ]
  },
  {
   "cell_type": "code",
   "execution_count": 313,
   "metadata": {
    "collapsed": true
   },
   "outputs": [],
   "source": [
    "def get_previously_purchased_products(user_id):\n",
    "    return prior_orders_lookup.loc[user_id].tolist()[0]"
   ]
  },
  {
   "cell_type": "markdown",
   "metadata": {},
   "source": [
    "## Example"
   ]
  },
  {
   "cell_type": "code",
   "execution_count": 319,
   "metadata": {
    "scrolled": true
   },
   "outputs": [
    {
     "data": {
      "text/plain": [
       "['Soda',\n",
       " 'Organic Unsweetened Vanilla Almond Milk',\n",
       " 'Original Beef Jerky',\n",
       " 'Aged White Cheddar Popcorn',\n",
       " 'XL Pick-A-Size Paper Towel Rolls',\n",
       " 'Soda',\n",
       " 'Pistachios',\n",
       " 'Original Beef Jerky',\n",
       " 'Bag of Organic Bananas',\n",
       " 'Aged White Cheddar Popcorn',\n",
       " 'Cinnamon Toast Crunch',\n",
       " 'Soda',\n",
       " 'Original Beef Jerky',\n",
       " 'Pistachios',\n",
       " 'Organic String Cheese',\n",
       " 'Creamy Almond Butter',\n",
       " 'Soda',\n",
       " 'Original Beef Jerky',\n",
       " 'Pistachios',\n",
       " 'Organic String Cheese',\n",
       " 'XL Pick-A-Size Paper Towel Rolls',\n",
       " 'Soda',\n",
       " 'Original Beef Jerky',\n",
       " 'Pistachios',\n",
       " 'Organic String Cheese',\n",
       " 'Organic Fuji Apples',\n",
       " 'Honeycrisp Apples',\n",
       " 'Bartlett Pears',\n",
       " 'Bag of Organic Bananas',\n",
       " 'Soda',\n",
       " 'Original Beef Jerky',\n",
       " 'Pistachios',\n",
       " 'Organic String Cheese',\n",
       " 'Soda',\n",
       " 'Pistachios',\n",
       " 'Original Beef Jerky',\n",
       " 'Organic String Cheese',\n",
       " 'Cinnamon Toast Crunch',\n",
       " 'Original Beef Jerky',\n",
       " 'Soda',\n",
       " 'Pistachios',\n",
       " 'Organic String Cheese',\n",
       " 'Zero Calorie Cola',\n",
       " 'Organic Half & Half',\n",
       " 'Organic Half & Half',\n",
       " 'Zero Calorie Cola',\n",
       " 'Organic String Cheese',\n",
       " 'Soda',\n",
       " 'Pistachios',\n",
       " 'Original Beef Jerky',\n",
       " 'Soda',\n",
       " 'Zero Calorie Cola',\n",
       " 'Milk Chocolate Almonds',\n",
       " '0% Greek Strained Yogurt',\n",
       " 'Organic String Cheese',\n",
       " 'Pistachios',\n",
       " 'Organic Unsweetened Almond Milk',\n",
       " 'Cinnamon Toast Crunch',\n",
       " 'Original Beef Jerky']"
      ]
     },
     "execution_count": 319,
     "metadata": {},
     "output_type": "execute_result"
    }
   ],
   "source": [
    "product_id_to_name(get_previously_purchased_products(1))"
   ]
  },
  {
   "cell_type": "code",
   "execution_count": 876,
   "metadata": {
    "scrolled": false
   },
   "outputs": [
    {
     "data": {
      "text/plain": [
       "['Soda',\n",
       " 'Original Beef Jerky',\n",
       " 'Zero Calorie Cola',\n",
       " 'Bag of Organic Bananas',\n",
       " 'Pistachios',\n",
       " 'Trail Mix',\n",
       " 'Clementines',\n",
       " '0% Greek Strained Yogurt',\n",
       " 'Almonds',\n",
       " 'Extra Fancy Unsalted Mixed Nuts']"
      ]
     },
     "execution_count": 876,
     "metadata": {},
     "output_type": "execute_result"
    }
   ],
   "source": [
    "product_id_to_name(get_recommendations(1, 200))"
   ]
  },
  {
   "cell_type": "code",
   "execution_count": 877,
   "metadata": {
    "scrolled": false
   },
   "outputs": [
    {
     "data": {
      "text/plain": [
       "['Trail Mix',\n",
       " 'Clementines',\n",
       " 'Almonds',\n",
       " 'Extra Fancy Unsalted Mixed Nuts',\n",
       " \"Crunchy Oats 'n Honey Granola Bars\",\n",
       " 'Mineral Water',\n",
       " 'Mixed Fruit Fruit Snacks',\n",
       " 'Dried Mangos',\n",
       " 'Hass Avocados',\n",
       " 'Mozzarella String Cheese']"
      ]
     },
     "execution_count": 877,
     "metadata": {},
     "output_type": "execute_result"
    }
   ],
   "source": [
    "product_id_to_name(get_recommendations(1, 200, include_prev=False))"
   ]
  },
  {
   "cell_type": "markdown",
   "metadata": {},
   "source": [
    "Takes around a second for each prediction—which is very long when I think of all the test data I have"
   ]
  },
  {
   "cell_type": "code",
   "execution_count": 875,
   "metadata": {
    "scrolled": true
   },
   "outputs": [
    {
     "data": {
      "text/plain": [
       "['Soda',\n",
       " 'Organic String Cheese',\n",
       " '0% Greek Strained Yogurt',\n",
       " 'XL Pick-A-Size Paper Towel Rolls',\n",
       " 'Milk Chocolate Almonds',\n",
       " 'Pistachios',\n",
       " 'Cinnamon Toast Crunch',\n",
       " 'Aged White Cheddar Popcorn',\n",
       " 'Organic Whole Milk',\n",
       " 'Organic Half & Half',\n",
       " 'Zero Calorie Cola']"
      ]
     },
     "execution_count": 875,
     "metadata": {},
     "output_type": "execute_result"
    }
   ],
   "source": [
    "product_id_to_name(get_products_really_purcased(1))"
   ]
  },
  {
   "cell_type": "markdown",
   "metadata": {},
   "source": [
    "# Hyperparameter optimization"
   ]
  },
  {
   "cell_type": "code",
   "execution_count": 346,
   "metadata": {
    "collapsed": true
   },
   "outputs": [],
   "source": [
    "def get_model_accuracy(user_ids, k, n=10, include_prev=True):\n",
    "    accuracies = []\n",
    "    for user_id in user_ids:\n",
    "        recommended_items = set(get_recommendations(user_id, k, n, include_prev))\n",
    "        real_items = set(get_products_really_purcased(user_id, include_prev))\n",
    "        if len(real_items) != 0:\n",
    "            accuracy = len(recommended_items.intersection(real_items)) / len(real_items)\n",
    "            accuracies.append(accuracy)\n",
    "    model_accuracy = np.mean(accuracies)\n",
    "    return model_accuracy"
   ]
  },
  {
   "cell_type": "markdown",
   "metadata": {},
   "source": [
    "## Including previous purchases"
   ]
  },
  {
   "cell_type": "code",
   "execution_count": null,
   "metadata": {
    "collapsed": true
   },
   "outputs": [],
   "source": [
    "# While it would be nice to do this, it simply takes too long\n",
    "k_values = [50, 100, 200, 300]\n",
    "\n",
    "accuracies = {}\n",
    "for k in k_values:\n",
    "    accuracy = get_model_accuracy(test_subjects, k, n=10)\n",
    "    accuracies[k] = accuracy\n",
    "    print(f\"{k}: {accuracy * 100}%\")"
   ]
  },
  {
   "cell_type": "code",
   "execution_count": 290,
   "metadata": {
    "collapsed": true
   },
   "outputs": [],
   "source": [
    "random_users = choices(test_subjects, k=10000)"
   ]
  },
  {
   "cell_type": "code",
   "execution_count": null,
   "metadata": {
    "collapsed": true
   },
   "outputs": [],
   "source": [
    "start = time.time()\n",
    "k_values = [50, 100, 200]\n",
    "\n",
    "accuracies = {}\n",
    "for k in k_values:\n",
    "    accuracy = get_model_accuracy(random_users, k, n=10)\n",
    "    print(f\"{k}: {accuracy * 100}%\")\n",
    "    accuracies[k] = accuracy\n",
    "print(f\"This took {time.time() - start}s\")"
   ]
  },
  {
   "cell_type": "code",
   "execution_count": 292,
   "metadata": {},
   "outputs": [
    {
     "data": {
      "text/plain": [
       "{50: 0.2207089333842549, 100: 0.22730919134017813, 200: 0.22774171324152867}"
      ]
     },
     "execution_count": 292,
     "metadata": {},
     "output_type": "execute_result"
    }
   ],
   "source": [
    "accuracies"
   ]
  },
  {
   "cell_type": "markdown",
   "metadata": {},
   "source": [
    "{50: 0.2207089333842549, 100: 0.22730919134017813, 200: 0.22774171324152867}"
   ]
  },
  {
   "cell_type": "code",
   "execution_count": 294,
   "metadata": {
    "collapsed": true
   },
   "outputs": [],
   "source": [
    "random_users2 = choices(test_subjects, k=10000)"
   ]
  },
  {
   "cell_type": "markdown",
   "metadata": {},
   "source": [
    "I used another random sampling to see by around how much these accuracies vary depending on the sampling\n",
    "\n",
    "50: 21.91890341054359%\n",
    "This took 9648.1039788723s\n",
    "100: 22.69994431324306%\n",
    "This took 9667.498548269272s"
   ]
  },
  {
   "cell_type": "code",
   "execution_count": null,
   "metadata": {},
   "outputs": [
    {
     "name": "stdout",
     "output_type": "stream",
     "text": [
      "10: 18.32212244437322%\n",
      "This took 9851.811056137085s\n"
     ]
    }
   ],
   "source": [
    "k_values = [10, 25, 50]\n",
    "\n",
    "accuracies = {}\n",
    "for k in k_values:\n",
    "    start = time.time()\n",
    "    accuracy = get_model_accuracy(random_users2, k, n=10)\n",
    "    print(f\"{k}: {accuracy * 100}%\")\n",
    "    accuracies[k] = accuracy\n",
    "    print(f\"This took {time.time() - start}s\")"
   ]
  },
  {
   "cell_type": "code",
   "execution_count": 298,
   "metadata": {},
   "outputs": [
    {
     "data": {
      "text/plain": [
       "{10: 0.1832212244437322, 25: 0.20579167290986902, 50: 0.2191890341054359}"
      ]
     },
     "execution_count": 298,
     "metadata": {},
     "output_type": "execute_result"
    }
   ],
   "source": [
    "accuracies"
   ]
  },
  {
   "cell_type": "markdown",
   "metadata": {
    "collapsed": true
   },
   "source": [
    "{10: 0.1832212244437322, 25: 0.20579167290986902, 50: 0.2191890341054359}"
   ]
  },
  {
   "cell_type": "markdown",
   "metadata": {
    "collapsed": true
   },
   "source": [
    "## Only new purchases"
   ]
  },
  {
   "cell_type": "code",
   "execution_count": null,
   "metadata": {
    "collapsed": true,
    "scrolled": true
   },
   "outputs": [],
   "source": [
    "k_valuse = [50, 100, 300]\n",
    "\n",
    "accuracies = {}\n",
    "for k in k_values:\n",
    "    start = time.time()\n",
    "    accuracy = get_model_accuracy(random_users2, k, n=10, include_prev=False)\n",
    "    print(f\"{k}: {accuracy * 100}%\")\n",
    "    accuracies[k] = accuracy\n",
    "    print(f\"This took {time.time() - start}s\")"
   ]
  },
  {
   "cell_type": "markdown",
   "metadata": {},
   "source": [
    "# Recommendation engine"
   ]
  },
  {
   "cell_type": "markdown",
   "metadata": {},
   "source": [
    "## Sparse matrix constructor"
   ]
  },
  {
   "cell_type": "code",
   "execution_count": 851,
   "metadata": {
    "collapsed": true
   },
   "outputs": [],
   "source": [
    "def make_sparse(user_selection_sentence, tfidf_model=tfidf):\n",
    "    # Input is \"sentence\" of a string of product ids. First convert to a list of string product ids\n",
    "    selected_products = (user_selection_sentence.split())\n",
    "    unique_products = list(set(selected_products))\n",
    "    \n",
    "    # Now make this into a sparse matrix\n",
    "    \n",
    "    # Make matrix coordinates\n",
    "    sparse_row = [0 for product in unique_products] # Just one row—so all values 0\n",
    "    product_col = {} # Take coordinates from previous product vectorization\n",
    "    for product in unique_products:\n",
    "        product_col[product] = tfidf_model.vocabulary_[product]\n",
    "    \n",
    "    # Make a dictionary to look up established idf weights by their terms\n",
    "    idf_weights = dict(zip(tfidf_model.get_feature_names(),tfidf_model.idf_))\n",
    "    \n",
    "    # Get data from above dict pased on user selected products\n",
    "    product_weight = {}\n",
    "    for product in selected_products:\n",
    "        if product in product_weight:\n",
    "            product_weight[product] += idf_weights[product]\n",
    "        else:\n",
    "            product_weight[product] = idf_weights[product]\n",
    "    \n",
    "    # Get eveything in the same order\n",
    "    sparse_col = []\n",
    "    sparse_data = []\n",
    "    for product in unique_products:\n",
    "        sparse_col.append(product_col[product])\n",
    "        sparse_data.append(product_weight[product])\n",
    "    \n",
    "    \n",
    "    vector_mag = np.linalg.norm(sparse_data) # Normalize data\n",
    "    normed_sparse_data = [weight / vector_mag for weight in sparse_data]\n",
    "    \n",
    "    \n",
    "    # Construct matrix\n",
    "    sparse_mtrx = csr_matrix((normed_sparse_data, (sparse_row, sparse_col)), shape=(1, len(tfidf_model.get_feature_names())))\n",
    "    return sparse_mtrx"
   ]
  },
  {
   "cell_type": "markdown",
   "metadata": {
    "heading_collapsed": true
   },
   "source": [
    "### Example"
   ]
  },
  {
   "cell_type": "code",
   "execution_count": 852,
   "metadata": {
    "collapsed": true,
    "hidden": true,
    "scrolled": true
   },
   "outputs": [],
   "source": [
    "test_sparse = make_sparse(user_selection[0])"
   ]
  },
  {
   "cell_type": "code",
   "execution_count": 853,
   "metadata": {
    "hidden": true,
    "scrolled": true
   },
   "outputs": [
    {
     "name": "stdout",
     "output_type": "stream",
     "text": [
      "  (0, 288)\t0.5568375119899436\n",
      "  (0, 364)\t0.050791457361779715\n",
      "  (0, 2698)\t0.5200530407919848\n",
      "  (0, 3371)\t0.1631715705027685\n",
      "  (0, 3530)\t0.03897656945587028\n",
      "  (0, 4539)\t0.04677673659345217\n",
      "  (0, 7915)\t0.04317823250405664\n",
      "  (0, 10666)\t0.3803507238381845\n",
      "  (0, 16815)\t0.41904552560272096\n",
      "  (0, 17874)\t0.11057929962464196\n",
      "  (0, 18227)\t0.12022824569228034\n",
      "  (0, 22720)\t0.03667593396478088\n",
      "  (0, 28831)\t0.03301374192895708\n",
      "  (0, 32134)\t0.04926795594368525\n",
      "  (0, 32944)\t0.05521308097106601\n",
      "  (0, 35310)\t0.0341141619775235\n",
      "  (0, 40155)\t0.1572255428828079\n",
      "  (0, 43583)\t0.06290912449056552\n"
     ]
    }
   ],
   "source": [
    "print(test_sparse)"
   ]
  },
  {
   "cell_type": "code",
   "execution_count": 843,
   "metadata": {
    "hidden": true
   },
   "outputs": [
    {
     "name": "stdout",
     "output_type": "stream",
     "text": [
      "  (0, 10666)\t0.3803507238381845\n",
      "  (0, 4539)\t0.046776736593452176\n",
      "  (0, 2698)\t0.5200530407919849\n",
      "  (0, 17874)\t0.11057929962464197\n",
      "  (0, 18227)\t0.12022824569228036\n",
      "  (0, 288)\t0.5568375119899436\n",
      "  (0, 3530)\t0.03897656945587029\n",
      "  (0, 3371)\t0.16317157050276854\n",
      "  (0, 16815)\t0.419045525602721\n",
      "  (0, 22720)\t0.03667593396478088\n",
      "  (0, 364)\t0.050791457361779715\n",
      "  (0, 7915)\t0.04317823250405664\n",
      "  (0, 35310)\t0.0341141619775235\n",
      "  (0, 40155)\t0.1572255428828079\n",
      "  (0, 43583)\t0.06290912449056552\n",
      "  (0, 32944)\t0.05521308097106602\n",
      "  (0, 32134)\t0.04926795594368526\n",
      "  (0, 28831)\t0.03301374192895708\n"
     ]
    }
   ],
   "source": [
    "print(tfidf_matrix[indices[1]])"
   ]
  },
  {
   "cell_type": "markdown",
   "metadata": {},
   "source": [
    "## Recommender"
   ]
  },
  {
   "cell_type": "code",
   "execution_count": 898,
   "metadata": {
    "collapsed": true
   },
   "outputs": [],
   "source": [
    "# Function that takes in products a user likes and outputs recommended products\n",
    "def get_recommended_products(user_selection_sentence, k, n=10, include_prev=False, tfidf_model=tfidf, debug=False):\n",
    "    \n",
    "    product_mtrx = make_sparse(user_selection_sentence, tfidf_model=tfidf)\n",
    "    cosine_sim = linear_kernel(product_mtrx, tfidf_matrix)[0]\n",
    "\n",
    "    # Get the pairwsie similarity scores of all users\n",
    "    sim_scores = list(enumerate(cosine_sim))\n",
    "\n",
    "    # Sort the users based on the similarity scores\n",
    "    sim_scores = sorted(sim_scores, key=lambda x: x[1], reverse=True)\n",
    "    \n",
    "    # Get top k scores\n",
    "    if debug:\n",
    "        sim_scores = sim_scores[1:(k+1)] # In debug mode I'll want to skip the best match since it will just be the input user\n",
    "    else:\n",
    "        sim_scores = sim_scores[:k]\n",
    "\n",
    "    # Get the user indices\n",
    "    user_indices = [i[0] for i in sim_scores]\n",
    "\n",
    "    # The top k most similar users\n",
    "    top_k_users = user_products_sentence__prior['user_id'].iloc[user_indices]\n",
    "    \n",
    "    # The products purchased from these top k users\n",
    "    top_k_user_products = user_products_lookup.loc[top_k_users]\n",
    "    product_list = [i for j in top_k_user_products['product_id'].tolist() for i in j]\n",
    "    \n",
    "    # Count the frequency of the items purchased and sort by popularity\n",
    "    product_counts = dict(Counter(product_list))\n",
    "    popular_products = sorted(product_counts, key=product_counts.get, reverse=True)\n",
    "    \n",
    "    if include_prev:\n",
    "        # Return the top n purchaed product by the k most similar users\n",
    "        return popular_products[:n]\n",
    "    \n",
    "    else:\n",
    "        # In this case we filter out items the user has already purchased\n",
    "        prev_purchases = user_selection_sentence.split()\n",
    "        prev_purchases = list(map(int, prev_purchases))\n",
    "        popular_new_products = [product for product in popular_products if product not in prev_purchases]\n",
    "        \n",
    "        return popular_new_products[:n]"
   ]
  },
  {
   "cell_type": "markdown",
   "metadata": {},
   "source": [
    "### Example"
   ]
  },
  {
   "cell_type": "code",
   "execution_count": 900,
   "metadata": {
    "scrolled": true
   },
   "outputs": [
    {
     "data": {
      "text/plain": [
       "['Soda',\n",
       " 'Original Beef Jerky',\n",
       " 'Zero Calorie Cola',\n",
       " 'Bag of Organic Bananas',\n",
       " 'Pistachios',\n",
       " 'Trail Mix',\n",
       " 'Clementines',\n",
       " '0% Greek Strained Yogurt',\n",
       " 'Almonds',\n",
       " 'Extra Fancy Unsalted Mixed Nuts']"
      ]
     },
     "execution_count": 900,
     "metadata": {},
     "output_type": "execute_result"
    }
   ],
   "source": [
    "product_id_to_name(get_recommended_products(user_selection[0], 200, include_prev=True, debug=True))"
   ]
  },
  {
   "cell_type": "markdown",
   "metadata": {},
   "source": [
    "Actual recommended items from prev model\n",
    "\n",
    "['Soda',\n",
    " 'Original Beef Jerky',\n",
    " 'Zero Calorie Cola',\n",
    " 'Bag of Organic Bananas',\n",
    " 'Pistachios',\n",
    " 'Trail Mix',\n",
    " 'Clementines',\n",
    " '0% Greek Strained Yogurt',\n",
    " 'Almonds',\n",
    " 'Extra Fancy Unsalted Mixed Nuts']"
   ]
  },
  {
   "cell_type": "code",
   "execution_count": 901,
   "metadata": {},
   "outputs": [
    {
     "data": {
      "text/plain": [
       "['Trail Mix',\n",
       " 'Clementines',\n",
       " 'Almonds',\n",
       " 'Extra Fancy Unsalted Mixed Nuts',\n",
       " \"Crunchy Oats 'n Honey Granola Bars\",\n",
       " 'Mineral Water',\n",
       " 'Mixed Fruit Fruit Snacks',\n",
       " 'Dried Mangos',\n",
       " 'Hass Avocados',\n",
       " 'Mozzarella String Cheese']"
      ]
     },
     "execution_count": 901,
     "metadata": {},
     "output_type": "execute_result"
    }
   ],
   "source": [
    "product_id_to_name(get_recommended_products(user_selection[0], 200, include_prev=False, debug=True))"
   ]
  },
  {
   "cell_type": "markdown",
   "metadata": {},
   "source": [
    "Actual recommended items from prev model\n",
    "\n",
    "['Trail Mix',\n",
    " 'Clementines',\n",
    " 'Almonds',\n",
    " 'Extra Fancy Unsalted Mixed Nuts',\n",
    " \"Crunchy Oats 'n Honey Granola Bars\",\n",
    " 'Mineral Water',\n",
    " 'Mixed Fruit Fruit Snacks',\n",
    " 'Dried Mangos',\n",
    " 'Hass Avocados',\n",
    " 'Mozzarella String Cheese']"
   ]
  },
  {
   "cell_type": "code",
   "execution_count": 907,
   "metadata": {
    "collapsed": true
   },
   "outputs": [],
   "source": [
    "tfidf = joblib.load('tfidf.pkl')\n",
    "tfidf_matrix = joblib.load('tfidx_matrix.pkl')"
   ]
  },
  {
   "cell_type": "markdown",
   "metadata": {},
   "source": [
    "Use these pickle loaders for actual program"
   ]
  }
 ],
 "metadata": {
  "kernelspec": {
   "display_name": "Python 3",
   "language": "python",
   "name": "python3"
  },
  "language_info": {
   "codemirror_mode": {
    "name": "ipython",
    "version": 3
   },
   "file_extension": ".py",
   "mimetype": "text/x-python",
   "name": "python",
   "nbconvert_exporter": "python",
   "pygments_lexer": "ipython3",
   "version": "3.6.2"
  }
 },
 "nbformat": 4,
 "nbformat_minor": 2
}
