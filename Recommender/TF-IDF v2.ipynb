{
 "cells": [
  {
   "cell_type": "markdown",
   "metadata": {},
   "source": [
    "# Import"
   ]
  },
  {
   "cell_type": "code",
   "execution_count": 912,
   "metadata": {
    "collapsed": true
   },
   "outputs": [],
   "source": [
    "import pandas as pd\n",
    "import numpy as np\n",
    "from sklearn.feature_extraction.text import TfidfVectorizer\n",
    "from sklearn.metrics.pairwise import linear_kernel\n",
    "from ast import literal_eval\n",
    "from collections import Counter\n",
    "import time\n",
    "from random import choices\n",
    "from scipy.sparse import csr_matrix\n",
    "from sklearn.externals import joblib\n",
    "from pickle import dump"
   ]
  },
  {
   "cell_type": "markdown",
   "metadata": {},
   "source": [
    "# Data"
   ]
  },
  {
   "cell_type": "markdown",
   "metadata": {},
   "source": [
    "## Load"
   ]
  },
  {
   "cell_type": "code",
   "execution_count": 305,
   "metadata": {
    "collapsed": true
   },
   "outputs": [],
   "source": [
    "order_products__train = pd.read_csv(\"../instacart_2017_05_01/order_products__train.csv\")\n",
    "order_products__prior = pd.read_csv(\"../instacart_2017_05_01/order_products__prior.csv\")\n",
    "products = pd.read_csv(\"../instacart_2017_05_01/products.csv\")\n",
    "orders = pd.read_csv(\"../instacart_2017_05_01/orders.csv\")"
   ]
  },
  {
   "cell_type": "markdown",
   "metadata": {},
   "source": [
    "## Train"
   ]
  },
  {
   "cell_type": "code",
   "execution_count": 306,
   "metadata": {
    "collapsed": true
   },
   "outputs": [],
   "source": [
    "orders_train = orders[orders['eval_set'] == 'train'].reset_index()\n",
    "orders_train = orders_train[['user_id', 'order_id']]"
   ]
  },
  {
   "cell_type": "code",
   "execution_count": 307,
   "metadata": {
    "scrolled": true
   },
   "outputs": [
    {
     "data": {
      "text/html": [
       "<div>\n",
       "<style scoped>\n",
       "    .dataframe tbody tr th:only-of-type {\n",
       "        vertical-align: middle;\n",
       "    }\n",
       "\n",
       "    .dataframe tbody tr th {\n",
       "        vertical-align: top;\n",
       "    }\n",
       "\n",
       "    .dataframe thead th {\n",
       "        text-align: right;\n",
       "    }\n",
       "</style>\n",
       "<table border=\"1\" class=\"dataframe\">\n",
       "  <thead>\n",
       "    <tr style=\"text-align: right;\">\n",
       "      <th></th>\n",
       "      <th>order_id</th>\n",
       "      <th>product_id</th>\n",
       "    </tr>\n",
       "  </thead>\n",
       "  <tbody>\n",
       "    <tr>\n",
       "      <th>0</th>\n",
       "      <td>1</td>\n",
       "      <td>[49302, 11109, 10246, 49683, 43633, 13176, 472...</td>\n",
       "    </tr>\n",
       "    <tr>\n",
       "      <th>1</th>\n",
       "      <td>36</td>\n",
       "      <td>[39612, 19660, 49235, 43086, 46620, 34497, 486...</td>\n",
       "    </tr>\n",
       "    <tr>\n",
       "      <th>2</th>\n",
       "      <td>38</td>\n",
       "      <td>[11913, 18159, 4461, 21616, 23622, 32433, 2884...</td>\n",
       "    </tr>\n",
       "    <tr>\n",
       "      <th>3</th>\n",
       "      <td>96</td>\n",
       "      <td>[20574, 30391, 40706, 25610, 27966, 24489, 39275]</td>\n",
       "    </tr>\n",
       "    <tr>\n",
       "      <th>4</th>\n",
       "      <td>98</td>\n",
       "      <td>[8859, 19731, 43654, 13176, 4357, 37664, 34065...</td>\n",
       "    </tr>\n",
       "  </tbody>\n",
       "</table>\n",
       "</div>"
      ],
      "text/plain": [
       "   order_id                                         product_id\n",
       "0         1  [49302, 11109, 10246, 49683, 43633, 13176, 472...\n",
       "1        36  [39612, 19660, 49235, 43086, 46620, 34497, 486...\n",
       "2        38  [11913, 18159, 4461, 21616, 23622, 32433, 2884...\n",
       "3        96  [20574, 30391, 40706, 25610, 27966, 24489, 39275]\n",
       "4        98  [8859, 19731, 43654, 13176, 4357, 37664, 34065..."
      ]
     },
     "execution_count": 307,
     "metadata": {},
     "output_type": "execute_result"
    }
   ],
   "source": [
    "order_products__train = order_products__train[['order_id', 'product_id', 'reordered']]\n",
    "order_products__train = order_products__train.groupby('order_id')['product_id'].apply(list).reset_index()\n",
    "order_products__train.head()"
   ]
  },
  {
   "cell_type": "code",
   "execution_count": 308,
   "metadata": {
    "collapsed": true
   },
   "outputs": [],
   "source": [
    "user_products__train = pd.merge(order_products__train, orders_train, on='order_id')\n",
    "user_products__train = user_products__train[['user_id', 'product_id']]"
   ]
  },
  {
   "cell_type": "code",
   "execution_count": 309,
   "metadata": {
    "scrolled": true
   },
   "outputs": [
    {
     "data": {
      "text/html": [
       "<div>\n",
       "<style scoped>\n",
       "    .dataframe tbody tr th:only-of-type {\n",
       "        vertical-align: middle;\n",
       "    }\n",
       "\n",
       "    .dataframe tbody tr th {\n",
       "        vertical-align: top;\n",
       "    }\n",
       "\n",
       "    .dataframe thead th {\n",
       "        text-align: right;\n",
       "    }\n",
       "</style>\n",
       "<table border=\"1\" class=\"dataframe\">\n",
       "  <thead>\n",
       "    <tr style=\"text-align: right;\">\n",
       "      <th></th>\n",
       "      <th>user_id</th>\n",
       "      <th>product_id</th>\n",
       "    </tr>\n",
       "  </thead>\n",
       "  <tbody>\n",
       "  </tbody>\n",
       "</table>\n",
       "</div>"
      ],
      "text/plain": [
       "Empty DataFrame\n",
       "Columns: [user_id, product_id]\n",
       "Index: []"
      ]
     },
     "execution_count": 309,
     "metadata": {},
     "output_type": "execute_result"
    }
   ],
   "source": [
    "user_products__train[user_products__train.duplicated(['user_id'], keep=False)]"
   ]
  },
  {
   "cell_type": "code",
   "execution_count": 310,
   "metadata": {
    "collapsed": true
   },
   "outputs": [],
   "source": [
    "user_products__train.set_index('user_id', inplace=True)"
   ]
  },
  {
   "cell_type": "code",
   "execution_count": 311,
   "metadata": {
    "scrolled": false
   },
   "outputs": [
    {
     "data": {
      "text/html": [
       "<div>\n",
       "<style scoped>\n",
       "    .dataframe tbody tr th:only-of-type {\n",
       "        vertical-align: middle;\n",
       "    }\n",
       "\n",
       "    .dataframe tbody tr th {\n",
       "        vertical-align: top;\n",
       "    }\n",
       "\n",
       "    .dataframe thead th {\n",
       "        text-align: right;\n",
       "    }\n",
       "</style>\n",
       "<table border=\"1\" class=\"dataframe\">\n",
       "  <thead>\n",
       "    <tr style=\"text-align: right;\">\n",
       "      <th></th>\n",
       "      <th>product_id</th>\n",
       "    </tr>\n",
       "    <tr>\n",
       "      <th>user_id</th>\n",
       "      <th></th>\n",
       "    </tr>\n",
       "  </thead>\n",
       "  <tbody>\n",
       "    <tr>\n",
       "      <th>112108</th>\n",
       "      <td>[49302, 11109, 10246, 49683, 43633, 13176, 472...</td>\n",
       "    </tr>\n",
       "    <tr>\n",
       "      <th>79431</th>\n",
       "      <td>[39612, 19660, 49235, 43086, 46620, 34497, 486...</td>\n",
       "    </tr>\n",
       "    <tr>\n",
       "      <th>42756</th>\n",
       "      <td>[11913, 18159, 4461, 21616, 23622, 32433, 2884...</td>\n",
       "    </tr>\n",
       "    <tr>\n",
       "      <th>17227</th>\n",
       "      <td>[20574, 30391, 40706, 25610, 27966, 24489, 39275]</td>\n",
       "    </tr>\n",
       "    <tr>\n",
       "      <th>56463</th>\n",
       "      <td>[8859, 19731, 43654, 13176, 4357, 37664, 34065...</td>\n",
       "    </tr>\n",
       "  </tbody>\n",
       "</table>\n",
       "</div>"
      ],
      "text/plain": [
       "                                                product_id\n",
       "user_id                                                   \n",
       "112108   [49302, 11109, 10246, 49683, 43633, 13176, 472...\n",
       "79431    [39612, 19660, 49235, 43086, 46620, 34497, 486...\n",
       "42756    [11913, 18159, 4461, 21616, 23622, 32433, 2884...\n",
       "17227    [20574, 30391, 40706, 25610, 27966, 24489, 39275]\n",
       "56463    [8859, 19731, 43654, 13176, 4357, 37664, 34065..."
      ]
     },
     "execution_count": 311,
     "metadata": {},
     "output_type": "execute_result"
    }
   ],
   "source": [
    "user_products__train.head()"
   ]
  },
  {
   "cell_type": "markdown",
   "metadata": {},
   "source": [
    "### Save/Load dataframes"
   ]
  },
  {
   "cell_type": "code",
   "execution_count": 52,
   "metadata": {
    "collapsed": true
   },
   "outputs": [],
   "source": [
    "user_products__train.to_csv(\"user_products__train.csv\")"
   ]
  },
  {
   "cell_type": "code",
   "execution_count": 53,
   "metadata": {},
   "outputs": [
    {
     "name": "stdout",
     "output_type": "stream",
     "text": [
      "user_products__train already exists\n"
     ]
    }
   ],
   "source": [
    "try:\n",
    "    user_products__train\n",
    "except NameError:\n",
    "    user_products__train = pd.read_csv(\"user_products__train.csv\")\n",
    "else:\n",
    "    print(\"user_products__train already exists\")"
   ]
  },
  {
   "cell_type": "code",
   "execution_count": 176,
   "metadata": {
    "collapsed": true
   },
   "outputs": [],
   "source": [
    "test_subjects = user_products__train.index"
   ]
  },
  {
   "cell_type": "markdown",
   "metadata": {},
   "source": [
    "## Prior"
   ]
  },
  {
   "cell_type": "code",
   "execution_count": 6,
   "metadata": {
    "collapsed": true
   },
   "outputs": [],
   "source": [
    "orders_prior = orders[orders['eval_set'] == 'prior'].reset_index()\n",
    "orders_prior = orders_prior[['user_id', 'order_id']]"
   ]
  },
  {
   "cell_type": "code",
   "execution_count": 7,
   "metadata": {
    "collapsed": true
   },
   "outputs": [],
   "source": [
    "order_products__prior = order_products__prior[['order_id', 'product_id']]"
   ]
  },
  {
   "cell_type": "code",
   "execution_count": 14,
   "metadata": {
    "scrolled": false
   },
   "outputs": [
    {
     "data": {
      "text/html": [
       "<div>\n",
       "<style scoped>\n",
       "    .dataframe tbody tr th:only-of-type {\n",
       "        vertical-align: middle;\n",
       "    }\n",
       "\n",
       "    .dataframe tbody tr th {\n",
       "        vertical-align: top;\n",
       "    }\n",
       "\n",
       "    .dataframe thead th {\n",
       "        text-align: right;\n",
       "    }\n",
       "</style>\n",
       "<table border=\"1\" class=\"dataframe\">\n",
       "  <thead>\n",
       "    <tr style=\"text-align: right;\">\n",
       "      <th></th>\n",
       "      <th>user_id</th>\n",
       "      <th>product_id</th>\n",
       "    </tr>\n",
       "  </thead>\n",
       "  <tbody>\n",
       "    <tr>\n",
       "      <th>0</th>\n",
       "      <td>1</td>\n",
       "      <td>[196, 14084, 12427, 26088, 26405, 196, 10258, ...</td>\n",
       "    </tr>\n",
       "    <tr>\n",
       "      <th>1</th>\n",
       "      <td>2</td>\n",
       "      <td>[32792, 47766, 20574, 12000, 48110, 22474, 165...</td>\n",
       "    </tr>\n",
       "    <tr>\n",
       "      <th>2</th>\n",
       "      <td>3</td>\n",
       "      <td>[9387, 17668, 15143, 16797, 39190, 47766, 2190...</td>\n",
       "    </tr>\n",
       "    <tr>\n",
       "      <th>3</th>\n",
       "      <td>4</td>\n",
       "      <td>[36606, 7350, 35469, 2707, 42329, 7160, 1200, ...</td>\n",
       "    </tr>\n",
       "    <tr>\n",
       "      <th>4</th>\n",
       "      <td>5</td>\n",
       "      <td>[15349, 21413, 48775, 28289, 8518, 11777, 3171...</td>\n",
       "    </tr>\n",
       "  </tbody>\n",
       "</table>\n",
       "</div>"
      ],
      "text/plain": [
       "   user_id                                         product_id\n",
       "0        1  [196, 14084, 12427, 26088, 26405, 196, 10258, ...\n",
       "1        2  [32792, 47766, 20574, 12000, 48110, 22474, 165...\n",
       "2        3  [9387, 17668, 15143, 16797, 39190, 47766, 2190...\n",
       "3        4  [36606, 7350, 35469, 2707, 42329, 7160, 1200, ...\n",
       "4        5  [15349, 21413, 48775, 28289, 8518, 11777, 3171..."
      ]
     },
     "execution_count": 14,
     "metadata": {},
     "output_type": "execute_result"
    }
   ],
   "source": [
    "user_products__prior = pd.merge(orders_prior, order_products__prior, on='order_id', how='inner')\n",
    "user_products__prior = user_products__prior[['user_id', 'product_id']]\n",
    "user_products__prior = user_products__prior.groupby('user_id')['product_id'].apply(list).reset_index()\n",
    "user_products__prior.head()"
   ]
  },
  {
   "cell_type": "code",
   "execution_count": 312,
   "metadata": {
    "collapsed": true
   },
   "outputs": [],
   "source": [
    "prior_orders_lookup = user_products__prior.set_index('user_id')"
   ]
  },
  {
   "cell_type": "markdown",
   "metadata": {},
   "source": [
    "### Save/Load dataframes"
   ]
  },
  {
   "cell_type": "code",
   "execution_count": 16,
   "metadata": {},
   "outputs": [
    {
     "name": "stdout",
     "output_type": "stream",
     "text": [
      "user_products__prior already exists\n"
     ]
    }
   ],
   "source": [
    "try:\n",
    "    user_products__prior\n",
    "except NameError:\n",
    "    user_products__prior = pd.read_csv('user_products__prior.csv')\n",
    "else:\n",
    "    print(\"user_products__prior already exists\")"
   ]
  },
  {
   "cell_type": "code",
   "execution_count": 42,
   "metadata": {
    "scrolled": true
   },
   "outputs": [
    {
     "data": {
      "text/html": [
       "<div>\n",
       "<style scoped>\n",
       "    .dataframe tbody tr th:only-of-type {\n",
       "        vertical-align: middle;\n",
       "    }\n",
       "\n",
       "    .dataframe tbody tr th {\n",
       "        vertical-align: top;\n",
       "    }\n",
       "\n",
       "    .dataframe thead th {\n",
       "        text-align: right;\n",
       "    }\n",
       "</style>\n",
       "<table border=\"1\" class=\"dataframe\">\n",
       "  <thead>\n",
       "    <tr style=\"text-align: right;\">\n",
       "      <th></th>\n",
       "      <th>product_id</th>\n",
       "    </tr>\n",
       "    <tr>\n",
       "      <th>user_id</th>\n",
       "      <th></th>\n",
       "    </tr>\n",
       "  </thead>\n",
       "  <tbody>\n",
       "    <tr>\n",
       "      <th>1</th>\n",
       "      <td>[196, 14084, 12427, 26088, 26405, 196, 10258, ...</td>\n",
       "    </tr>\n",
       "    <tr>\n",
       "      <th>2</th>\n",
       "      <td>[32792, 47766, 20574, 12000, 48110, 22474, 165...</td>\n",
       "    </tr>\n",
       "    <tr>\n",
       "      <th>3</th>\n",
       "      <td>[9387, 17668, 15143, 16797, 39190, 47766, 2190...</td>\n",
       "    </tr>\n",
       "    <tr>\n",
       "      <th>4</th>\n",
       "      <td>[36606, 7350, 35469, 2707, 42329, 7160, 1200, ...</td>\n",
       "    </tr>\n",
       "    <tr>\n",
       "      <th>5</th>\n",
       "      <td>[15349, 21413, 48775, 28289, 8518, 11777, 3171...</td>\n",
       "    </tr>\n",
       "  </tbody>\n",
       "</table>\n",
       "</div>"
      ],
      "text/plain": [
       "                                                product_id\n",
       "user_id                                                   \n",
       "1        [196, 14084, 12427, 26088, 26405, 196, 10258, ...\n",
       "2        [32792, 47766, 20574, 12000, 48110, 22474, 165...\n",
       "3        [9387, 17668, 15143, 16797, 39190, 47766, 2190...\n",
       "4        [36606, 7350, 35469, 2707, 42329, 7160, 1200, ...\n",
       "5        [15349, 21413, 48775, 28289, 8518, 11777, 3171..."
      ]
     },
     "execution_count": 42,
     "metadata": {},
     "output_type": "execute_result"
    }
   ],
   "source": [
    "user_products_lookup = user_products__prior.set_index('user_id', drop=True)\n",
    "user_products_lookup.head()"
   ]
  },
  {
   "cell_type": "code",
   "execution_count": 920,
   "metadata": {
    "scrolled": true
   },
   "outputs": [
    {
     "data": {
      "text/html": [
       "<div>\n",
       "<style scoped>\n",
       "    .dataframe tbody tr th:only-of-type {\n",
       "        vertical-align: middle;\n",
       "    }\n",
       "\n",
       "    .dataframe tbody tr th {\n",
       "        vertical-align: top;\n",
       "    }\n",
       "\n",
       "    .dataframe thead th {\n",
       "        text-align: right;\n",
       "    }\n",
       "</style>\n",
       "<table border=\"1\" class=\"dataframe\">\n",
       "  <thead>\n",
       "    <tr style=\"text-align: right;\">\n",
       "      <th></th>\n",
       "      <th>product_id</th>\n",
       "    </tr>\n",
       "    <tr>\n",
       "      <th>user_id</th>\n",
       "      <th></th>\n",
       "    </tr>\n",
       "  </thead>\n",
       "  <tbody>\n",
       "    <tr>\n",
       "      <th>1</th>\n",
       "      <td>[196, 14084, 12427, 26088, 26405, 196, 10258, ...</td>\n",
       "    </tr>\n",
       "    <tr>\n",
       "      <th>2</th>\n",
       "      <td>[32792, 47766, 20574, 12000, 48110, 22474, 165...</td>\n",
       "    </tr>\n",
       "    <tr>\n",
       "      <th>3</th>\n",
       "      <td>[9387, 17668, 15143, 16797, 39190, 47766, 2190...</td>\n",
       "    </tr>\n",
       "    <tr>\n",
       "      <th>4</th>\n",
       "      <td>[36606, 7350, 35469, 2707, 42329, 7160, 1200, ...</td>\n",
       "    </tr>\n",
       "    <tr>\n",
       "      <th>5</th>\n",
       "      <td>[15349, 21413, 48775, 28289, 8518, 11777, 3171...</td>\n",
       "    </tr>\n",
       "  </tbody>\n",
       "</table>\n",
       "</div>"
      ],
      "text/plain": [
       "                                                product_id\n",
       "user_id                                                   \n",
       "1        [196, 14084, 12427, 26088, 26405, 196, 10258, ...\n",
       "2        [32792, 47766, 20574, 12000, 48110, 22474, 165...\n",
       "3        [9387, 17668, 15143, 16797, 39190, 47766, 2190...\n",
       "4        [36606, 7350, 35469, 2707, 42329, 7160, 1200, ...\n",
       "5        [15349, 21413, 48775, 28289, 8518, 11777, 3171..."
      ]
     },
     "execution_count": 920,
     "metadata": {},
     "output_type": "execute_result"
    }
   ],
   "source": [
    "user_products_lookup.head()"
   ]
  },
  {
   "cell_type": "code",
   "execution_count": 921,
   "metadata": {
    "scrolled": false
   },
   "outputs": [
    {
     "data": {
      "text/html": [
       "<div>\n",
       "<style scoped>\n",
       "    .dataframe tbody tr th:only-of-type {\n",
       "        vertical-align: middle;\n",
       "    }\n",
       "\n",
       "    .dataframe tbody tr th {\n",
       "        vertical-align: top;\n",
       "    }\n",
       "\n",
       "    .dataframe thead th {\n",
       "        text-align: right;\n",
       "    }\n",
       "</style>\n",
       "<table border=\"1\" class=\"dataframe\">\n",
       "  <thead>\n",
       "    <tr style=\"text-align: right;\">\n",
       "      <th></th>\n",
       "      <th>product_id</th>\n",
       "    </tr>\n",
       "    <tr>\n",
       "      <th>user_id</th>\n",
       "      <th></th>\n",
       "    </tr>\n",
       "  </thead>\n",
       "  <tbody>\n",
       "    <tr>\n",
       "      <th>1</th>\n",
       "      <td>[196, 14084, 12427, 26088, 26405, 196, 10258, ...</td>\n",
       "    </tr>\n",
       "    <tr>\n",
       "      <th>2</th>\n",
       "      <td>[32792, 47766, 20574, 12000, 48110, 22474, 165...</td>\n",
       "    </tr>\n",
       "    <tr>\n",
       "      <th>3</th>\n",
       "      <td>[9387, 17668, 15143, 16797, 39190, 47766, 2190...</td>\n",
       "    </tr>\n",
       "    <tr>\n",
       "      <th>4</th>\n",
       "      <td>[36606, 7350, 35469, 2707, 42329, 7160, 1200, ...</td>\n",
       "    </tr>\n",
       "    <tr>\n",
       "      <th>5</th>\n",
       "      <td>[15349, 21413, 48775, 28289, 8518, 11777, 3171...</td>\n",
       "    </tr>\n",
       "  </tbody>\n",
       "</table>\n",
       "</div>"
      ],
      "text/plain": [
       "                                                product_id\n",
       "user_id                                                   \n",
       "1        [196, 14084, 12427, 26088, 26405, 196, 10258, ...\n",
       "2        [32792, 47766, 20574, 12000, 48110, 22474, 165...\n",
       "3        [9387, 17668, 15143, 16797, 39190, 47766, 2190...\n",
       "4        [36606, 7350, 35469, 2707, 42329, 7160, 1200, ...\n",
       "5        [15349, 21413, 48775, 28289, 8518, 11777, 3171..."
      ]
     },
     "execution_count": 921,
     "metadata": {},
     "output_type": "execute_result"
    }
   ],
   "source": [
    "# Dump for program\n",
    "user_products_lookup.to_csv('user_products_lookup.csv')\n",
    "testdf = pd.read_csv('user_products_lookup.csv').set_index('user_id')\n",
    "testdf.head()"
   ]
  },
  {
   "cell_type": "code",
   "execution_count": 949,
   "metadata": {
    "scrolled": true
   },
   "outputs": [],
   "source": [
    "selectiontest = testdf.loc[[1,4,5]]"
   ]
  },
  {
   "cell_type": "code",
   "execution_count": 950,
   "metadata": {},
   "outputs": [],
   "source": [
    "selectiontest['product_id'] = selectiontest['product_id'].apply(literal_eval)"
   ]
  },
  {
   "cell_type": "code",
   "execution_count": 952,
   "metadata": {
    "scrolled": true
   },
   "outputs": [
    {
     "data": {
      "text/plain": [
       "[196,\n",
       " 14084,\n",
       " 12427,\n",
       " 26088,\n",
       " 26405,\n",
       " 196,\n",
       " 10258,\n",
       " 12427,\n",
       " 13176,\n",
       " 26088,\n",
       " 13032,\n",
       " 196,\n",
       " 12427,\n",
       " 10258,\n",
       " 25133,\n",
       " 30450,\n",
       " 196,\n",
       " 12427,\n",
       " 10258,\n",
       " 25133,\n",
       " 26405,\n",
       " 196,\n",
       " 12427,\n",
       " 10258,\n",
       " 25133,\n",
       " 10326,\n",
       " 17122,\n",
       " 41787,\n",
       " 13176,\n",
       " 196,\n",
       " 12427,\n",
       " 10258,\n",
       " 25133,\n",
       " 196,\n",
       " 10258,\n",
       " 12427,\n",
       " 25133,\n",
       " 13032,\n",
       " 12427,\n",
       " 196,\n",
       " 10258,\n",
       " 25133,\n",
       " 46149,\n",
       " 49235,\n",
       " 49235,\n",
       " 46149,\n",
       " 25133,\n",
       " 196,\n",
       " 10258,\n",
       " 12427,\n",
       " 196,\n",
       " 46149,\n",
       " 39657,\n",
       " 38928,\n",
       " 25133,\n",
       " 10258,\n",
       " 35951,\n",
       " 13032,\n",
       " 12427]"
      ]
     },
     "execution_count": 952,
     "metadata": {},
     "output_type": "execute_result"
    }
   ],
   "source": [
    "selectiontest.iloc[0]['product_id']"
   ]
  },
  {
   "cell_type": "markdown",
   "metadata": {},
   "source": [
    "## Prior sentences"
   ]
  },
  {
   "cell_type": "code",
   "execution_count": 17,
   "metadata": {
    "collapsed": true
   },
   "outputs": [],
   "source": [
    "def make_sentences(product_id_list):\n",
    "    string_list = [str(product_id) for product_id in product_id_list]\n",
    "    return \" \".join(string_list)"
   ]
  },
  {
   "cell_type": "code",
   "execution_count": 18,
   "metadata": {
    "scrolled": true
   },
   "outputs": [
    {
     "data": {
      "text/html": [
       "<div>\n",
       "<style scoped>\n",
       "    .dataframe tbody tr th:only-of-type {\n",
       "        vertical-align: middle;\n",
       "    }\n",
       "\n",
       "    .dataframe tbody tr th {\n",
       "        vertical-align: top;\n",
       "    }\n",
       "\n",
       "    .dataframe thead th {\n",
       "        text-align: right;\n",
       "    }\n",
       "</style>\n",
       "<table border=\"1\" class=\"dataframe\">\n",
       "  <thead>\n",
       "    <tr style=\"text-align: right;\">\n",
       "      <th></th>\n",
       "      <th>user_id</th>\n",
       "      <th>product_id</th>\n",
       "    </tr>\n",
       "  </thead>\n",
       "  <tbody>\n",
       "    <tr>\n",
       "      <th>0</th>\n",
       "      <td>1</td>\n",
       "      <td>196 14084 12427 26088 26405 196 10258 12427 13...</td>\n",
       "    </tr>\n",
       "    <tr>\n",
       "      <th>1</th>\n",
       "      <td>2</td>\n",
       "      <td>32792 47766 20574 12000 48110 22474 16589 3591...</td>\n",
       "    </tr>\n",
       "    <tr>\n",
       "      <th>2</th>\n",
       "      <td>3</td>\n",
       "      <td>9387 17668 15143 16797 39190 47766 21903 39922...</td>\n",
       "    </tr>\n",
       "    <tr>\n",
       "      <th>3</th>\n",
       "      <td>4</td>\n",
       "      <td>36606 7350 35469 2707 42329 7160 1200 17769 43...</td>\n",
       "    </tr>\n",
       "    <tr>\n",
       "      <th>4</th>\n",
       "      <td>5</td>\n",
       "      <td>15349 21413 48775 28289 8518 11777 31717 26604...</td>\n",
       "    </tr>\n",
       "  </tbody>\n",
       "</table>\n",
       "</div>"
      ],
      "text/plain": [
       "   user_id                                         product_id\n",
       "0        1  196 14084 12427 26088 26405 196 10258 12427 13...\n",
       "1        2  32792 47766 20574 12000 48110 22474 16589 3591...\n",
       "2        3  9387 17668 15143 16797 39190 47766 21903 39922...\n",
       "3        4  36606 7350 35469 2707 42329 7160 1200 17769 43...\n",
       "4        5  15349 21413 48775 28289 8518 11777 31717 26604..."
      ]
     },
     "execution_count": 18,
     "metadata": {},
     "output_type": "execute_result"
    }
   ],
   "source": [
    "user_products_sentence__prior = user_products__prior.copy()\n",
    "user_products_sentence__prior['product_id'] = user_products_sentence__prior['product_id'].apply(make_sentences)\n",
    "user_products_sentence__prior.head()"
   ]
  },
  {
   "cell_type": "code",
   "execution_count": 917,
   "metadata": {
    "collapsed": true
   },
   "outputs": [],
   "source": [
    "user_products_sentence__prior.to_csv('user_products_sentence__prior.csv', index=False)"
   ]
  },
  {
   "cell_type": "code",
   "execution_count": 20,
   "metadata": {},
   "outputs": [
    {
     "name": "stdout",
     "output_type": "stream",
     "text": [
      "user_products_sentence__prior already exists\n"
     ]
    }
   ],
   "source": [
    "try:\n",
    "    user_products__prior\n",
    "except NameError:\n",
    "    user_products_sentence__prior = pd.read_csv('user_products_sentence__prior.csv')\n",
    "else:\n",
    "    print(\"user_products_sentence__prior already exists\")"
   ]
  },
  {
   "cell_type": "code",
   "execution_count": 936,
   "metadata": {
    "scrolled": true
   },
   "outputs": [],
   "source": [
    "# Dump for website\n",
    "\n",
    "user_products_sentence__prior.drop(columns=['product_id']).to_csv('user_products_sentence__prior(web).csv', index=False)"
   ]
  },
  {
   "cell_type": "code",
   "execution_count": 937,
   "metadata": {},
   "outputs": [
    {
     "data": {
      "text/html": [
       "<div>\n",
       "<style scoped>\n",
       "    .dataframe tbody tr th:only-of-type {\n",
       "        vertical-align: middle;\n",
       "    }\n",
       "\n",
       "    .dataframe tbody tr th {\n",
       "        vertical-align: top;\n",
       "    }\n",
       "\n",
       "    .dataframe thead th {\n",
       "        text-align: right;\n",
       "    }\n",
       "</style>\n",
       "<table border=\"1\" class=\"dataframe\">\n",
       "  <thead>\n",
       "    <tr style=\"text-align: right;\">\n",
       "      <th></th>\n",
       "      <th>user_id</th>\n",
       "    </tr>\n",
       "  </thead>\n",
       "  <tbody>\n",
       "    <tr>\n",
       "      <th>0</th>\n",
       "      <td>1</td>\n",
       "    </tr>\n",
       "    <tr>\n",
       "      <th>1</th>\n",
       "      <td>2</td>\n",
       "    </tr>\n",
       "    <tr>\n",
       "      <th>2</th>\n",
       "      <td>3</td>\n",
       "    </tr>\n",
       "    <tr>\n",
       "      <th>3</th>\n",
       "      <td>4</td>\n",
       "    </tr>\n",
       "    <tr>\n",
       "      <th>4</th>\n",
       "      <td>5</td>\n",
       "    </tr>\n",
       "  </tbody>\n",
       "</table>\n",
       "</div>"
      ],
      "text/plain": [
       "   user_id\n",
       "0        1\n",
       "1        2\n",
       "2        3\n",
       "3        4\n",
       "4        5"
      ]
     },
     "execution_count": 937,
     "metadata": {},
     "output_type": "execute_result"
    }
   ],
   "source": [
    "testdf2 = pd.read_csv('user_products_sentence__prior(web).csv')\n",
    "testdf2.head()"
   ]
  },
  {
   "cell_type": "markdown",
   "metadata": {},
   "source": [
    "# Model"
   ]
  },
  {
   "cell_type": "code",
   "execution_count": 804,
   "metadata": {
    "collapsed": true
   },
   "outputs": [],
   "source": [
    "tfidf = TfidfVectorizer(stop_words='english')\n",
    "tfidf_matrix = tfidf.fit_transform(user_products_sentence__prior['product_id'])"
   ]
  },
  {
   "cell_type": "code",
   "execution_count": 905,
   "metadata": {},
   "outputs": [
    {
     "data": {
      "text/plain": [
       "['tfidx_matrix.pkl']"
      ]
     },
     "execution_count": 905,
     "metadata": {},
     "output_type": "execute_result"
    }
   ],
   "source": [
    "joblib.dump(tfidf, 'tfidf.pkl')\n",
    "joblib.dump(tfidf_matrix, 'tfidx_matrix.pkl')"
   ]
  },
  {
   "cell_type": "code",
   "execution_count": 33,
   "metadata": {
    "collapsed": true
   },
   "outputs": [],
   "source": [
    "# This will convert your user_ids to the matrix indices\n",
    "indices = pd.Series(user_products_sentence__prior.index, index=user_products_sentence__prior['user_id']).drop_duplicates()"
   ]
  },
  {
   "cell_type": "code",
   "execution_count": 34,
   "metadata": {
    "collapsed": true,
    "scrolled": true
   },
   "outputs": [],
   "source": [
    "#cosine_sim = linear_kernel(tfidf_matrix, tfidf_matrix)\n",
    "# Not enough memory for this unfortunately"
   ]
  },
  {
   "cell_type": "code",
   "execution_count": null,
   "metadata": {
    "collapsed": true
   },
   "outputs": [],
   "source": [
    "# This approach also doesn't work due to memory issues\n",
    "\n",
    "# # Function that takes in user_id as input and outputs most similar movies\n",
    "# def get_recommendations(user_id, cosine_sim=cosine_sim, k):\n",
    "#     # Get the index of the user that matches the user_id\n",
    "#     idx = indices[user_id]\n",
    "\n",
    "#     # Get the pairwsie similarity scores of all movies with that movie\n",
    "#     sim_scores = list(enumerate(cosine_sim[idx]))\n",
    "\n",
    "#     # Sort the users based on the similarity scores\n",
    "#     sim_scores = sorted(sim_scores, key=lambda x: x[1], reverse=True)\n",
    "\n",
    "#     # Get the scores of the k most similar movies, skip the first one since it will be itself\n",
    "#     sim_scores = sim_scores[1:k]\n",
    "\n",
    "#     # Get the user indices\n",
    "#     user_indices = [i[0] for i in sim_scores]\n",
    "\n",
    "#     # Return the top 10 most similar users\n",
    "#     return user_products_sentence__prior['user_id'].iloc[user_indices]"
   ]
  },
  {
   "cell_type": "code",
   "execution_count": 897,
   "metadata": {
    "collapsed": true
   },
   "outputs": [],
   "source": [
    "# Function that takes in user_id as input and outputs recommended products\n",
    "def get_recommendations(user_id, k, n=10, include_prev=True):\n",
    "    # Get the index of the user that matches the user_id\n",
    "    idx = indices[user_id]\n",
    "    \n",
    "    cosine_sim = linear_kernel(tfidf_matrix[idx], tfidf_matrix)[0]\n",
    "\n",
    "    # Get the pairwsie similarity scores of all users\n",
    "    sim_scores = list(enumerate(cosine_sim))\n",
    "\n",
    "    # Sort the users based on the similarity scores\n",
    "    sim_scores = sorted(sim_scores, key=lambda x: x[1], reverse=True)\n",
    "    \n",
    "    # Get the scores of the k most similar users, skip the first one since it will be itself\n",
    "    sim_scores = sim_scores[1:(k+1)]\n",
    "\n",
    "    # Get the user indices\n",
    "    user_indices = [i[0] for i in sim_scores]\n",
    "\n",
    "    # The top k most similar users\n",
    "    top_k_users = user_products_sentence__prior['user_id'].iloc[user_indices]\n",
    "    \n",
    "    # The products purchased from these top k users\n",
    "    top_k_user_products = user_products_lookup.loc[top_k_users]\n",
    "    product_list = [i for j in top_k_user_products['product_id'].tolist() for i in j]\n",
    "    \n",
    "    # Count the frequency of the items purchased and sort by popularity\n",
    "    product_counts = dict(Counter(product_list))\n",
    "    popular_products = sorted(product_counts, key=product_counts.get, reverse=True)\n",
    "    \n",
    "    if include_prev:\n",
    "        # Return the top n purchaed product by the k most similar users\n",
    "        return popular_products[:n]\n",
    "    \n",
    "    else:\n",
    "        # In this case we filter out items the user has already purchased\n",
    "        prev_purchases = get_previously_purchased_products(user_id)\n",
    "        popular_new_products = [product for product in popular_products if product not in prev_purchases]\n",
    "        \n",
    "        return popular_new_products[:n]"
   ]
  },
  {
   "cell_type": "code",
   "execution_count": 250,
   "metadata": {
    "collapsed": true
   },
   "outputs": [],
   "source": [
    "# Recommener function will output product_ids. Use this dict to then get human names for food\n",
    "product_id_to_name_dict = pd.Series(products['product_name'].values, index=products['product_id']).to_dict()\n",
    "\n",
    "def product_id_to_name(product_ids):\n",
    "    return [product_id_to_name_dict[id] for id in product_ids]"
   ]
  },
  {
   "cell_type": "code",
   "execution_count": 915,
   "metadata": {
    "collapsed": true,
    "scrolled": true
   },
   "outputs": [],
   "source": [
    "# Export this for website\n",
    "dump(product_id_to_name_dict, open('product_id_to_name_dict.pickle', 'wb'))"
   ]
  },
  {
   "cell_type": "code",
   "execution_count": 343,
   "metadata": {
    "collapsed": true
   },
   "outputs": [],
   "source": [
    "def get_products_really_purcased(user_id, include_prev=True):\n",
    "    purchased_products = user_products__train.loc[user_id].tolist()[0]\n",
    "    if include_prev:\n",
    "        return purchased_products\n",
    "    else:\n",
    "        prev_purchase = get_previously_purchased_products(user_id)\n",
    "        \n",
    "        return [product for product in purchased_products if product not in prev_purchase]"
   ]
  },
  {
   "cell_type": "code",
   "execution_count": 313,
   "metadata": {
    "collapsed": true
   },
   "outputs": [],
   "source": [
    "def get_previously_purchased_products(user_id):\n",
    "    return prior_orders_lookup.loc[user_id].tolist()[0]"
   ]
  },
  {
   "cell_type": "markdown",
   "metadata": {},
   "source": [
    "## Example"
   ]
  },
  {
   "cell_type": "code",
   "execution_count": 319,
   "metadata": {
    "scrolled": true
   },
   "outputs": [
    {
     "data": {
      "text/plain": [
       "['Soda',\n",
       " 'Organic Unsweetened Vanilla Almond Milk',\n",
       " 'Original Beef Jerky',\n",
       " 'Aged White Cheddar Popcorn',\n",
       " 'XL Pick-A-Size Paper Towel Rolls',\n",
       " 'Soda',\n",
       " 'Pistachios',\n",
       " 'Original Beef Jerky',\n",
       " 'Bag of Organic Bananas',\n",
       " 'Aged White Cheddar Popcorn',\n",
       " 'Cinnamon Toast Crunch',\n",
       " 'Soda',\n",
       " 'Original Beef Jerky',\n",
       " 'Pistachios',\n",
       " 'Organic String Cheese',\n",
       " 'Creamy Almond Butter',\n",
       " 'Soda',\n",
       " 'Original Beef Jerky',\n",
       " 'Pistachios',\n",
       " 'Organic String Cheese',\n",
       " 'XL Pick-A-Size Paper Towel Rolls',\n",
       " 'Soda',\n",
       " 'Original Beef Jerky',\n",
       " 'Pistachios',\n",
       " 'Organic String Cheese',\n",
       " 'Organic Fuji Apples',\n",
       " 'Honeycrisp Apples',\n",
       " 'Bartlett Pears',\n",
       " 'Bag of Organic Bananas',\n",
       " 'Soda',\n",
       " 'Original Beef Jerky',\n",
       " 'Pistachios',\n",
       " 'Organic String Cheese',\n",
       " 'Soda',\n",
       " 'Pistachios',\n",
       " 'Original Beef Jerky',\n",
       " 'Organic String Cheese',\n",
       " 'Cinnamon Toast Crunch',\n",
       " 'Original Beef Jerky',\n",
       " 'Soda',\n",
       " 'Pistachios',\n",
       " 'Organic String Cheese',\n",
       " 'Zero Calorie Cola',\n",
       " 'Organic Half & Half',\n",
       " 'Organic Half & Half',\n",
       " 'Zero Calorie Cola',\n",
       " 'Organic String Cheese',\n",
       " 'Soda',\n",
       " 'Pistachios',\n",
       " 'Original Beef Jerky',\n",
       " 'Soda',\n",
       " 'Zero Calorie Cola',\n",
       " 'Milk Chocolate Almonds',\n",
       " '0% Greek Strained Yogurt',\n",
       " 'Organic String Cheese',\n",
       " 'Pistachios',\n",
       " 'Organic Unsweetened Almond Milk',\n",
       " 'Cinnamon Toast Crunch',\n",
       " 'Original Beef Jerky']"
      ]
     },
     "execution_count": 319,
     "metadata": {},
     "output_type": "execute_result"
    }
   ],
   "source": [
    "product_id_to_name(get_previously_purchased_products(1))"
   ]
  },
  {
   "cell_type": "code",
   "execution_count": 876,
   "metadata": {
    "scrolled": false
   },
   "outputs": [
    {
     "data": {
      "text/plain": [
       "['Soda',\n",
       " 'Original Beef Jerky',\n",
       " 'Zero Calorie Cola',\n",
       " 'Bag of Organic Bananas',\n",
       " 'Pistachios',\n",
       " 'Trail Mix',\n",
       " 'Clementines',\n",
       " '0% Greek Strained Yogurt',\n",
       " 'Almonds',\n",
       " 'Extra Fancy Unsalted Mixed Nuts']"
      ]
     },
     "execution_count": 876,
     "metadata": {},
     "output_type": "execute_result"
    }
   ],
   "source": [
    "product_id_to_name(get_recommendations(1, 200))"
   ]
  },
  {
   "cell_type": "code",
   "execution_count": 877,
   "metadata": {
    "scrolled": false
   },
   "outputs": [
    {
     "data": {
      "text/plain": [
       "['Trail Mix',\n",
       " 'Clementines',\n",
       " 'Almonds',\n",
       " 'Extra Fancy Unsalted Mixed Nuts',\n",
       " \"Crunchy Oats 'n Honey Granola Bars\",\n",
       " 'Mineral Water',\n",
       " 'Mixed Fruit Fruit Snacks',\n",
       " 'Dried Mangos',\n",
       " 'Hass Avocados',\n",
       " 'Mozzarella String Cheese']"
      ]
     },
     "execution_count": 877,
     "metadata": {},
     "output_type": "execute_result"
    }
   ],
   "source": [
    "product_id_to_name(get_recommendations(1, 200, include_prev=False))"
   ]
  },
  {
   "cell_type": "markdown",
   "metadata": {},
   "source": [
    "Takes around a second for each prediction—which is very long when I think of all the test data I have"
   ]
  },
  {
   "cell_type": "code",
   "execution_count": 875,
   "metadata": {
    "scrolled": true
   },
   "outputs": [
    {
     "data": {
      "text/plain": [
       "['Soda',\n",
       " 'Organic String Cheese',\n",
       " '0% Greek Strained Yogurt',\n",
       " 'XL Pick-A-Size Paper Towel Rolls',\n",
       " 'Milk Chocolate Almonds',\n",
       " 'Pistachios',\n",
       " 'Cinnamon Toast Crunch',\n",
       " 'Aged White Cheddar Popcorn',\n",
       " 'Organic Whole Milk',\n",
       " 'Organic Half & Half',\n",
       " 'Zero Calorie Cola']"
      ]
     },
     "execution_count": 875,
     "metadata": {},
     "output_type": "execute_result"
    }
   ],
   "source": [
    "product_id_to_name(get_products_really_purcased(1))"
   ]
  },
  {
   "cell_type": "markdown",
   "metadata": {},
   "source": [
    "# Hyperparameter optimization"
   ]
  },
  {
   "cell_type": "code",
   "execution_count": 346,
   "metadata": {
    "collapsed": true
   },
   "outputs": [],
   "source": [
    "def get_model_accuracy(user_ids, k, n=10, include_prev=True):\n",
    "    accuracies = []\n",
    "    for user_id in user_ids:\n",
    "        recommended_items = set(get_recommendations(user_id, k, n, include_prev))\n",
    "        real_items = set(get_products_really_purcased(user_id, include_prev))\n",
    "        if len(real_items) != 0:\n",
    "            accuracy = len(recommended_items.intersection(real_items)) / len(real_items)\n",
    "            accuracies.append(accuracy)\n",
    "    model_accuracy = np.mean(accuracies)\n",
    "    return model_accuracy"
   ]
  },
  {
   "cell_type": "markdown",
   "metadata": {},
   "source": [
    "## Including previous purchases"
   ]
  },
  {
   "cell_type": "code",
   "execution_count": null,
   "metadata": {
    "collapsed": true
   },
   "outputs": [],
   "source": [
    "# While it would be nice to do this, it simply takes too long\n",
    "k_values = [50, 100, 200, 300]\n",
    "\n",
    "accuracies = {}\n",
    "for k in k_values:\n",
    "    accuracy = get_model_accuracy(test_subjects, k, n=10)\n",
    "    accuracies[k] = accuracy\n",
    "    print(f\"{k}: {accuracy * 100}%\")"
   ]
  },
  {
   "cell_type": "code",
   "execution_count": 290,
   "metadata": {
    "collapsed": true
   },
   "outputs": [],
   "source": [
    "random_users = choices(test_subjects, k=10000)"
   ]
  },
  {
   "cell_type": "code",
   "execution_count": null,
   "metadata": {
    "collapsed": true
   },
   "outputs": [],
   "source": [
    "start = time.time()\n",
    "k_values = [50, 100, 200]\n",
    "\n",
    "accuracies = {}\n",
    "for k in k_values:\n",
    "    accuracy = get_model_accuracy(random_users, k, n=10)\n",
    "    print(f\"{k}: {accuracy * 100}%\")\n",
    "    accuracies[k] = accuracy\n",
    "print(f\"This took {time.time() - start}s\")"
   ]
  },
  {
   "cell_type": "code",
   "execution_count": 292,
   "metadata": {},
   "outputs": [
    {
     "data": {
      "text/plain": [
       "{50: 0.2207089333842549, 100: 0.22730919134017813, 200: 0.22774171324152867}"
      ]
     },
     "execution_count": 292,
     "metadata": {},
     "output_type": "execute_result"
    }
   ],
   "source": [
    "accuracies"
   ]
  },
  {
   "cell_type": "markdown",
   "metadata": {},
   "source": [
    "{50: 0.2207089333842549, 100: 0.22730919134017813, 200: 0.22774171324152867}"
   ]
  },
  {
   "cell_type": "code",
   "execution_count": 294,
   "metadata": {
    "collapsed": true
   },
   "outputs": [],
   "source": [
    "random_users2 = choices(test_subjects, k=10000)"
   ]
  },
  {
   "cell_type": "markdown",
   "metadata": {},
   "source": [
    "I used another random sampling to see by around how much these accuracies vary depending on the sampling\n",
    "\n",
    "50: 21.91890341054359%\n",
    "This took 9648.1039788723s\n",
    "100: 22.69994431324306%\n",
    "This took 9667.498548269272s"
   ]
  },
  {
   "cell_type": "code",
   "execution_count": null,
   "metadata": {},
   "outputs": [
    {
     "name": "stdout",
     "output_type": "stream",
     "text": [
      "10: 18.32212244437322%\n",
      "This took 9851.811056137085s\n"
     ]
    }
   ],
   "source": [
    "k_values = [10, 25, 50]\n",
    "\n",
    "accuracies = {}\n",
    "for k in k_values:\n",
    "    start = time.time()\n",
    "    accuracy = get_model_accuracy(random_users2, k, n=10)\n",
    "    print(f\"{k}: {accuracy * 100}%\")\n",
    "    accuracies[k] = accuracy\n",
    "    print(f\"This took {time.time() - start}s\")"
   ]
  },
  {
   "cell_type": "code",
   "execution_count": 298,
   "metadata": {},
   "outputs": [
    {
     "data": {
      "text/plain": [
       "{10: 0.1832212244437322, 25: 0.20579167290986902, 50: 0.2191890341054359}"
      ]
     },
     "execution_count": 298,
     "metadata": {},
     "output_type": "execute_result"
    }
   ],
   "source": [
    "accuracies"
   ]
  },
  {
   "cell_type": "markdown",
   "metadata": {
    "collapsed": true
   },
   "source": [
    "{10: 0.1832212244437322, 25: 0.20579167290986902, 50: 0.2191890341054359}"
   ]
  },
  {
   "cell_type": "markdown",
   "metadata": {
    "collapsed": true
   },
   "source": [
    "## Only new purchases"
   ]
  },
  {
   "cell_type": "code",
   "execution_count": null,
   "metadata": {
    "collapsed": true,
    "scrolled": true
   },
   "outputs": [],
   "source": [
    "k_valuse = [50, 100, 300]\n",
    "\n",
    "accuracies = {}\n",
    "for k in k_values:\n",
    "    start = time.time()\n",
    "    accuracy = get_model_accuracy(random_users2, k, n=10, include_prev=False)\n",
    "    print(f\"{k}: {accuracy * 100}%\")\n",
    "    accuracies[k] = accuracy\n",
    "    print(f\"This took {time.time() - start}s\")"
   ]
  },
  {
   "cell_type": "markdown",
   "metadata": {},
   "source": [
    "# Recommendation engine"
   ]
  },
  {
   "cell_type": "markdown",
   "metadata": {},
   "source": [
    "## Sparse matrix constructor"
   ]
  },
  {
   "cell_type": "code",
   "execution_count": 851,
   "metadata": {
    "collapsed": true
   },
   "outputs": [],
   "source": [
    "def make_sparse(user_selection_sentence, tfidf_model=tfidf):\n",
    "    # Input is \"sentence\" of a string of product ids. First convert to a list of string product ids\n",
    "    selected_products = (user_selection_sentence.split())\n",
    "    unique_products = list(set(selected_products))\n",
    "    \n",
    "    # Now make this into a sparse matrix\n",
    "    \n",
    "    # Make matrix coordinates\n",
    "    sparse_row = [0 for product in unique_products] # Just one row—so all values 0\n",
    "    product_col = {} # Take coordinates from previous product vectorization\n",
    "    for product in unique_products:\n",
    "        product_col[product] = tfidf_model.vocabulary_[product]\n",
    "    \n",
    "    # Make a dictionary to look up established idf weights by their terms\n",
    "    idf_weights = dict(zip(tfidf_model.get_feature_names(),tfidf_model.idf_))\n",
    "    \n",
    "    # Get data from above dict pased on user selected products\n",
    "    product_weight = {}\n",
    "    for product in selected_products:\n",
    "        if product in product_weight:\n",
    "            product_weight[product] += idf_weights[product]\n",
    "        else:\n",
    "            product_weight[product] = idf_weights[product]\n",
    "    \n",
    "    # Get eveything in the same order\n",
    "    sparse_col = []\n",
    "    sparse_data = []\n",
    "    for product in unique_products:\n",
    "        sparse_col.append(product_col[product])\n",
    "        sparse_data.append(product_weight[product])\n",
    "    \n",
    "    \n",
    "    vector_mag = np.linalg.norm(sparse_data) # Normalize data\n",
    "    normed_sparse_data = [weight / vector_mag for weight in sparse_data]\n",
    "    \n",
    "    \n",
    "    # Construct matrix\n",
    "    sparse_mtrx = csr_matrix((normed_sparse_data, (sparse_row, sparse_col)), shape=(1, len(tfidf_model.get_feature_names())))\n",
    "    return sparse_mtrx"
   ]
  },
  {
   "cell_type": "markdown",
   "metadata": {
    "heading_collapsed": true
   },
   "source": [
    "### Example"
   ]
  },
  {
   "cell_type": "code",
   "execution_count": 852,
   "metadata": {
    "collapsed": true,
    "hidden": true,
    "scrolled": true
   },
   "outputs": [],
   "source": [
    "test_sparse = make_sparse(user_selection[0])"
   ]
  },
  {
   "cell_type": "code",
   "execution_count": 853,
   "metadata": {
    "hidden": true,
    "scrolled": true
   },
   "outputs": [
    {
     "name": "stdout",
     "output_type": "stream",
     "text": [
      "  (0, 288)\t0.5568375119899436\n",
      "  (0, 364)\t0.050791457361779715\n",
      "  (0, 2698)\t0.5200530407919848\n",
      "  (0, 3371)\t0.1631715705027685\n",
      "  (0, 3530)\t0.03897656945587028\n",
      "  (0, 4539)\t0.04677673659345217\n",
      "  (0, 7915)\t0.04317823250405664\n",
      "  (0, 10666)\t0.3803507238381845\n",
      "  (0, 16815)\t0.41904552560272096\n",
      "  (0, 17874)\t0.11057929962464196\n",
      "  (0, 18227)\t0.12022824569228034\n",
      "  (0, 22720)\t0.03667593396478088\n",
      "  (0, 28831)\t0.03301374192895708\n",
      "  (0, 32134)\t0.04926795594368525\n",
      "  (0, 32944)\t0.05521308097106601\n",
      "  (0, 35310)\t0.0341141619775235\n",
      "  (0, 40155)\t0.1572255428828079\n",
      "  (0, 43583)\t0.06290912449056552\n"
     ]
    }
   ],
   "source": [
    "print(test_sparse)"
   ]
  },
  {
   "cell_type": "code",
   "execution_count": 843,
   "metadata": {
    "hidden": true
   },
   "outputs": [
    {
     "name": "stdout",
     "output_type": "stream",
     "text": [
      "  (0, 10666)\t0.3803507238381845\n",
      "  (0, 4539)\t0.046776736593452176\n",
      "  (0, 2698)\t0.5200530407919849\n",
      "  (0, 17874)\t0.11057929962464197\n",
      "  (0, 18227)\t0.12022824569228036\n",
      "  (0, 288)\t0.5568375119899436\n",
      "  (0, 3530)\t0.03897656945587029\n",
      "  (0, 3371)\t0.16317157050276854\n",
      "  (0, 16815)\t0.419045525602721\n",
      "  (0, 22720)\t0.03667593396478088\n",
      "  (0, 364)\t0.050791457361779715\n",
      "  (0, 7915)\t0.04317823250405664\n",
      "  (0, 35310)\t0.0341141619775235\n",
      "  (0, 40155)\t0.1572255428828079\n",
      "  (0, 43583)\t0.06290912449056552\n",
      "  (0, 32944)\t0.05521308097106602\n",
      "  (0, 32134)\t0.04926795594368526\n",
      "  (0, 28831)\t0.03301374192895708\n"
     ]
    }
   ],
   "source": [
    "print(tfidf_matrix[indices[1]])"
   ]
  },
  {
   "cell_type": "markdown",
   "metadata": {},
   "source": [
    "## Recommender"
   ]
  },
  {
   "cell_type": "code",
   "execution_count": 898,
   "metadata": {
    "collapsed": true
   },
   "outputs": [],
   "source": [
    "# Function that takes in products a user likes and outputs recommended products\n",
    "def get_recommended_products(user_selection_sentence, k, n=10, include_prev=False, tfidf_model=tfidf, debug=False):\n",
    "    \n",
    "    product_mtrx = make_sparse(user_selection_sentence, tfidf_model=tfidf)\n",
    "    cosine_sim = linear_kernel(product_mtrx, tfidf_matrix)[0]\n",
    "\n",
    "    # Get the pairwsie similarity scores of all users\n",
    "    sim_scores = list(enumerate(cosine_sim))\n",
    "\n",
    "    # Sort the users based on the similarity scores\n",
    "    sim_scores = sorted(sim_scores, key=lambda x: x[1], reverse=True)\n",
    "    \n",
    "    # Get top k scores\n",
    "    if debug:\n",
    "        sim_scores = sim_scores[1:(k+1)] # In debug mode I'll want to skip the best match since it will just be the input user\n",
    "    else:\n",
    "        sim_scores = sim_scores[:k]\n",
    "\n",
    "    # Get the user indices\n",
    "    user_indices = [i[0] for i in sim_scores]\n",
    "\n",
    "    # The top k most similar users\n",
    "    top_k_users = user_products_sentence__prior['user_id'].iloc[user_indices]\n",
    "    \n",
    "    # The products purchased from these top k users\n",
    "    top_k_user_products = user_products_lookup.loc[top_k_users]\n",
    "    product_list = [i for j in top_k_user_products['product_id'].tolist() for i in j]\n",
    "    \n",
    "    # Count the frequency of the items purchased and sort by popularity\n",
    "    product_counts = dict(Counter(product_list))\n",
    "    popular_products = sorted(product_counts, key=product_counts.get, reverse=True)\n",
    "    \n",
    "    if include_prev:\n",
    "        # Return the top n purchaed product by the k most similar users\n",
    "        return popular_products[:n]\n",
    "    \n",
    "    else:\n",
    "        # In this case we filter out items the user has already purchased\n",
    "        prev_purchases = user_selection_sentence.split()\n",
    "        prev_purchases = list(map(int, prev_purchases))\n",
    "        popular_new_products = [product for product in popular_products if product not in prev_purchases]\n",
    "        \n",
    "        return popular_new_products[:n]"
   ]
  },
  {
   "cell_type": "markdown",
   "metadata": {},
   "source": [
    "### Example"
   ]
  },
  {
   "cell_type": "code",
   "execution_count": 900,
   "metadata": {
    "scrolled": true
   },
   "outputs": [
    {
     "data": {
      "text/plain": [
       "['Soda',\n",
       " 'Original Beef Jerky',\n",
       " 'Zero Calorie Cola',\n",
       " 'Bag of Organic Bananas',\n",
       " 'Pistachios',\n",
       " 'Trail Mix',\n",
       " 'Clementines',\n",
       " '0% Greek Strained Yogurt',\n",
       " 'Almonds',\n",
       " 'Extra Fancy Unsalted Mixed Nuts']"
      ]
     },
     "execution_count": 900,
     "metadata": {},
     "output_type": "execute_result"
    }
   ],
   "source": [
    "product_id_to_name(get_recommended_products(user_selection[0], 200, include_prev=True, debug=True))"
   ]
  },
  {
   "cell_type": "markdown",
   "metadata": {},
   "source": [
    "Actual recommended items from prev model\n",
    "\n",
    "['Soda',\n",
    " 'Original Beef Jerky',\n",
    " 'Zero Calorie Cola',\n",
    " 'Bag of Organic Bananas',\n",
    " 'Pistachios',\n",
    " 'Trail Mix',\n",
    " 'Clementines',\n",
    " '0% Greek Strained Yogurt',\n",
    " 'Almonds',\n",
    " 'Extra Fancy Unsalted Mixed Nuts']"
   ]
  },
  {
   "cell_type": "code",
   "execution_count": 901,
   "metadata": {},
   "outputs": [
    {
     "data": {
      "text/plain": [
       "['Trail Mix',\n",
       " 'Clementines',\n",
       " 'Almonds',\n",
       " 'Extra Fancy Unsalted Mixed Nuts',\n",
       " \"Crunchy Oats 'n Honey Granola Bars\",\n",
       " 'Mineral Water',\n",
       " 'Mixed Fruit Fruit Snacks',\n",
       " 'Dried Mangos',\n",
       " 'Hass Avocados',\n",
       " 'Mozzarella String Cheese']"
      ]
     },
     "execution_count": 901,
     "metadata": {},
     "output_type": "execute_result"
    }
   ],
   "source": [
    "product_id_to_name(get_recommended_products(user_selection[0], 200, include_prev=False, debug=True))"
   ]
  },
  {
   "cell_type": "markdown",
   "metadata": {},
   "source": [
    "Actual recommended items from prev model\n",
    "\n",
    "['Trail Mix',\n",
    " 'Clementines',\n",
    " 'Almonds',\n",
    " 'Extra Fancy Unsalted Mixed Nuts',\n",
    " \"Crunchy Oats 'n Honey Granola Bars\",\n",
    " 'Mineral Water',\n",
    " 'Mixed Fruit Fruit Snacks',\n",
    " 'Dried Mangos',\n",
    " 'Hass Avocados',\n",
    " 'Mozzarella String Cheese']"
   ]
  },
  {
   "cell_type": "code",
   "execution_count": 907,
   "metadata": {
    "collapsed": true
   },
   "outputs": [],
   "source": [
    "tfidf = joblib.load('tfidf.pkl')\n",
    "tfidf_matrix = joblib.load('tfidx_matrix.pkl')"
   ]
  },
  {
   "cell_type": "markdown",
   "metadata": {},
   "source": [
    "Use these pickle loaders for actual program"
   ]
  }
 ],
 "metadata": {
  "kernelspec": {
   "display_name": "Python 3",
   "language": "python",
   "name": "python3"
  },
  "language_info": {
   "codemirror_mode": {
    "name": "ipython",
    "version": 3
   },
   "file_extension": ".py",
   "mimetype": "text/x-python",
   "name": "python",
   "nbconvert_exporter": "python",
   "pygments_lexer": "ipython3",
   "version": "3.6.2"
  }
 },
 "nbformat": 4,
 "nbformat_minor": 2
}
